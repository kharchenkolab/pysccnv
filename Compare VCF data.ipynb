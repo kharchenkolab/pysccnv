{
 "cells": [
  {
   "cell_type": "markdown",
   "metadata": {},
   "source": [
    "# Compare VCF data"
   ]
  },
  {
   "cell_type": "code",
   "execution_count": 47,
   "metadata": {},
   "outputs": [
    {
     "name": "stdout",
     "output_type": "stream",
     "text": [
      "^C\r\n"
     ]
    }
   ],
   "source": [
    "!samtools depth WES_ICC/HCC1239_1_3.dedupped.realigned.recal.bam > reads.sort.coverage"
   ]
  },
  {
   "cell_type": "code",
   "execution_count": 17,
   "metadata": {},
   "outputs": [
    {
     "name": "stdout",
     "output_type": "stream",
     "text": [
      "Collecting intervaltree\n",
      "Requirement already satisfied: sortedcontainers<3.0,>=2.0 in ./venv/lib/python3.7/site-packages (from intervaltree) (2.1.0)\n",
      "Installing collected packages: intervaltree\n",
      "Successfully installed intervaltree-3.0.2\n",
      "\u001b[33mWARNING: You are using pip version 19.1.1, however version 19.2.1 is available.\n",
      "You should consider upgrading via the 'pip install --upgrade pip' command.\u001b[0m\n"
     ]
    }
   ],
   "source": [
    "!venv/bin/pip install intervaltree"
   ]
  },
  {
   "cell_type": "code",
   "execution_count": 9,
   "metadata": {},
   "outputs": [
    {
     "name": "stdout",
     "output_type": "stream",
     "text": [
      "/d0/home/adamk/pysccnv\r\n"
     ]
    }
   ],
   "source": [
    "!source echo $PWD"
   ]
  },
  {
   "cell_type": "code",
   "execution_count": 42,
   "metadata": {},
   "outputs": [],
   "source": [
    "from intervaltree import Interval, IntervalTree"
   ]
  },
  {
   "cell_type": "code",
   "execution_count": 43,
   "metadata": {},
   "outputs": [],
   "source": [
    "test_coverage = \"\"\"chr1    10009   1\n",
    "chr1    10010   2\n",
    "chr1    10011   5\n",
    "chr1    10012   4\n",
    "chr1    10013   5\n",
    "chr1    10014   5\n",
    "chr1    10015   5\n",
    "chr2    10016   5\n",
    "chr2    10017   5\n",
    "chr2    10018   5\n",
    "chr2    10019   2\n",
    "chr2    10020   5\"\"\""
   ]
  },
  {
   "cell_type": "code",
   "execution_count": 98,
   "metadata": {
    "scrolled": true
   },
   "outputs": [],
   "source": [
    "def coverage_by_chromosome(iterable, threshold):\n",
    "    coverage_intervals = []\n",
    "    total_coverage = {}\n",
    "    last_chromosome = None\n",
    "    last_streak = False\n",
    "    try:\n",
    "        while True:\n",
    "            elem = next(iterable)\n",
    "            chromosome, coord, coverage = elem.split()\n",
    "            if not last_chromosome:\n",
    "                last_chromosome = chromosome\n",
    "            coord = int(coord)\n",
    "            coverage = int(coverage)\n",
    "            streak = coverage >= threshold\n",
    "            if chromosome != last_chromosome:\n",
    "                if streak:\n",
    "                    current_interval.append(coord - 1)\n",
    "                    coverage_intervals.append(current_interval)\n",
    "                total_coverage[last_chromosome] = coverage_intervals\n",
    "                coverage_intervals = []\n",
    "                last_streak = False\n",
    "\n",
    "            if not last_streak and streak:\n",
    "                current_interval = [coord]\n",
    "            if last_streak and not streak:\n",
    "                current_interval.append(coord - 1)\n",
    "                coverage_intervals.append(current_interval)\n",
    "                current_interval = []\n",
    "            last_streak = streak\n",
    "            last_chromosome = chromosome\n",
    "    except StopIteration:\n",
    "        if streak:\n",
    "            current_interval.append(coord)\n",
    "            coverage_intervals.append(current_interval)\n",
    "        total_coverage[last_chromosome] = coverage_intervals\n",
    "    return total_coverage"
   ]
  },
  {
   "cell_type": "code",
   "execution_count": 99,
   "metadata": {},
   "outputs": [],
   "source": [
    "iterable = (i for i in test_coverage.split(\"\\n\"))\n",
    "threshold = 5\n",
    "result = coverage_by_chromosome(iterable, threshold)\n",
    "assert result == {'chr1': [[10011, 10011], [10013, 10015]], 'chr2': [[10016, 10018], [10020, 10020]]}"
   ]
  },
  {
   "cell_type": "code",
   "execution_count": 100,
   "metadata": {},
   "outputs": [],
   "source": [
    "def make_intervaltrees(chromomsome_intervals):\n",
    "    intervaltrees = {}\n",
    "    for c, intervals in chromomsome_intervals.items():\n",
    "        it = intervaltrees.setdefault(c, IntervalTree())\n",
    "        for interval in intervals:\n",
    "            it[interval[0]: interval[1] + 1] = None\n",
    "    return intervaltrees"
   ]
  },
  {
   "cell_type": "code",
   "execution_count": 101,
   "metadata": {},
   "outputs": [],
   "source": [
    "test_coverage2 = \"\"\"chr1    110703   5\n",
    "chr1    110704   2\n",
    "chr1    110705   5\n",
    "chr1    110706   4\n",
    "chr1    110707   5\n",
    "chr1    110708   5\n",
    "chr1    110709   5\n",
    "chr1    110710   5\n",
    "chr1    110711   5\n",
    "chr1    110712   5\n",
    "chr1    110713   2\n",
    "chr1    110714   5\"\"\""
   ]
  },
  {
   "cell_type": "code",
   "execution_count": 102,
   "metadata": {},
   "outputs": [
    {
     "data": {
      "text/plain": [
       "{'chr1': [[110703, 110703],\n",
       "  [110705, 110705],\n",
       "  [110707, 110712],\n",
       "  [110714, 110714]]}"
      ]
     },
     "execution_count": 102,
     "metadata": {},
     "output_type": "execute_result"
    }
   ],
   "source": [
    "coverage_by_chromosome((i for i in test_coverage2.split(\"\\n\")), 5)"
   ]
  },
  {
   "cell_type": "code",
   "execution_count": 103,
   "metadata": {},
   "outputs": [],
   "source": [
    "test_intervaltrees2 = make_intervaltrees(coverage_by_chromosome((i for i in test_coverage2.split(\"\\n\")), 5))"
   ]
  },
  {
   "cell_type": "code",
   "execution_count": 104,
   "metadata": {},
   "outputs": [
    {
     "data": {
      "text/plain": [
       "{'chr1': IntervalTree([Interval(110703, 110704), Interval(110705, 110706), Interval(110707, 110713), Interval(110714, 110715)])}"
      ]
     },
     "execution_count": 104,
     "metadata": {},
     "output_type": "execute_result"
    }
   ],
   "source": [
    "test_intervaltrees2"
   ]
  },
  {
   "cell_type": "code",
   "execution_count": 105,
   "metadata": {},
   "outputs": [
    {
     "ename": "KeyboardInterrupt",
     "evalue": "",
     "output_type": "error",
     "traceback": [
      "\u001b[0;31m---------------------------------------------------------------------------\u001b[0m",
      "\u001b[0;31mKeyboardInterrupt\u001b[0m                         Traceback (most recent call last)",
      "\u001b[0;32m<ipython-input-105-763720dbe0b6>\u001b[0m in \u001b[0;36m<module>\u001b[0;34m\u001b[0m\n\u001b[1;32m      1\u001b[0m \u001b[0;32mwith\u001b[0m \u001b[0mopen\u001b[0m\u001b[0;34m(\u001b[0m\u001b[0;34m\"reads.sort.coverage\"\u001b[0m\u001b[0;34m)\u001b[0m \u001b[0;32mas\u001b[0m \u001b[0mf\u001b[0m\u001b[0;34m:\u001b[0m\u001b[0;34m\u001b[0m\u001b[0;34m\u001b[0m\u001b[0m\n\u001b[0;32m----> 2\u001b[0;31m     \u001b[0mcoverage_intervals\u001b[0m \u001b[0;34m=\u001b[0m \u001b[0mcoverage_by_chromosome\u001b[0m\u001b[0;34m(\u001b[0m\u001b[0mf\u001b[0m\u001b[0;34m,\u001b[0m \u001b[0;36m5\u001b[0m\u001b[0;34m)\u001b[0m\u001b[0;34m\u001b[0m\u001b[0;34m\u001b[0m\u001b[0m\n\u001b[0m",
      "\u001b[0;32m<ipython-input-98-ac2bc518d25f>\u001b[0m in \u001b[0;36mcoverage_by_chromosome\u001b[0;34m(iterable, threshold)\u001b[0m\n\u001b[1;32m      7\u001b[0m         \u001b[0;32mwhile\u001b[0m \u001b[0;32mTrue\u001b[0m\u001b[0;34m:\u001b[0m\u001b[0;34m\u001b[0m\u001b[0;34m\u001b[0m\u001b[0m\n\u001b[1;32m      8\u001b[0m             \u001b[0melem\u001b[0m \u001b[0;34m=\u001b[0m \u001b[0mnext\u001b[0m\u001b[0;34m(\u001b[0m\u001b[0miterable\u001b[0m\u001b[0;34m)\u001b[0m\u001b[0;34m\u001b[0m\u001b[0;34m\u001b[0m\u001b[0m\n\u001b[0;32m----> 9\u001b[0;31m             \u001b[0mchromosome\u001b[0m\u001b[0;34m,\u001b[0m \u001b[0mcoord\u001b[0m\u001b[0;34m,\u001b[0m \u001b[0mcoverage\u001b[0m \u001b[0;34m=\u001b[0m \u001b[0melem\u001b[0m\u001b[0;34m.\u001b[0m\u001b[0msplit\u001b[0m\u001b[0;34m(\u001b[0m\u001b[0;34m)\u001b[0m\u001b[0;34m\u001b[0m\u001b[0;34m\u001b[0m\u001b[0m\n\u001b[0m\u001b[1;32m     10\u001b[0m             \u001b[0;32mif\u001b[0m \u001b[0;32mnot\u001b[0m \u001b[0mlast_chromosome\u001b[0m\u001b[0;34m:\u001b[0m\u001b[0;34m\u001b[0m\u001b[0;34m\u001b[0m\u001b[0m\n\u001b[1;32m     11\u001b[0m                 \u001b[0mlast_chromosome\u001b[0m \u001b[0;34m=\u001b[0m \u001b[0mchromosome\u001b[0m\u001b[0;34m\u001b[0m\u001b[0;34m\u001b[0m\u001b[0m\n",
      "\u001b[0;31mKeyboardInterrupt\u001b[0m: "
     ]
    }
   ],
   "source": [
    "with open(\"reads.sort.coverage\") as f:\n",
    "    coverage_intervals = coverage_by_chromosome(f, 5)"
   ]
  },
  {
   "cell_type": "code",
   "execution_count": 106,
   "metadata": {},
   "outputs": [
    {
     "data": {
      "text/plain": [
       "{'chr1': IntervalTree([Interval(110703, 110704), Interval(110705, 110706), Interval(110707, 110713), Interval(110714, 110715)])}"
      ]
     },
     "execution_count": 106,
     "metadata": {},
     "output_type": "execute_result"
    }
   ],
   "source": [
    "test_intervaltrees2"
   ]
  },
  {
   "cell_type": "code",
   "execution_count": 113,
   "metadata": {},
   "outputs": [
    {
     "name": "stdout",
     "output_type": "stream",
     "text": [
      "Help on package vcf:\n",
      "\n",
      "NAME\n",
      "    vcf - A VCFv4.0 and 4.1 parser for Python.\n",
      "\n",
      "DESCRIPTION\n",
      "    Online version of PyVCF documentation is available at http://pyvcf.rtfd.org/\n",
      "\n",
      "PACKAGE CONTENTS\n",
      "    filters\n",
      "    model\n",
      "    parser\n",
      "    sample_filter\n",
      "    test (package)\n",
      "    utils\n",
      "\n",
      "DATA\n",
      "    RESERVED_FORMAT = {'AHAP': 'Integer', 'CN': 'Integer', 'CNL': 'Float',...\n",
      "    RESERVED_INFO = {'1000G': 'Flag', 'AA': 'String', 'AC': 'Integer', 'AF...\n",
      "    VERSION = '0.6.8'\n",
      "\n",
      "FILE\n",
      "    /d0/home/adamk/pysccnv/venv/lib/python3.7/site-packages/vcf/__init__.py\n",
      "\n",
      "\n"
     ]
    }
   ],
   "source": [
    "help(vcf)"
   ]
  },
  {
   "cell_type": "code",
   "execution_count": 114,
   "metadata": {},
   "outputs": [
    {
     "name": "stdout",
     "output_type": "stream",
     "text": [
      "Help on class Writer in module vcf.parser:\n",
      "\n",
      "class Writer(builtins.object)\n",
      " |  Writer(stream, template, lineterminator='\\n')\n",
      " |  \n",
      " |  VCF Writer. On Windows Python 2, open stream with 'wb'.\n",
      " |  \n",
      " |  Methods defined here:\n",
      " |  \n",
      " |  __init__(self, stream, template, lineterminator='\\n')\n",
      " |      Initialize self.  See help(type(self)) for accurate signature.\n",
      " |  \n",
      " |  close(self)\n",
      " |      Close the writer\n",
      " |  \n",
      " |  flush(self)\n",
      " |      Flush the writer\n",
      " |  \n",
      " |  write_record(self, record)\n",
      " |      write a record to the file\n",
      " |  \n",
      " |  ----------------------------------------------------------------------\n",
      " |  Data descriptors defined here:\n",
      " |  \n",
      " |  __dict__\n",
      " |      dictionary for instance variables (if defined)\n",
      " |  \n",
      " |  __weakref__\n",
      " |      list of weak references to the object (if defined)\n",
      " |  \n",
      " |  ----------------------------------------------------------------------\n",
      " |  Data and other attributes defined here:\n",
      " |  \n",
      " |  counts = {None: '.', -1: 'A', -2: 'G', -3: 'R'}\n",
      "\n"
     ]
    }
   ],
   "source": [
    "help(vcf.Writer)"
   ]
  },
  {
   "cell_type": "code",
   "execution_count": 121,
   "metadata": {},
   "outputs": [],
   "source": [
    "import vcf\n",
    "def filter_vcf(filename, limit=-1, chrom_limit=\"\", phased=False, min_qual=50):\n",
    "    write_to = \".\".join(filename.split(\".\")[:-1]) + \".filtered.vcf\"\n",
    "    reader = vcf.Reader(filename=filename)\n",
    "    with open(write_to, \"w\") as f:\n",
    "        writer = vcf.Writer(f, reader)\n",
    "        for i, record in enumerate(reader):\n",
    "            #print(record.samples[0])\n",
    "            #print(record.CHROM, record.POS)\n",
    "            if record.CHROM == chrom_limit:\n",
    "                break\n",
    "            if i == limit:\n",
    "                break\n",
    "            if record.samples[0].data.GQ < min_qual:\n",
    "                continue\n",
    "            if test_intervaltrees2[record.CHROM][record.POS]:\n",
    "                writer.write_record(record)"
   ]
  },
  {
   "cell_type": "code",
   "execution_count": 122,
   "metadata": {},
   "outputs": [],
   "source": [
    "wes_vcf = filter_vcf(\"reverse_jewish_son.vcf.gz\", limit=100)"
   ]
  },
  {
   "cell_type": "code",
   "execution_count": null,
   "metadata": {},
   "outputs": [],
   "source": []
  }
 ],
 "metadata": {
  "kernelspec": {
   "display_name": "Python 3",
   "language": "python",
   "name": "python3"
  },
  "language_info": {
   "codemirror_mode": {
    "name": "ipython",
    "version": 3
   },
   "file_extension": ".py",
   "mimetype": "text/x-python",
   "name": "python",
   "nbconvert_exporter": "python",
   "pygments_lexer": "ipython3",
   "version": "3.7.3"
  }
 },
 "nbformat": 4,
 "nbformat_minor": 2
}
