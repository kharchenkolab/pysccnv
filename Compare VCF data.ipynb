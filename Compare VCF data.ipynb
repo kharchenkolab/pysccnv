{
 "cells": [
  {
   "cell_type": "markdown",
   "metadata": {},
   "source": [
    "# Compare VCF data"
   ]
  },
  {
   "cell_type": "code",
   "execution_count": null,
   "metadata": {},
   "outputs": [],
   "source": [
    "!venv/bin/pip install intervaltree"
   ]
  },
  {
   "cell_type": "code",
   "execution_count": 124,
   "metadata": {},
   "outputs": [],
   "source": [
    "!samtools depth WES_ICC/HCC1239_1_3.dedupped.realigned.recal.bam > reads.sort.coverage"
   ]
  },
  {
   "cell_type": "code",
   "execution_count": 137,
   "metadata": {},
   "outputs": [],
   "source": [
    "from intervaltree import Interval, IntervalTree\n",
    "import vcf"
   ]
  },
  {
   "cell_type": "code",
   "execution_count": 126,
   "metadata": {},
   "outputs": [],
   "source": [
    "test_coverage = \"\"\"chr1    10009   1\n",
    "chr1    10010   2\n",
    "chr1    10011   5\n",
    "chr1    10012   4\n",
    "chr1    10013   5\n",
    "chr1    10014   5\n",
    "chr1    10015   5\n",
    "chr2    10016   5\n",
    "chr2    10017   5\n",
    "chr2    10018   5\n",
    "chr2    10019   2\n",
    "chr2    10020   5\"\"\""
   ]
  },
  {
   "cell_type": "code",
   "execution_count": 127,
   "metadata": {
    "scrolled": true
   },
   "outputs": [],
   "source": [
    "def coverage_by_chromosome(iterable, threshold):\n",
    "    coverage_intervals = []\n",
    "    total_coverage = {}\n",
    "    last_chromosome = None\n",
    "    last_streak = False\n",
    "    try:\n",
    "        while True:\n",
    "            elem = next(iterable)\n",
    "            chromosome, coord, coverage = elem.split()\n",
    "            if not last_chromosome:\n",
    "                last_chromosome = chromosome\n",
    "            coord = int(coord)\n",
    "            coverage = int(coverage)\n",
    "            streak = coverage >= threshold\n",
    "            if chromosome != last_chromosome:\n",
    "                if streak:\n",
    "                    current_interval.append(coord - 1)\n",
    "                    coverage_intervals.append(current_interval)\n",
    "                total_coverage[last_chromosome] = coverage_intervals\n",
    "                coverage_intervals = []\n",
    "                last_streak = False\n",
    "\n",
    "            if not last_streak and streak:\n",
    "                current_interval = [coord]\n",
    "            if last_streak and not streak:\n",
    "                current_interval.append(coord - 1)\n",
    "                coverage_intervals.append(current_interval)\n",
    "                current_interval = []\n",
    "            last_streak = streak\n",
    "            last_chromosome = chromosome\n",
    "    except StopIteration:\n",
    "        if streak:\n",
    "            current_interval.append(coord)\n",
    "            coverage_intervals.append(current_interval)\n",
    "        total_coverage[last_chromosome] = coverage_intervals\n",
    "    return total_coverage"
   ]
  },
  {
   "cell_type": "code",
   "execution_count": 128,
   "metadata": {},
   "outputs": [],
   "source": [
    "iterable = (i for i in test_coverage.split(\"\\n\"))\n",
    "threshold = 5\n",
    "result = coverage_by_chromosome(iterable, threshold)\n",
    "assert result == {'chr1': [[10011, 10011], [10013, 10015]], 'chr2': [[10016, 10018], [10020, 10020]]}"
   ]
  },
  {
   "cell_type": "code",
   "execution_count": 129,
   "metadata": {},
   "outputs": [],
   "source": [
    "def make_intervaltrees(chromomsome_intervals):\n",
    "    intervaltrees = {}\n",
    "    for c, intervals in chromomsome_intervals.items():\n",
    "        it = intervaltrees.setdefault(c, IntervalTree())\n",
    "        for interval in intervals:\n",
    "            it[interval[0]: interval[1] + 1] = None\n",
    "    return intervaltrees"
   ]
  },
  {
   "cell_type": "code",
   "execution_count": 130,
   "metadata": {},
   "outputs": [],
   "source": [
    "test_coverage2 = \"\"\"chr1    110703   5\n",
    "chr1    110704   2\n",
    "chr1    110705   5\n",
    "chr1    110706   4\n",
    "chr1    110707   5\n",
    "chr1    110708   5\n",
    "chr1    110709   5\n",
    "chr1    110710   5\n",
    "chr1    110711   5\n",
    "chr1    110712   5\n",
    "chr1    110713   2\n",
    "chr1    110714   5\"\"\""
   ]
  },
  {
   "cell_type": "code",
   "execution_count": 132,
   "metadata": {},
   "outputs": [],
   "source": [
    "test_intervaltrees2 = make_intervaltrees(coverage_by_chromosome((i for i in test_coverage2.split(\"\\n\")), 5))"
   ]
  },
  {
   "cell_type": "code",
   "execution_count": 133,
   "metadata": {},
   "outputs": [
    {
     "data": {
      "text/plain": [
       "{'chr1': IntervalTree([Interval(110703, 110704), Interval(110705, 110706), Interval(110707, 110713), Interval(110714, 110715)])}"
      ]
     },
     "execution_count": 133,
     "metadata": {},
     "output_type": "execute_result"
    }
   ],
   "source": [
    "test_intervaltrees2"
   ]
  },
  {
   "cell_type": "code",
   "execution_count": 134,
   "metadata": {},
   "outputs": [],
   "source": [
    "with open(\"reads.sort.coverage\") as f:\n",
    "    coverage_intervals = coverage_by_chromosome(f, 5)"
   ]
  },
  {
   "cell_type": "code",
   "execution_count": 135,
   "metadata": {},
   "outputs": [],
   "source": [
    "coverage_intervals = make_intervaltrees(coverage_intervals)"
   ]
  },
  {
   "cell_type": "code",
   "execution_count": 141,
   "metadata": {},
   "outputs": [],
   "source": [
    "#coverage_intervals[\"chr1\"][861347]"
   ]
  },
  {
   "cell_type": "code",
   "execution_count": 142,
   "metadata": {},
   "outputs": [],
   "source": [
    "def filter_vcf(filename, coverage_intervals, limit=-1, chrom_limit=\"\", phased=False, min_qual=50):\n",
    "    write_to = \".\".join(filename.split(\".\")[:-1]) + \".filtered.vcf\"\n",
    "    reader = vcf.Reader(filename=filename)\n",
    "    with open(write_to, \"w\") as f:\n",
    "        writer = vcf.Writer(f, reader)\n",
    "        for i, record in enumerate(reader):\n",
    "            #print(record.samples[0])\n",
    "            #print(record.CHROM, record.POS)\n",
    "            if record.CHROM == chrom_limit:\n",
    "                break\n",
    "            if i == limit:\n",
    "                break\n",
    "            if record.samples[0].data.GQ < min_qual:\n",
    "                continue\n",
    "            if coverage_intervals[record.CHROM][record.POS]:\n",
    "                writer.write_record(record)"
   ]
  },
  {
   "cell_type": "code",
   "execution_count": 144,
   "metadata": {},
   "outputs": [],
   "source": [
    "filter_vcf(\"reverse_jewish_son.vcf.gz\", coverage_intervals)"
   ]
  }
 ],
 "metadata": {
  "kernelspec": {
   "display_name": "Python 3",
   "language": "python",
   "name": "python3"
  },
  "language_info": {
   "codemirror_mode": {
    "name": "ipython",
    "version": 3
   },
   "file_extension": ".py",
   "mimetype": "text/x-python",
   "name": "python",
   "nbconvert_exporter": "python",
   "pygments_lexer": "ipython3",
   "version": "3.7.3"
  }
 },
 "nbformat": 4,
 "nbformat_minor": 2
}
