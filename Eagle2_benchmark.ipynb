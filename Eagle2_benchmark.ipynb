{
 "cells": [
  {
   "cell_type": "code",
   "execution_count": 3,
   "metadata": {},
   "outputs": [
    {
     "name": "stdout",
     "output_type": "stream",
     "text": [
      "Collecting pyvcf\n",
      "  Downloading https://files.pythonhosted.org/packages/20/b6/36bfb1760f6983788d916096193fc14c83cce512c7787c93380e09458c09/PyVCF-0.6.8.tar.gz\n",
      "Requirement already satisfied: setuptools in ./venv/lib/python3.7/site-packages (from pyvcf) (41.0.1)\n",
      "Building wheels for collected packages: pyvcf\n",
      "  Building wheel for pyvcf (setup.py) ... \u001b[?25ldone\n",
      "\u001b[?25h  Stored in directory: /home/adamk/.cache/pip/wheels/81/91/41/3272543c0b9c61da9c525f24ee35bae6fe8f60d4858c66805d\n",
      "Successfully built pyvcf\n",
      "Installing collected packages: pyvcf\n",
      "Successfully installed pyvcf-0.6.8\n"
     ]
    }
   ],
   "source": [
    "!pip install pyvcf"
   ]
  },
  {
   "cell_type": "code",
   "execution_count": 138,
   "metadata": {},
   "outputs": [
    {
     "name": "stdout",
     "output_type": "stream",
     "text": [
      "Requirement already satisfied: sortedcontainers in ./venv/lib/python3.7/site-packages (2.1.0)\r\n"
     ]
    }
   ],
   "source": [
    "!pip install sortedcontainers"
   ]
  },
  {
   "cell_type": "code",
   "execution_count": 5,
   "metadata": {},
   "outputs": [
    {
     "name": "stdout",
     "output_type": "stream",
     "text": [
      "Collecting matplotlib\n",
      "\u001b[?25l  Downloading https://files.pythonhosted.org/packages/19/7a/60bd79c5d79559150f8bba866dd7d434f0a170312e4d15e8aefa5faba294/matplotlib-3.1.1-cp37-cp37m-manylinux1_x86_64.whl (13.1MB)\n",
      "\u001b[K     |████████████████████████████████| 13.1MB 5.8MB/s eta 0:00:01\n",
      "\u001b[?25hCollecting pyparsing!=2.0.4,!=2.1.2,!=2.1.6,>=2.0.1 (from matplotlib)\n",
      "\u001b[?25l  Downloading https://files.pythonhosted.org/packages/dd/d9/3ec19e966301a6e25769976999bd7bbe552016f0d32b577dc9d63d2e0c49/pyparsing-2.4.0-py2.py3-none-any.whl (62kB)\n",
      "\u001b[K     |████████████████████████████████| 71kB 21.2MB/s eta 0:00:01\n",
      "\u001b[?25hCollecting kiwisolver>=1.0.1 (from matplotlib)\n",
      "\u001b[?25l  Downloading https://files.pythonhosted.org/packages/93/f8/518fb0bb89860eea6ff1b96483fbd9236d5ee991485d0f3eceff1770f654/kiwisolver-1.1.0-cp37-cp37m-manylinux1_x86_64.whl (90kB)\n",
      "\u001b[K     |████████████████████████████████| 92kB 22.8MB/s eta 0:00:01\n",
      "\u001b[?25hCollecting numpy>=1.11 (from matplotlib)\n",
      "\u001b[?25l  Downloading https://files.pythonhosted.org/packages/fc/d1/45be1144b03b6b1e24f9a924f23f66b4ad030d834ad31fb9e5581bd328af/numpy-1.16.4-cp37-cp37m-manylinux1_x86_64.whl (17.3MB)\n",
      "\u001b[K     |████████████████████████████████| 17.3MB 21.2MB/s eta 0:00:01\n",
      "\u001b[?25hCollecting cycler>=0.10 (from matplotlib)\n",
      "  Downloading https://files.pythonhosted.org/packages/f7/d2/e07d3ebb2bd7af696440ce7e754c59dd546ffe1bbe732c8ab68b9c834e61/cycler-0.10.0-py2.py3-none-any.whl\n",
      "Requirement already satisfied: python-dateutil>=2.1 in ./venv/lib/python3.7/site-packages (from matplotlib) (2.8.0)\n",
      "Requirement already satisfied: setuptools in ./venv/lib/python3.7/site-packages (from kiwisolver>=1.0.1->matplotlib) (41.0.1)\n",
      "Requirement already satisfied: six in ./venv/lib/python3.7/site-packages (from cycler>=0.10->matplotlib) (1.12.0)\n",
      "Installing collected packages: pyparsing, kiwisolver, numpy, cycler, matplotlib\n",
      "Successfully installed cycler-0.10.0 kiwisolver-1.1.0 matplotlib-3.1.1 numpy-1.16.4 pyparsing-2.4.0\n"
     ]
    }
   ],
   "source": [
    "!pip install matplotlib"
   ]
  },
  {
   "cell_type": "code",
   "execution_count": 3,
   "metadata": {
    "colab": {},
    "colab_type": "code",
    "id": "QnPy_qBmG-ci"
   },
   "outputs": [],
   "source": [
    "import random\n",
    "import vcf\n",
    "import collections\n",
    "import sortedcontainers\n",
    "import subprocess\n",
    "import matplotlib.pyplot as plt\n",
    "%matplotlib inline\n",
    "import sortedcontainers\n",
    "import subprocess\n",
    "import numpy as np\n",
    "import time\n",
    "from intervaltree import Interval, IntervalTree\n",
    "import os"
   ]
  },
  {
   "cell_type": "markdown",
   "metadata": {
    "colab_type": "text",
    "id": "RDUMKZqK235S"
   },
   "source": [
    "# Benchmark of Eagle2\n",
    "\n",
    "SNPs occur throughout human genome, including coding and non-coding regions. In this study we attempt to answer the following question:\n",
    "\n",
    "Can modern phasing tools, supported with modern, large haplotype/genotype datasets (e.g. 1000 Genome project or the Haplotype Reference Consortium), assign a correct haplotype to SNPs situated in neighbouring genes?\n",
    "\n",
    "We answer this question by studying two high-quality benchmark genomes, obtained as part of the Genome In A Bottle (GIAB) consortium. These datasets are:\n",
    "\n",
    "1. the Ashkenazim Jewish trio (done)\n",
    "2. the Asian trio (TODO).\n",
    "\n",
    "A probabilistic answer to the question, i.e. \"yes they can with probability 85%\" would be satisfactory."
   ]
  },
  {
   "cell_type": "markdown",
   "metadata": {
    "colab_type": "text",
    "id": "LdVRpo5E8GrC"
   },
   "source": [
    "# Check the amount of space on the machine. At least 50 GB of space required\n",
    "\n"
   ]
  },
  {
   "cell_type": "code",
   "execution_count": 8,
   "metadata": {
    "colab": {
     "base_uri": "https://localhost:8080/",
     "height": 161
    },
    "colab_type": "code",
    "id": "NEs--Sfe2Hm_",
    "outputId": "d45c7443-ddb6-422f-8d9e-e908e7fb6eed"
   },
   "outputs": [
    {
     "name": "stdout",
     "output_type": "stream",
     "text": [
      "Filesystem      Size  Used Avail Use% Mounted on\r\n",
      "/dev/sda1       219T  146T   74T  67% /d0\r\n"
     ]
    }
   ],
   "source": [
    "!df -h $PWD"
   ]
  },
  {
   "cell_type": "markdown",
   "metadata": {
    "colab_type": "text",
    "id": "BxWd8LiE8bgB"
   },
   "source": [
    "## Download Eagle"
   ]
  },
  {
   "cell_type": "code",
   "execution_count": 9,
   "metadata": {
    "colab": {
     "base_uri": "https://localhost:8080/",
     "height": 215
    },
    "colab_type": "code",
    "id": "vdHBVoQQ2KAg",
    "outputId": "c23ca0e1-833a-4cfb-8b99-d47ceb6c5d5e",
    "scrolled": true
   },
   "outputs": [
    {
     "name": "stdout",
     "output_type": "stream",
     "text": [
      "--2019-07-16 15:14:05--  https://data.broadinstitute.org/alkesgroup/Eagle/downloads/Eagle_v2.4.1.tar.gz\n",
      "Resolving data.broadinstitute.org (data.broadinstitute.org)... 69.173.92.29\n",
      "Connecting to data.broadinstitute.org (data.broadinstitute.org)|69.173.92.29|:443... connected.\n",
      "HTTP request sent, awaiting response... 200 OK\n",
      "Length: 225286865 (215M) [application/x-gzip]\n",
      "Saving to: ‘Eagle_v2.4.1.tar.gz’\n",
      "\n",
      "Eagle_v2.4.1.tar.gz 100%[===================>] 214.85M  17.0MB/s    in 13s     \n",
      "\n",
      "2019-07-16 15:14:18 (16.9 MB/s) - ‘Eagle_v2.4.1.tar.gz’ saved [225286865/225286865]\n",
      "\n"
     ]
    }
   ],
   "source": [
    "!wget https://data.broadinstitute.org/alkesgroup/Eagle/downloads/Eagle_v2.4.1.tar.gz"
   ]
  },
  {
   "cell_type": "code",
   "execution_count": 10,
   "metadata": {
    "colab": {
     "base_uri": "https://localhost:8080/",
     "height": 1000
    },
    "colab_type": "code",
    "id": "DeGgIFyY2RNo",
    "outputId": "cfe1e7fb-b2c6-48af-deff-50ba826e8c7b"
   },
   "outputs": [
    {
     "name": "stdout",
     "output_type": "stream",
     "text": [
      "Eagle_v2.4.1/\n",
      "Eagle_v2.4.1/eagle\n",
      "Eagle_v2.4.1/example/\n",
      "Eagle_v2.4.1/example/target.vcf.gz\n",
      "Eagle_v2.4.1/example/ref.bcf.csi\n",
      "Eagle_v2.4.1/example/run_example.sh\n",
      "Eagle_v2.4.1/example/example_ref.log\n",
      "Eagle_v2.4.1/example/EUR_test.vcf.gz\n",
      "Eagle_v2.4.1/example/example.log\n",
      "Eagle_v2.4.1/example/target.vcf.gz.tbi\n",
      "Eagle_v2.4.1/example/run_example_ref.sh\n",
      "Eagle_v2.4.1/example/EUR_test.fam\n",
      "Eagle_v2.4.1/example/phased.vcf.gz\n",
      "Eagle_v2.4.1/example/target.phased.vcf.gz\n",
      "Eagle_v2.4.1/example/run_example_vcf.sh\n",
      "Eagle_v2.4.1/example/example_vcf.log\n",
      "Eagle_v2.4.1/example/EUR_test.bim\n",
      "Eagle_v2.4.1/example/phased.haps.gz\n",
      "Eagle_v2.4.1/example/ref.bcf\n",
      "Eagle_v2.4.1/example/phased.sample\n",
      "Eagle_v2.4.1/example/EUR_test.bed\n",
      "Eagle_v2.4.1/tables/\n",
      "Eagle_v2.4.1/tables/genetic_map_hg18_withX.txt.gz\n",
      "Eagle_v2.4.1/tables/genetic_map_hg38_withX.txt.gz\n",
      "Eagle_v2.4.1/tables/genetic_map_hg19_withX.txt.gz\n",
      "Eagle_v2.4.1/tables/genetic_map_1cMperMb.txt\n",
      "Eagle_v2.4.1/tables/genetic_map_hg17_withX.txt.gz\n",
      "Eagle_v2.4.1/src/\n",
      "Eagle_v2.4.1/src/EagleParams.hpp\n",
      "Eagle_v2.4.1/src/HapHedge.cpp\n",
      "Eagle_v2.4.1/src/MapInterpolater.hpp\n",
      "Eagle_v2.4.1/src/EagleImpMiss.cpp\n",
      "Eagle_v2.4.1/src/HapHedge.hpp\n",
      "Eagle_v2.4.1/src/EagleMain.cpp\n",
      "Eagle_v2.4.1/src/MemoryUtils.cpp\n",
      "Eagle_v2.4.1/src/Timer.cpp\n",
      "Eagle_v2.4.1/src/memcpy.cpp\n",
      "Eagle_v2.4.1/src/EaglePBWT.cpp\n",
      "Eagle_v2.4.1/src/FileUtils.hpp\n",
      "Eagle_v2.4.1/src/MemoryUtils.hpp\n",
      "Eagle_v2.4.1/src/GenoData.hpp\n",
      "Eagle_v2.4.1/src/NumericUtils.hpp\n",
      "Eagle_v2.4.1/src/Makefile\n",
      "Eagle_v2.4.1/src/Eagle.cpp\n",
      "Eagle_v2.4.1/src/COPYING\n",
      "Eagle_v2.4.1/src/FileUtils.cpp\n",
      "Eagle_v2.4.1/src/MapInterpolater.cpp\n",
      "Eagle_v2.4.1/src/LapackConst.hpp\n",
      "Eagle_v2.4.1/src/Types.hpp\n",
      "Eagle_v2.4.1/src/StringUtils.cpp\n",
      "Eagle_v2.4.1/src/DipTreePBWT.cpp\n",
      "Eagle_v2.4.1/src/GenoData.cpp\n",
      "Eagle_v2.4.1/src/SyncedVcfData.hpp\n",
      "Eagle_v2.4.1/src/DipTreePBWT.hpp\n",
      "Eagle_v2.4.1/src/Eagle.hpp\n",
      "Eagle_v2.4.1/src/Timer.hpp\n",
      "Eagle_v2.4.1/src/NumericUtils.cpp\n",
      "Eagle_v2.4.1/src/EagleParams.cpp\n",
      "Eagle_v2.4.1/src/Version.hpp\n",
      "Eagle_v2.4.1/src/StaticMultimap.hpp\n",
      "Eagle_v2.4.1/src/SyncedVcfData.cpp\n",
      "Eagle_v2.4.1/src/StringUtils.hpp\n",
      "Eagle_v2.4.1/src/StaticMultimap.cpp\n"
     ]
    }
   ],
   "source": [
    "!tar -xvf Eagle_v2.4.1.tar.gz"
   ]
  },
  {
   "cell_type": "code",
   "execution_count": 11,
   "metadata": {
    "colab": {
     "base_uri": "https://localhost:8080/",
     "height": 1000
    },
    "colab_type": "code",
    "id": "0oN0NSR12SgA",
    "outputId": "e47408fd-f98f-4dea-fce8-090b6990b07e"
   },
   "outputs": [
    {
     "name": "stdout",
     "output_type": "stream",
     "text": [
      "                      +-----------------------------+\r\n",
      "                      |                             |\r\n",
      "                      |   Eagle v2.4.1              |\r\n",
      "                      |   November 18, 2018         |\r\n",
      "                      |   Po-Ru Loh                 |\r\n",
      "                      |                             |\r\n",
      "                      +-----------------------------+\r\n",
      "\r\n",
      "Copyright (C) 2015-2018 Harvard University.\r\n",
      "Distributed under the GNU GPLv3+ open source license.\r\n",
      "\r\n",
      "Command line options:\r\n",
      "\r\n",
      "Eagle_v2.4.1/eagle \\\r\n",
      "    --help \r\n",
      "\r\n",
      "\r\n",
      "Options:\r\n",
      "\r\n",
      "  --geneticMapFile arg             HapMap genetic map provided with download: \r\n",
      "                                   tables/genetic_map_hg##.txt.gz\r\n",
      "  --outPrefix arg                  prefix for output files\r\n",
      "  --numThreads arg (=1)            number of computational threads\r\n",
      "\r\n",
      "Input options for phasing without a reference:\r\n",
      "  --bfile arg                      prefix of PLINK .fam, .bim, .bed files\r\n",
      "  --bfilegz arg                    prefix of PLINK .fam.gz, .bim.gz, .bed.gz \r\n",
      "                                   files\r\n",
      "  --fam arg                        PLINK .fam file (note: file names ending in \r\n",
      "                                   .gz are auto-decompressed)\r\n",
      "  --bim arg                        PLINK .bim file\r\n",
      "  --bed arg                        PLINK .bed file\r\n",
      "  --vcf arg                        [compressed] VCF/BCF file containing input \r\n",
      "                                   genotypes\r\n",
      "  --remove arg                     file(s) listing individuals to ignore (no \r\n",
      "                                   header; FID IID must be first two columns)\r\n",
      "  --exclude arg                    file(s) listing SNPs to ignore (no header; \r\n",
      "                                   SNP ID must be first column)\r\n",
      "  --maxMissingPerSnp arg (=0.1)    QC filter: max missing rate per SNP\r\n",
      "  --maxMissingPerIndiv arg (=0.1)  QC filter: max missing rate per person\r\n",
      "\r\n",
      "Input/output options for phasing using a reference panel:\r\n",
      "  --vcfRef arg                     tabix-indexed [compressed] VCF/BCF file for \r\n",
      "                                   reference haplotypes\r\n",
      "  --vcfTarget arg                  tabix-indexed [compressed] VCF/BCF file for \r\n",
      "                                   target genotypes\r\n",
      "  --vcfOutFormat arg (=.)          b|u|z|v: compressed BCF (b), uncomp BCF (u),\r\n",
      "                                   compressed VCF (z), uncomp VCF (v)\r\n",
      "  --noImpMissing                   disable imputation of missing target \r\n",
      "                                   genotypes (. or ./.)\r\n",
      "  --allowRefAltSwap                allow swapping of REF/ALT in target vs. ref \r\n",
      "                                   VCF\r\n",
      "  --outputUnphased                 output unphased sites (target-only, \r\n",
      "                                   multi-allelic, etc.)\r\n",
      "  --keepMissingPloidyX             assume missing genotypes have correct ploidy\r\n",
      "                                   (.=haploid, ./.=diploid)\r\n",
      "  --vcfExclude arg                 tabix-indexed [compressed] VCF/BCF file \r\n",
      "                                   containing variants to exclude from phasing\r\n",
      "\r\n",
      "Region selection options:\r\n",
      "  --chrom arg (=0)                 chromosome to analyze (if input has many)\r\n",
      "  --bpStart arg (=0)               minimum base pair position to analyze\r\n",
      "  --bpEnd arg (=1e9)               maximum base pair position to analyze\r\n",
      "  --bpFlanking arg (=0)            (ref-mode only) flanking region to use \r\n",
      "                                   during phasing but discard in output\r\n",
      "\r\n",
      "Algorithm options:\r\n",
      "  --Kpbwt arg (=10000)             number of conditioning haplotypes\r\n",
      "  --pbwtIters arg (=0)             number of PBWT phasing iterations (0=auto)\r\n",
      "  --expectIBDcM arg (=2.0)         expected length of haplotype copying (cM)\r\n",
      "  --histFactor arg (=0)            history length multiplier (0=auto)\r\n",
      "  --genoErrProb arg (=0.003)       estimated genotype error probability\r\n",
      "  --pbwtOnly                       in non-ref mode, use only PBWT iters \r\n",
      "                                   (automatic for sequence data)\r\n",
      "  --v1                             use Eagle1 phasing algorithm (instead of \r\n",
      "                                   default Eagle2 algorithm)\r\n",
      "\r\n"
     ]
    }
   ],
   "source": [
    "!Eagle_v2.4.1/eagle --help"
   ]
  },
  {
   "cell_type": "markdown",
   "metadata": {
    "colab_type": "text",
    "id": "NQblnPt2727H"
   },
   "source": [
    "# Download the GIAB datasets"
   ]
  },
  {
   "cell_type": "code",
   "execution_count": 12,
   "metadata": {
    "colab": {
     "base_uri": "https://localhost:8080/",
     "height": 307
    },
    "colab_type": "code",
    "id": "6-RUj8i-8E2R",
    "outputId": "0c6d275e-1d0f-4f5b-c1e9-bbdf6e16cd9a"
   },
   "outputs": [
    {
     "name": "stdout",
     "output_type": "stream",
     "text": [
      "--2019-07-16 15:14:32--  ftp://ftp-trace.ncbi.nlm.nih.gov/giab/ftp/release/AshkenazimTrio/HG002_NA24385_son/latest/GRCh38/HG002_GRCh38_GIAB_highconf_CG-Illfb-IllsentieonHC-Ion-10XsentieonHC-SOLIDgatkHC_CHROM1-22_v.3.3.2_highconf_triophased.vcf.gz\n",
      "           => ‘HG002_GRCh38_GIAB_highconf_CG-Illfb-IllsentieonHC-Ion-10XsentieonHC-SOLIDgatkHC_CHROM1-22_v.3.3.2_highconf_triophased.vcf.gz’\n",
      "Resolving ftp-trace.ncbi.nlm.nih.gov (ftp-trace.ncbi.nlm.nih.gov)... 130.14.250.11, 2607:f220:41e:250::13\n",
      "Connecting to ftp-trace.ncbi.nlm.nih.gov (ftp-trace.ncbi.nlm.nih.gov)|130.14.250.11|:21... connected.\n",
      "Logging in as anonymous ... Logged in!\n",
      "==> SYST ... done.    ==> PWD ... done.\n",
      "==> TYPE I ... done.  ==> CWD (1) /giab/ftp/release/AshkenazimTrio/HG002_NA24385_son/latest/GRCh38 ... done.\n",
      "==> SIZE HG002_GRCh38_GIAB_highconf_CG-Illfb-IllsentieonHC-Ion-10XsentieonHC-SOLIDgatkHC_CHROM1-22_v.3.3.2_highconf_triophased.vcf.gz ... 129195923\n",
      "==> PASV ... done.    ==> RETR HG002_GRCh38_GIAB_highconf_CG-Illfb-IllsentieonHC-Ion-10XsentieonHC-SOLIDgatkHC_CHROM1-22_v.3.3.2_highconf_triophased.vcf.gz ... done.\n",
      "Length: 129195923 (123M) (unauthoritative)\n",
      "\n",
      "HG002_GRCh38_GIAB_h 100%[===================>] 123.21M  64.2MB/s    in 1.9s    \n",
      "\n",
      "2019-07-16 15:14:34 (64.2 MB/s) - ‘HG002_GRCh38_GIAB_highconf_CG-Illfb-IllsentieonHC-Ion-10XsentieonHC-SOLIDgatkHC_CHROM1-22_v.3.3.2_highconf_triophased.vcf.gz’ saved [129195923]\n",
      "\n"
     ]
    }
   ],
   "source": [
    "!wget ftp://ftp-trace.ncbi.nlm.nih.gov/giab/ftp/release/AshkenazimTrio/HG002_NA24385_son/latest/GRCh38/HG002_GRCh38_GIAB_highconf_CG-Illfb-IllsentieonHC-Ion-10XsentieonHC-SOLIDgatkHC_CHROM1-22_v.3.3.2_highconf_triophased.vcf.gz"
   ]
  },
  {
   "cell_type": "code",
   "execution_count": 13,
   "metadata": {
    "colab": {},
    "colab_type": "code",
    "id": "y9yBQTg99_TB"
   },
   "outputs": [],
   "source": [
    "!mv HG002_GRCh38_GIAB_highconf_CG-Illfb-IllsentieonHC-Ion-10XsentieonHC-SOLIDgatkHC_CHROM1-22_v.3.3.2_highconf_triophased.vcf.gz jewish_son.vcf.gz"
   ]
  },
  {
   "cell_type": "code",
   "execution_count": 14,
   "metadata": {
    "colab": {
     "base_uri": "https://localhost:8080/",
     "height": 307
    },
    "colab_type": "code",
    "id": "iuopAbrp-RVP",
    "outputId": "00a02720-6439-4f90-faee-8c28c2604b77"
   },
   "outputs": [
    {
     "name": "stdout",
     "output_type": "stream",
     "text": [
      "--2019-07-16 15:14:38--  ftp://ftp-trace.ncbi.nlm.nih.gov/giab/ftp/release/AshkenazimTrio/HG003_NA24149_father/latest/GRCh38/HG003_GRCh38_GIAB_highconf_CG-Illfb-IllsentieonHC-Ion-10XsentieonHC_CHROM1-22_v.3.3.2_highconf.vcf.gz\n",
      "           => ‘HG003_GRCh38_GIAB_highconf_CG-Illfb-IllsentieonHC-Ion-10XsentieonHC_CHROM1-22_v.3.3.2_highconf.vcf.gz’\n",
      "Resolving ftp-trace.ncbi.nlm.nih.gov (ftp-trace.ncbi.nlm.nih.gov)... 130.14.250.13, 2607:f220:41e:250::7\n",
      "Connecting to ftp-trace.ncbi.nlm.nih.gov (ftp-trace.ncbi.nlm.nih.gov)|130.14.250.13|:21... connected.\n",
      "Logging in as anonymous ... Logged in!\n",
      "==> SYST ... done.    ==> PWD ... done.\n",
      "==> TYPE I ... done.  ==> CWD (1) /giab/ftp/release/AshkenazimTrio/HG003_NA24149_father/latest/GRCh38 ... done.\n",
      "==> SIZE HG003_GRCh38_GIAB_highconf_CG-Illfb-IllsentieonHC-Ion-10XsentieonHC_CHROM1-22_v.3.3.2_highconf.vcf.gz ... 110124812\n",
      "==> PASV ... done.    ==> RETR HG003_GRCh38_GIAB_highconf_CG-Illfb-IllsentieonHC-Ion-10XsentieonHC_CHROM1-22_v.3.3.2_highconf.vcf.gz ... done.\n",
      "Length: 110124812 (105M) (unauthoritative)\n",
      "\n",
      "HG003_GRCh38_GIAB_h 100%[===================>] 105.02M  70.5MB/s    in 1.5s    \n",
      "\n",
      "2019-07-16 15:14:40 (70.5 MB/s) - ‘HG003_GRCh38_GIAB_highconf_CG-Illfb-IllsentieonHC-Ion-10XsentieonHC_CHROM1-22_v.3.3.2_highconf.vcf.gz’ saved [110124812]\n",
      "\n"
     ]
    }
   ],
   "source": [
    "!wget ftp://ftp-trace.ncbi.nlm.nih.gov/giab/ftp/release/AshkenazimTrio/HG003_NA24149_father/latest/GRCh38/HG003_GRCh38_GIAB_highconf_CG-Illfb-IllsentieonHC-Ion-10XsentieonHC_CHROM1-22_v.3.3.2_highconf.vcf.gz"
   ]
  },
  {
   "cell_type": "code",
   "execution_count": 15,
   "metadata": {
    "colab": {},
    "colab_type": "code",
    "id": "0d4wrrEODpvN"
   },
   "outputs": [],
   "source": [
    "!mv HG003_GRCh38_GIAB_highconf_CG-Illfb-IllsentieonHC-Ion-10XsentieonHC_CHROM1-22_v.3.3.2_highconf.vcf.gz jewish_father.vcf.gz"
   ]
  },
  {
   "cell_type": "code",
   "execution_count": 16,
   "metadata": {
    "colab": {
     "base_uri": "https://localhost:8080/",
     "height": 307
    },
    "colab_type": "code",
    "id": "BhZb6vu4D4bc",
    "outputId": "bb0221cf-1758-4bbb-fc22-a8612430f11c"
   },
   "outputs": [
    {
     "name": "stdout",
     "output_type": "stream",
     "text": [
      "--2019-07-16 15:14:42--  ftp://ftp-trace.ncbi.nlm.nih.gov/giab/ftp/release/AshkenazimTrio/HG004_NA24143_mother/latest/GRCh38/HG004_GRCh38_GIAB_highconf_CG-Illfb-IllsentieonHC-Ion-10XsentieonHC_CHROM1-22_v.3.3.2_highconf.vcf.gz\n",
      "           => ‘HG004_GRCh38_GIAB_highconf_CG-Illfb-IllsentieonHC-Ion-10XsentieonHC_CHROM1-22_v.3.3.2_highconf.vcf.gz’\n",
      "Resolving ftp-trace.ncbi.nlm.nih.gov (ftp-trace.ncbi.nlm.nih.gov)... 130.14.250.13, 2607:f220:41e:250::7\n",
      "Connecting to ftp-trace.ncbi.nlm.nih.gov (ftp-trace.ncbi.nlm.nih.gov)|130.14.250.13|:21... connected.\n",
      "Logging in as anonymous ... Logged in!\n",
      "==> SYST ... done.    ==> PWD ... done.\n",
      "==> TYPE I ... done.  ==> CWD (1) /giab/ftp/release/AshkenazimTrio/HG004_NA24143_mother/latest/GRCh38 ... done.\n",
      "==> SIZE HG004_GRCh38_GIAB_highconf_CG-Illfb-IllsentieonHC-Ion-10XsentieonHC_CHROM1-22_v.3.3.2_highconf.vcf.gz ... 112000213\n",
      "==> PASV ... done.    ==> RETR HG004_GRCh38_GIAB_highconf_CG-Illfb-IllsentieonHC-Ion-10XsentieonHC_CHROM1-22_v.3.3.2_highconf.vcf.gz ... done.\n",
      "Length: 112000213 (107M) (unauthoritative)\n",
      "\n",
      "HG004_GRCh38_GIAB_h 100%[===================>] 106.81M  64.4MB/s    in 1.7s    \n",
      "\n",
      "2019-07-16 15:14:43 (64.4 MB/s) - ‘HG004_GRCh38_GIAB_highconf_CG-Illfb-IllsentieonHC-Ion-10XsentieonHC_CHROM1-22_v.3.3.2_highconf.vcf.gz’ saved [112000213]\n",
      "\n"
     ]
    }
   ],
   "source": [
    "!wget ftp://ftp-trace.ncbi.nlm.nih.gov/giab/ftp/release/AshkenazimTrio/HG004_NA24143_mother/latest/GRCh38/HG004_GRCh38_GIAB_highconf_CG-Illfb-IllsentieonHC-Ion-10XsentieonHC_CHROM1-22_v.3.3.2_highconf.vcf.gz"
   ]
  },
  {
   "cell_type": "code",
   "execution_count": 17,
   "metadata": {
    "colab": {},
    "colab_type": "code",
    "id": "sI8ELHDAEIW5"
   },
   "outputs": [],
   "source": [
    "!mv HG004_GRCh38_GIAB_highconf_CG-Illfb-IllsentieonHC-Ion-10XsentieonHC_CHROM1-22_v.3.3.2_highconf.vcf.gz jewish_mother.vcf.gz"
   ]
  },
  {
   "cell_type": "code",
   "execution_count": 18,
   "metadata": {
    "colab": {},
    "colab_type": "code",
    "id": "HzU4SYO7ESZe"
   },
   "outputs": [],
   "source": [
    "cp jewish_son.vcf.gz jewish_son_copy.vcf.gz"
   ]
  },
  {
   "cell_type": "code",
   "execution_count": 19,
   "metadata": {
    "colab": {},
    "colab_type": "code",
    "id": "8KIj8fmqET5K"
   },
   "outputs": [],
   "source": [
    "cp jewish_father.vcf.gz jewish_father_copy.vcf.gz"
   ]
  },
  {
   "cell_type": "code",
   "execution_count": 20,
   "metadata": {
    "colab": {},
    "colab_type": "code",
    "id": "TUJnp0EJErI_"
   },
   "outputs": [],
   "source": [
    "cp jewish_mother.vcf.gz jewish_mother_copy.vcf.gz"
   ]
  },
  {
   "cell_type": "code",
   "execution_count": 21,
   "metadata": {
    "colab": {},
    "colab_type": "code",
    "id": "omz-FH1BEvQf"
   },
   "outputs": [],
   "source": [
    "!gunzip jewish_mother_copy.vcf.gz"
   ]
  },
  {
   "cell_type": "code",
   "execution_count": 22,
   "metadata": {
    "colab": {},
    "colab_type": "code",
    "id": "UJaqC3cQExcZ"
   },
   "outputs": [],
   "source": [
    "!gunzip jewish_father_copy.vcf.gz"
   ]
  },
  {
   "cell_type": "code",
   "execution_count": 23,
   "metadata": {
    "colab": {},
    "colab_type": "code",
    "id": "ykxq09S1FFmV"
   },
   "outputs": [],
   "source": [
    "!gunzip jewish_son_copy.vcf.gz"
   ]
  },
  {
   "cell_type": "code",
   "execution_count": 24,
   "metadata": {
    "colab": {
     "base_uri": "https://localhost:8080/",
     "height": 71
    },
    "colab_type": "code",
    "id": "9Ogi7KckGdLD",
    "outputId": "b0ce7dee-9041-44ac-d7c8-42aaf6543246"
   },
   "outputs": [
    {
     "name": "stdout",
     "output_type": "stream",
     "text": [
      "Eagle2_benchmark.ipynb\tjewish_father.vcf.gz\tjewish_son.vcf.gz\r\n",
      "Eagle_v2.4.1\t\tjewish_mother_copy.vcf\tREADME.md\r\n",
      "Eagle_v2.4.1.tar.gz\tjewish_mother.vcf.gz\tVCF_HMM_stuff.ipynb\r\n",
      "jewish_father_copy.vcf\tjewish_son_copy.vcf\tvenv\r\n"
     ]
    }
   ],
   "source": [
    "!ls"
   ]
  },
  {
   "cell_type": "markdown",
   "metadata": {
    "colab_type": "text",
    "id": "4qNvaRbUGkWN"
   },
   "source": [
    "# Let's verify if the trio data was used correctly to phase the son genotype"
   ]
  },
  {
   "cell_type": "code",
   "execution_count": 13,
   "metadata": {
    "colab": {},
    "colab_type": "code",
    "id": "yp7TImqSJH1W"
   },
   "outputs": [],
   "source": [
    "def output_SNP():\n",
    "    alphabet = [\"A\", \"T\", \"G\", \"C\"]\n",
    "    pos = [random.randint(0, len(alphabet) - 1) for i in range(2)]\n",
    "    return [alphabet[i] for i in pos]"
   ]
  },
  {
   "cell_type": "code",
   "execution_count": 14,
   "metadata": {
    "colab": {},
    "colab_type": "code",
    "id": "x3PU0wMbJZ-g"
   },
   "outputs": [],
   "source": [
    "def create_genome(snp_length):\n",
    "    genome = []\n",
    "    for i in range(snp_length):\n",
    "        genome.append(output_SNP())\n",
    "    return genome"
   ]
  },
  {
   "cell_type": "code",
   "execution_count": 15,
   "metadata": {
    "colab": {},
    "colab_type": "code",
    "id": "knEdw5qkJbgr"
   },
   "outputs": [],
   "source": [
    "def cross_over(length):\n",
    "    start = random.randint(0, 1)\n",
    "    switch_over = random.randint(0, length - 1)\n",
    "    selection = [start]\n",
    "    for i in range(length - 1):\n",
    "        if i < switch_over:\n",
    "            selection.append(start)\n",
    "        else:\n",
    "            selection.append(int(not start))\n",
    "    return selection"
   ]
  },
  {
   "cell_type": "code",
   "execution_count": 16,
   "metadata": {
    "colab": {},
    "colab_type": "code",
    "id": "-RqH1OllJdJC"
   },
   "outputs": [],
   "source": [
    "def apply_cross_over(cross_over, genome):\n",
    "    return [genome[i][j] for i, j in zip(range(len(genome)), cross_over)]"
   ]
  },
  {
   "cell_type": "code",
   "execution_count": 17,
   "metadata": {
    "colab": {},
    "colab_type": "code",
    "id": "xdFkr3gCJfmC"
   },
   "outputs": [],
   "source": [
    "def dephase(genome):\n",
    "    dephased_genome = []\n",
    "    for snp in genome:\n",
    "        new_snp = [i for i in snp]\n",
    "        random.shuffle(new_snp)\n",
    "        dephased_genome.append(new_snp)\n",
    "    return dephased_genome"
   ]
  },
  {
   "cell_type": "code",
   "execution_count": 18,
   "metadata": {
    "colab": {},
    "colab_type": "code",
    "id": "7_51wwP6Jhqh"
   },
   "outputs": [],
   "source": [
    "def reproduce(genome1, genome2):\n",
    "    co1 = cross_over(len(genome1))\n",
    "    co2 = cross_over(len(genome2))\n",
    "    haplo1 = apply_cross_over(co1, genome1)\n",
    "    haplo2 = apply_cross_over(co2, genome2)\n",
    "    return [list(k) for k in zip(haplo1, haplo2)]"
   ]
  },
  {
   "cell_type": "code",
   "execution_count": 19,
   "metadata": {
    "colab": {},
    "colab_type": "code",
    "id": "ct-SeohHJjgG"
   },
   "outputs": [],
   "source": [
    "genome_length = 50\n",
    "\n",
    "genome1 = create_genome(genome_length)\n",
    "genome2 = create_genome(genome_length)\n",
    "offspring = reproduce(genome1, genome2)\n",
    "\n",
    "dephased_genome1 = dephase(genome1)\n",
    "dephased_genome2 = dephase(genome2)\n",
    "dephased_offspring = dephase(offspring)"
   ]
  },
  {
   "cell_type": "code",
   "execution_count": 20,
   "metadata": {
    "colab": {},
    "colab_type": "code",
    "id": "OwINLy6yJscK"
   },
   "outputs": [],
   "source": [
    "def phase_offspring(genome1, genome2, offspring):\n",
    "    possibilities = []\n",
    "    phased_offspring = []\n",
    "    for snp_o, snp_g1, snp_g2 in zip(offspring, genome1, genome2):\n",
    "        snp_o = [i for i in snp_o]\n",
    "        possibility = [[], []]\n",
    "        for k in range(0, 2):\n",
    "            if snp_o[k] in snp_g1:\n",
    "                possibility[k].append(0)\n",
    "            if snp_o[k] in snp_g2:\n",
    "                possibility[k].append(1)\n",
    "        possibilities.append(possibility)\n",
    "        # The end statements protect us against a common failure mode which is false homozygosity,\n",
    "        # i.e. calling a homozygous A/A as opposed to A/T due to low coverage on T\n",
    "        if   (possibility[0] == [0] and 1 in possibility[1]) or (possibility[1] == [1] and 0 in possibility[0]):\n",
    "            phased_offspring.append(snp_o + [\"|\"])\n",
    "        elif (possibility[1] == [0] and 1 in possibility[0]) or (possibility[0] == [1] and 0 in possibility[1]):\n",
    "            phased_offspring.append(snp_o[::-1] + [\"-|\"])\n",
    "        else:\n",
    "            phased_offspring.append(snp_o + [\"?\"])\n",
    "    return phased_offspring"
   ]
  },
  {
   "cell_type": "code",
   "execution_count": 21,
   "metadata": {
    "colab": {
     "base_uri": "https://localhost:8080/",
     "height": 91
    },
    "colab_type": "code",
    "id": "vJAqM7XyLG_n",
    "outputId": "2d09f4ad-4dce-43e4-f4f1-a94a85cf9f1f"
   },
   "outputs": [
    {
     "name": "stdout",
     "output_type": "stream",
     "text": [
      "[['G', 'C'], ['T', 'G'], ['G', 'C'], ['G', 'C'], ['A', 'G'], ['G', 'C'], ['A', 'C'], ['G', 'G'], ['T', 'T'], ['C', 'T'], ['A', 'A'], ['C', 'G'], ['T', 'A'], ['G', 'G'], ['T', 'A'], ['C', 'T'], ['G', 'C'], ['T', 'G'], ['A', 'G'], ['G', 'A'], ['T', 'G'], ['C', 'A'], ['T', 'G'], ['T', 'C'], ['C', 'C'], ['T', 'G'], ['A', 'A'], ['G', 'T'], ['C', 'G'], ['T', 'C'], ['T', 'C'], ['C', 'A'], ['A', 'T'], ['A', 'C'], ['A', 'C'], ['T', 'C'], ['T', 'C'], ['A', 'T'], ['T', 'A'], ['A', 'C'], ['G', 'C'], ['T', 'T'], ['C', 'A'], ['T', 'T'], ['T', 'T'], ['G', 'C'], ['C', 'T'], ['A', 'C'], ['G', 'T'], ['A', 'A']]\n",
      "[['A', 'G'], ['T', 'T'], ['G', 'A'], ['T', 'T'], ['C', 'A'], ['C', 'T'], ['C', 'C'], ['T', 'G'], ['C', 'C'], ['C', 'G'], ['C', 'T'], ['G', 'A'], ['T', 'C'], ['A', 'A'], ['T', 'A'], ['T', 'G'], ['G', 'A'], ['C', 'A'], ['G', 'C'], ['A', 'G'], ['T', 'G'], ['T', 'T'], ['G', 'T'], ['A', 'C'], ['A', 'C'], ['C', 'A'], ['A', 'C'], ['A', 'A'], ['C', 'A'], ['G', 'T'], ['A', 'T'], ['T', 'A'], ['A', 'C'], ['C', 'G'], ['A', 'A'], ['G', 'G'], ['G', 'C'], ['C', 'G'], ['C', 'C'], ['T', 'A'], ['C', 'G'], ['A', 'C'], ['A', 'T'], ['G', 'G'], ['G', 'G'], ['G', 'G'], ['C', 'A'], ['G', 'C'], ['G', 'T'], ['A', 'A']]\n",
      "[['G', 'G'], ['T', 'T'], ['G', 'A'], ['G', 'T'], ['A', 'A'], ['G', 'T'], ['A', 'C'], ['G', 'G'], ['T', 'C'], ['C', 'G'], ['A', 'T'], ['C', 'A'], ['T', 'C'], ['G', 'A'], ['T', 'A'], ['C', 'G'], ['G', 'A'], ['T', 'A'], ['A', 'C'], ['G', 'G'], ['T', 'G'], ['C', 'T'], ['T', 'T'], ['T', 'C'], ['C', 'C'], ['T', 'A'], ['A', 'C'], ['G', 'A'], ['C', 'A'], ['T', 'T'], ['T', 'T'], ['C', 'A'], ['A', 'C'], ['A', 'G'], ['A', 'A'], ['T', 'G'], ['T', 'C'], ['A', 'G'], ['T', 'C'], ['A', 'A'], ['C', 'C'], ['T', 'A'], ['A', 'A'], ['T', 'G'], ['T', 'G'], ['C', 'G'], ['T', 'C'], ['C', 'G'], ['T', 'G'], ['A', 'A']]\n"
     ]
    }
   ],
   "source": [
    "print(genome1)\n",
    "print(genome2)\n",
    "print(offspring)"
   ]
  },
  {
   "cell_type": "code",
   "execution_count": 22,
   "metadata": {
    "colab": {
     "base_uri": "https://localhost:8080/",
     "height": 55
    },
    "colab_type": "code",
    "id": "344UKNt_MpTL",
    "outputId": "01b20667-5b18-4347-adba-df4c628b0cbf"
   },
   "outputs": [
    {
     "name": "stdout",
     "output_type": "stream",
     "text": [
      "[['G', 'G', '?'], ['T', 'T', '?'], ['G', 'A', '|'], ['G', 'T', '|'], ['A', 'A', '?'], ['G', 'T', '|'], ['A', 'C', '|'], ['G', 'G', '?'], ['T', 'C', '|'], ['C', 'G', '|'], ['A', 'T', '|'], ['C', 'A', '|'], ['T', 'C', '|'], ['G', 'A', '|'], ['T', 'A', '?'], ['C', 'G', '|'], ['G', 'A', '|'], ['T', 'A', '|'], ['A', 'C', '|'], ['G', 'G', '?'], ['T', 'G', '?'], ['C', 'T', '|'], ['T', 'T', '?'], ['T', 'C', '|'], ['C', 'C', '?'], ['T', 'A', '|'], ['A', 'C', '|'], ['G', 'A', '|'], ['C', 'A', '|'], ['T', 'T', '?'], ['T', 'T', '?'], ['C', 'A', '|'], ['A', 'C', '|'], ['A', 'G', '|'], ['A', 'A', '?'], ['T', 'G', '|'], ['T', 'C', '|'], ['A', 'G', '|'], ['T', 'C', '|'], ['A', 'A', '?'], ['C', 'C', '?'], ['T', 'A', '|'], ['A', 'A', '?'], ['T', 'G', '|'], ['T', 'G', '|'], ['C', 'G', '|'], ['T', 'C', '|'], ['C', 'G', '|'], ['T', 'G', '?'], ['A', 'A', '?']]\n"
     ]
    }
   ],
   "source": [
    "input_test1 = phase_offspring(genome1, genome2, offspring)\n",
    "print(input_test1)"
   ]
  },
  {
   "cell_type": "code",
   "execution_count": 23,
   "metadata": {
    "colab": {},
    "colab_type": "code",
    "id": "zp8YfRhXRKpX"
   },
   "outputs": [],
   "source": [
    "h1, h2, _ = zip(*input_test1)"
   ]
  },
  {
   "cell_type": "code",
   "execution_count": 24,
   "metadata": {
    "colab": {},
    "colab_type": "code",
    "id": "YVqH71PPRayJ"
   },
   "outputs": [],
   "source": [
    "for snp, snps in zip(h1, genome1):\n",
    "    assert snp in snps\n",
    "for snp, snps in zip(h2, genome2):\n",
    "    assert snp in snps"
   ]
  },
  {
   "cell_type": "code",
   "execution_count": 25,
   "metadata": {
    "colab": {
     "base_uri": "https://localhost:8080/",
     "height": 71
    },
    "colab_type": "code",
    "id": "insbZJo9O_2u",
    "outputId": "6379cce2-76f7-408d-fcde-2777b2a9ee45"
   },
   "outputs": [
    {
     "name": "stdout",
     "output_type": "stream",
     "text": [
      "[['G', 'C'], ['T', 'G'], ['C', 'G'], ['G', 'C'], ['A', 'G'], ['G', 'C'], ['C', 'A'], ['G', 'G'], ['T', 'T'], ['C', 'T'], ['A', 'A'], ['C', 'G'], ['A', 'T'], ['G', 'G'], ['A', 'T'], ['T', 'C'], ['G', 'C'], ['T', 'G'], ['G', 'A'], ['A', 'G'], ['T', 'G'], ['A', 'C'], ['T', 'G'], ['C', 'T'], ['C', 'C'], ['G', 'T'], ['A', 'A'], ['G', 'T'], ['C', 'G'], ['C', 'T'], ['T', 'C'], ['A', 'C'], ['A', 'T'], ['A', 'C'], ['C', 'A'], ['T', 'C'], ['T', 'C'], ['T', 'A'], ['T', 'A'], ['A', 'C'], ['G', 'C'], ['T', 'T'], ['C', 'A'], ['T', 'T'], ['T', 'T'], ['C', 'G'], ['C', 'T'], ['A', 'C'], ['T', 'G'], ['A', 'A']]\n",
      "[['G', 'A'], ['T', 'T'], ['A', 'G'], ['T', 'T'], ['C', 'A'], ['T', 'C'], ['C', 'C'], ['T', 'G'], ['C', 'C'], ['C', 'G'], ['T', 'C'], ['A', 'G'], ['T', 'C'], ['A', 'A'], ['T', 'A'], ['G', 'T'], ['G', 'A'], ['C', 'A'], ['G', 'C'], ['A', 'G'], ['G', 'T'], ['T', 'T'], ['T', 'G'], ['C', 'A'], ['C', 'A'], ['A', 'C'], ['A', 'C'], ['A', 'A'], ['A', 'C'], ['G', 'T'], ['A', 'T'], ['A', 'T'], ['C', 'A'], ['G', 'C'], ['A', 'A'], ['G', 'G'], ['G', 'C'], ['C', 'G'], ['C', 'C'], ['T', 'A'], ['C', 'G'], ['A', 'C'], ['A', 'T'], ['G', 'G'], ['G', 'G'], ['G', 'G'], ['A', 'C'], ['C', 'G'], ['T', 'G'], ['A', 'A']]\n",
      "[['G', 'G'], ['T', 'T'], ['G', 'A'], ['T', 'G'], ['A', 'A'], ['G', 'T'], ['A', 'C'], ['G', 'G'], ['C', 'T'], ['C', 'G'], ['T', 'A'], ['A', 'C'], ['T', 'C'], ['A', 'G'], ['A', 'T'], ['C', 'G'], ['G', 'A'], ['A', 'T'], ['A', 'C'], ['G', 'G'], ['T', 'G'], ['T', 'C'], ['T', 'T'], ['C', 'T'], ['C', 'C'], ['T', 'A'], ['C', 'A'], ['G', 'A'], ['C', 'A'], ['T', 'T'], ['T', 'T'], ['A', 'C'], ['A', 'C'], ['A', 'G'], ['A', 'A'], ['T', 'G'], ['C', 'T'], ['G', 'A'], ['C', 'T'], ['A', 'A'], ['C', 'C'], ['A', 'T'], ['A', 'A'], ['G', 'T'], ['T', 'G'], ['G', 'C'], ['C', 'T'], ['C', 'G'], ['T', 'G'], ['A', 'A']]\n"
     ]
    }
   ],
   "source": [
    "print(dephased_genome1)\n",
    "print(dephased_genome2)\n",
    "print(dephased_offspring)"
   ]
  },
  {
   "cell_type": "code",
   "execution_count": 26,
   "metadata": {
    "colab": {
     "base_uri": "https://localhost:8080/",
     "height": 125
    },
    "colab_type": "code",
    "id": "ydr_BwH6LjjW",
    "outputId": "c7b8888d-36e1-45f3-b10a-96be498abcb5"
   },
   "outputs": [
    {
     "data": {
      "text/plain": [
       "[['G', 'G', '?'],\n",
       " ['T', 'T', '?'],\n",
       " ['G', 'A', '|'],\n",
       " ['G', 'T', '-|'],\n",
       " ['A', 'A', '?'],\n",
       " ['G', 'T', '|'],\n",
       " ['A', 'C', '|'],\n",
       " ['G', 'G', '?'],\n",
       " ['T', 'C', '-|'],\n",
       " ['C', 'G', '|'],\n",
       " ['A', 'T', '-|'],\n",
       " ['C', 'A', '-|'],\n",
       " ['T', 'C', '|'],\n",
       " ['G', 'A', '-|'],\n",
       " ['A', 'T', '?'],\n",
       " ['C', 'G', '|'],\n",
       " ['G', 'A', '|'],\n",
       " ['T', 'A', '-|'],\n",
       " ['A', 'C', '|'],\n",
       " ['G', 'G', '?'],\n",
       " ['T', 'G', '?'],\n",
       " ['C', 'T', '-|'],\n",
       " ['T', 'T', '?'],\n",
       " ['T', 'C', '-|'],\n",
       " ['C', 'C', '?'],\n",
       " ['T', 'A', '|'],\n",
       " ['A', 'C', '-|'],\n",
       " ['G', 'A', '|'],\n",
       " ['C', 'A', '|'],\n",
       " ['T', 'T', '?'],\n",
       " ['T', 'T', '?'],\n",
       " ['C', 'A', '-|'],\n",
       " ['A', 'C', '|'],\n",
       " ['A', 'G', '|'],\n",
       " ['A', 'A', '?'],\n",
       " ['T', 'G', '|'],\n",
       " ['T', 'C', '-|'],\n",
       " ['A', 'G', '-|'],\n",
       " ['T', 'C', '-|'],\n",
       " ['A', 'A', '?'],\n",
       " ['C', 'C', '?'],\n",
       " ['T', 'A', '-|'],\n",
       " ['A', 'A', '?'],\n",
       " ['T', 'G', '-|'],\n",
       " ['T', 'G', '|'],\n",
       " ['C', 'G', '-|'],\n",
       " ['T', 'C', '-|'],\n",
       " ['C', 'G', '|'],\n",
       " ['T', 'G', '?'],\n",
       " ['A', 'A', '?']]"
      ]
     },
     "execution_count": 26,
     "metadata": {},
     "output_type": "execute_result"
    }
   ],
   "source": [
    "input_test2 = phase_offspring(dephased_genome1, dephased_genome2, dephased_offspring)\n",
    "input_test2"
   ]
  },
  {
   "cell_type": "code",
   "execution_count": 27,
   "metadata": {
    "colab": {},
    "colab_type": "code",
    "id": "vT1QR1U2PK9b"
   },
   "outputs": [],
   "source": [
    "assert [i[0] for i in input_test1 if i[2] != \"?\"] == [i[0] for i in input_test2 if i[2] != \"?\"] "
   ]
  },
  {
   "cell_type": "code",
   "execution_count": 28,
   "metadata": {
    "colab": {},
    "colab_type": "code",
    "id": "Fv2W5R7SPnqn"
   },
   "outputs": [],
   "source": [
    "assert [i[1] for i in input_test1 if i[2] != \"?\"] == [i[1] for i in input_test2 if i[2] != \"?\"] "
   ]
  },
  {
   "cell_type": "code",
   "execution_count": 29,
   "metadata": {
    "colab": {},
    "colab_type": "code",
    "id": "TJUNPXU8P-c_"
   },
   "outputs": [],
   "source": [
    "for triplet1, triplet2 in zip(input_test1, input_test2):\n",
    "    if triplet1[2] == \"?\" or triplet2[2] == \"?\":\n",
    "        assert triplet1[2] == triplet2[2]"
   ]
  },
  {
   "cell_type": "code",
   "execution_count": 30,
   "metadata": {
    "colab": {},
    "colab_type": "code",
    "id": "JCGGw1f2LlP9"
   },
   "outputs": [],
   "source": [
    "def load_vcf(filename, limit=-1, chrom_limit=\"\", phased=False):\n",
    "    genotype = {}\n",
    "    for i, record in enumerate(vcf.Reader(filename=filename)):\n",
    "        if record.CHROM == chrom_limit:\n",
    "            break\n",
    "        if i == limit:\n",
    "            break\n",
    "        snp = record.samples[0].gt_bases\n",
    "        if record.samples[0].phased:\n",
    "            a, b = snp.split(\"|\")\n",
    "        else:\n",
    "            a, b = snp.split(\"/\")\n",
    "        if phased and record.samples[0].phased or not phased:\n",
    "            genotype[(record.CHROM, record.POS)] = a, b\n",
    "    return genotype"
   ]
  },
  {
   "cell_type": "code",
   "execution_count": 31,
   "metadata": {
    "colab": {},
    "colab_type": "code",
    "id": "TpSlGazJLuYN"
   },
   "outputs": [],
   "source": [
    "son = load_vcf(\"jewish_son_copy.vcf\", chrom_limit=\"chr2\")\n"
   ]
  },
  {
   "cell_type": "code",
   "execution_count": 32,
   "metadata": {
    "colab": {},
    "colab_type": "code",
    "id": "iX-I7lHML30k"
   },
   "outputs": [],
   "source": [
    "mother = load_vcf(\"jewish_mother_copy.vcf\", chrom_limit=\"chr2\")\n"
   ]
  },
  {
   "cell_type": "code",
   "execution_count": 33,
   "metadata": {
    "colab": {},
    "colab_type": "code",
    "id": "nLz1gSW7S_ce"
   },
   "outputs": [],
   "source": [
    "father = load_vcf(\"jewish_father_copy.vcf\", chrom_limit=\"chr2\")\n"
   ]
  },
  {
   "cell_type": "code",
   "execution_count": 34,
   "metadata": {
    "colab": {},
    "colab_type": "code",
    "id": "dhJ4lzkRTBVq"
   },
   "outputs": [],
   "source": [
    "son_genome = []\n",
    "father_genome = []\n",
    "mother_genome = []\n",
    "shared_SNPs = sorted(list(set(son).intersection(set(mother)).intersection(set(father))))\n",
    "for chr_coord in shared_SNPs:\n",
    "    son_genome.append(son[chr_coord])\n",
    "    father_genome.append(father[chr_coord])\n",
    "    mother_genome.append(mother[chr_coord])"
   ]
  },
  {
   "cell_type": "code",
   "execution_count": 35,
   "metadata": {
    "colab": {
     "base_uri": "https://localhost:8080/",
     "height": 35
    },
    "colab_type": "code",
    "id": "N_waWcTcT2_k",
    "outputId": "79604e7a-c8a0-4481-e830-436c56495255"
   },
   "outputs": [
    {
     "data": {
      "text/plain": [
       "Counter({'chr1': 170171})"
      ]
     },
     "execution_count": 35,
     "metadata": {},
     "output_type": "execute_result"
    }
   ],
   "source": [
    "\n",
    "collections.Counter([i[0] for i in shared_SNPs])"
   ]
  },
  {
   "cell_type": "code",
   "execution_count": 36,
   "metadata": {
    "colab": {},
    "colab_type": "code",
    "id": "G4tDkqUYUN5b"
   },
   "outputs": [],
   "source": [
    "chrom1_coords = [i[1] for i in shared_SNPs if i[0] == \"chr1\"]"
   ]
  },
  {
   "cell_type": "code",
   "execution_count": 37,
   "metadata": {
    "colab": {},
    "colab_type": "code",
    "id": "gNH8xIrKUVVu"
   },
   "outputs": [],
   "source": [
    "length = chrom1_coords[-1] - chrom1_coords[0]"
   ]
  },
  {
   "cell_type": "code",
   "execution_count": 38,
   "metadata": {
    "colab": {
     "base_uri": "https://localhost:8080/",
     "height": 35
    },
    "colab_type": "code",
    "id": "djW0Fi4JUb1J",
    "outputId": "1f27d6c6-2601-4784-fd59-e45b298c48c9"
   },
   "outputs": [
    {
     "data": {
      "text/plain": [
       "248097755"
      ]
     },
     "execution_count": 38,
     "metadata": {},
     "output_type": "execute_result"
    }
   ],
   "source": [
    "length"
   ]
  },
  {
   "cell_type": "markdown",
   "metadata": {
    "colab_type": "text",
    "id": "36t8U8KTUvN8"
   },
   "source": [
    "## Check average distance between SNPs"
   ]
  },
  {
   "cell_type": "code",
   "execution_count": 39,
   "metadata": {
    "colab": {
     "base_uri": "https://localhost:8080/",
     "height": 35
    },
    "colab_type": "code",
    "id": "wgFQ3qgVUibo",
    "outputId": "5753f36b-7444-4e75-8d7e-055012512b3e"
   },
   "outputs": [
    {
     "data": {
      "text/plain": [
       "1457.932050701941"
      ]
     },
     "execution_count": 39,
     "metadata": {},
     "output_type": "execute_result"
    }
   ],
   "source": [
    "length/len(shared_SNPs)"
   ]
  },
  {
   "cell_type": "code",
   "execution_count": 40,
   "metadata": {
    "colab": {},
    "colab_type": "code",
    "id": "THerkHnNUsTf"
   },
   "outputs": [],
   "source": [
    "phased_genome = phase_offspring(father_genome, mother_genome, son_genome)"
   ]
  },
  {
   "cell_type": "code",
   "execution_count": 41,
   "metadata": {
    "colab": {},
    "colab_type": "code",
    "id": "BSZz3ZJxVIpJ"
   },
   "outputs": [],
   "source": [
    "phase_correctness = collections.Counter([i[-1] for i in phased_genome])"
   ]
  },
  {
   "cell_type": "markdown",
   "metadata": {
    "colab_type": "text",
    "id": "V9R1n-U4VKHV"
   },
   "source": [
    "## Check fraction of incorrectly phased SNPs"
   ]
  },
  {
   "cell_type": "code",
   "execution_count": 42,
   "metadata": {
    "colab": {
     "base_uri": "https://localhost:8080/",
     "height": 35
    },
    "colab_type": "code",
    "id": "_iIcM30bVZ2M",
    "outputId": "cf21b125-2153-41e6-a821-5e0d2d91607c"
   },
   "outputs": [
    {
     "data": {
      "text/plain": [
       "0.0024445998436866444"
      ]
     },
     "execution_count": 42,
     "metadata": {},
     "output_type": "execute_result"
    }
   ],
   "source": [
    "phase_correctness[\"-|\"]/len(phased_genome)"
   ]
  },
  {
   "cell_type": "markdown",
   "metadata": {
    "colab_type": "text",
    "id": "rKT06QGcV50B"
   },
   "source": [
    "## Average distance per SNP suitable for trio phasing"
   ]
  },
  {
   "cell_type": "code",
   "execution_count": 43,
   "metadata": {
    "colab": {
     "base_uri": "https://localhost:8080/",
     "height": 35
    },
    "colab_type": "code",
    "id": "GMJVV6TYWBHg",
    "outputId": "45625f10-3f9c-4273-f64a-a333b6f4147e"
   },
   "outputs": [
    {
     "data": {
      "text/plain": [
       "7228.955565268066"
      ]
     },
     "execution_count": 43,
     "metadata": {},
     "output_type": "execute_result"
    }
   ],
   "source": [
    "length/collections.Counter([i[-1] for i in phased_genome])[\"|\"]"
   ]
  },
  {
   "cell_type": "markdown",
   "metadata": {
    "colab_type": "text",
    "id": "zyUUOnUxWQd4"
   },
   "source": [
    "This suggest that trio data allows phasing to within \\~7 kilobases. An expectation would be that, due to the fact that one of the sequencing technologies used linked reads, which should allow for perfect phasing locally (up to [~50 kilobases](https://support.10xgenomics.com/genome-exome/sample-prep/doc/demonstrated-protocol-hmw-dna-extraction-from-whole-blood)), one would get a perfectly phased genome. However, from reading the GIAB paper it is unclear if linked reads were used in the phasing of the son's genotype: it appears that the pipeline used haplotype caller for the local phasing followed by pedigree phasing. The relevant sections are \"Trio Mendelian analysis and phasing\" as well \"Phase transfer\" in the [GIAB paper](https://www.nature.com/articles/s41587-019-0074-6.epdf?author_access_token=ewLdT4uP1jBiKAyJwAcYqdRgN0jAjWel9jnR3ZoTv0MC7r9js5eiMd8JOYV6BtmURFzOgi_efMREltCeCUbIMBRyA_gIv2G9qZgeMpo9LNcKpLG1_Cwxe2LAkjdrrr1Gy7vw-DLu8csTHvwSl5kdFA%3D%3D). In any case, one can conservatively assume that phasing to within 7kB is done correctly, or even more conservatively, one could restrict the analysis to correctly phased SNPs from the trio only."
   ]
  },
  {
   "cell_type": "code",
   "execution_count": 43,
   "metadata": {
    "colab": {
     "base_uri": "https://localhost:8080/",
     "height": 1000
    },
    "colab_type": "code",
    "id": "IlkdhkaQZwFS",
    "outputId": "285d2e7e-7e4f-4e04-c5da-f81a2a334e55"
   },
   "outputs": [
    {
     "data": {
      "text/plain": [
       "[['A', 'A', '?'],\n",
       " ['G', 'G', '?'],\n",
       " ['G', 'G', '?'],\n",
       " ['A', 'A', '?'],\n",
       " ['C', 'C', '?'],\n",
       " ['G', 'G', '?'],\n",
       " ['G', 'G', '?'],\n",
       " ['G', 'G', '?'],\n",
       " ['C', 'C', '?'],\n",
       " ['A', 'A', '?'],\n",
       " ['T', 'T', '?'],\n",
       " ['T', 'T', '?'],\n",
       " ['C', 'C', '?'],\n",
       " ['A', 'A', '?'],\n",
       " ['T', 'T', '?'],\n",
       " ['C', 'C', '?'],\n",
       " ['AT', 'AT', '?'],\n",
       " ['A', 'A', '?'],\n",
       " ['C', 'C', '?'],\n",
       " ['G', 'G', '?'],\n",
       " ['C', 'C', '?'],\n",
       " ['A', 'A', '?'],\n",
       " ['A', 'A', '?'],\n",
       " ['A', 'A', '?'],\n",
       " ['AGTTTT', 'AGTTTT', '?'],\n",
       " ['C', 'C', '?'],\n",
       " ['A', 'A', '?'],\n",
       " ['T', 'T', '?'],\n",
       " ['T', 'T', '?'],\n",
       " ['C', 'C', '?'],\n",
       " ['C', 'C', '?'],\n",
       " ['G', 'G', '?'],\n",
       " ['T', 'T', '?'],\n",
       " ['CCT', 'CCT', '?'],\n",
       " ['G', 'G', '?'],\n",
       " ['T', 'T', '?'],\n",
       " ['A', 'A', '?'],\n",
       " ['C', 'C', '?'],\n",
       " ['A', 'A', '?'],\n",
       " ['C', 'C', '?'],\n",
       " ['A', 'A', '?'],\n",
       " ['T', 'T', '?'],\n",
       " ['T', 'T', '?'],\n",
       " ['T', 'T', '?'],\n",
       " ['CAT', 'CAT', '?'],\n",
       " ['G', 'G', '?'],\n",
       " ['G', 'G', '?'],\n",
       " ['T', 'T', '?'],\n",
       " ['T', 'T', '?'],\n",
       " ['G', 'G', '?'],\n",
       " ['C', 'C', '?'],\n",
       " ['A', 'A', '?'],\n",
       " ['C', 'C', '?'],\n",
       " ['G', 'G', '?'],\n",
       " ['A', 'A', '?'],\n",
       " ['G', 'G', '?'],\n",
       " ['A', 'A', '?'],\n",
       " ['A', 'A', '?'],\n",
       " ['G', 'G', '?'],\n",
       " ['C', 'C', '?'],\n",
       " ['T', 'T', '?'],\n",
       " ['CAG', 'CAG', '?'],\n",
       " ['A', 'A', '?'],\n",
       " ['T', 'T', '?'],\n",
       " ['C', 'C', '?'],\n",
       " ['G', 'G', '?'],\n",
       " ['C', 'C', '?'],\n",
       " ['C', 'C', '?'],\n",
       " ['C', 'C', '?'],\n",
       " ['C', 'C', '?'],\n",
       " ['C', 'C', '?'],\n",
       " ['A', 'A', '?'],\n",
       " ['A', 'A', '?'],\n",
       " ['T', 'T', '?'],\n",
       " ['G', 'G', '?'],\n",
       " ['A', 'A', '?'],\n",
       " ['A', 'A', '?'],\n",
       " ['G', 'G', '?'],\n",
       " ['A', 'A', '?'],\n",
       " ['A', 'A', '?'],\n",
       " ['AAGAC', 'AAGAC', '?'],\n",
       " ['T', 'T', '?'],\n",
       " ['G', 'G', '?'],\n",
       " ['C', 'C', '?'],\n",
       " ['C', 'C', '?'],\n",
       " ['C', 'C', '?'],\n",
       " ['C', 'C', '?'],\n",
       " ['A', 'A', '?'],\n",
       " ['G', 'G', '?'],\n",
       " ['C', 'C', '?'],\n",
       " ['A', 'A', '?'],\n",
       " ['G', 'G', '?'],\n",
       " ['G', 'G', '?'],\n",
       " ['G', 'G', '?'],\n",
       " ['A', 'A', '?'],\n",
       " ['G', 'G', '?'],\n",
       " ['A', 'A', '?'],\n",
       " ['ATG', 'A', '|'],\n",
       " ['T', 'T', '?'],\n",
       " ['C', 'C', '?'],\n",
       " ['G', 'G', '?'],\n",
       " ['G', 'G', '?'],\n",
       " ['G', 'G', '?'],\n",
       " ['T', 'T', '?'],\n",
       " ['A', 'A', '?'],\n",
       " ['T', 'T', '?'],\n",
       " ['C', 'C', '?'],\n",
       " ['G', 'G', '?'],\n",
       " ['T', 'T', '?'],\n",
       " ['T', 'T', '?'],\n",
       " ['T', 'T', '?'],\n",
       " ['T', 'T', '?'],\n",
       " ['T', 'T', '?'],\n",
       " ['A', 'A', '?'],\n",
       " ['G', 'G', '?'],\n",
       " ['G', 'G', '?'],\n",
       " ['A', 'A', '?'],\n",
       " ['T', 'T', '?'],\n",
       " ['AAAC', 'AAAC', '?'],\n",
       " ['A', 'A', '?'],\n",
       " ['TA', 'TA', '?'],\n",
       " ['G', 'G', '?'],\n",
       " ['C', 'C', '?'],\n",
       " ['A', 'A', '?'],\n",
       " ['G', 'G', '?'],\n",
       " ['T', 'T', '?'],\n",
       " ['G', 'G', '?'],\n",
       " ['C', 'C', '?'],\n",
       " ['T', 'T', '?'],\n",
       " ['T', 'T', '?'],\n",
       " ['T', 'T', '?'],\n",
       " ['T', 'T', '?'],\n",
       " ['A', 'A', '?'],\n",
       " ['A', 'A', '?'],\n",
       " ['C', 'C', '?'],\n",
       " ['A', 'A', '?'],\n",
       " ['A', 'A', '?'],\n",
       " ['G', 'G', '?'],\n",
       " ['C', 'C', '?'],\n",
       " ['T', 'T', '?'],\n",
       " ['TTGTAGTCTGACCTGTGGTCTGAC', 'TTGTAGTCTGACCTGTGGTCTGAC', '?'],\n",
       " ['A', 'A', '?'],\n",
       " ['C', 'C', '?'],\n",
       " ['C', 'C', '?'],\n",
       " ['A', 'A', '?'],\n",
       " ['A', 'A', '?'],\n",
       " ['T', 'T', '?'],\n",
       " ['T', 'T', '?'],\n",
       " ['T', 'T', '?'],\n",
       " ['T', 'T', '?'],\n",
       " ['C', 'C', '?'],\n",
       " ['G', 'G', '?'],\n",
       " ['C', 'C', '?'],\n",
       " ['T', 'T', '?'],\n",
       " ['A', 'A', '?'],\n",
       " ['G', 'G', '?'],\n",
       " ['A', 'A', '?'],\n",
       " ['T', 'T', '?'],\n",
       " ['G', 'G', '?'],\n",
       " ['T', 'T', '?'],\n",
       " ['T', 'T', '?'],\n",
       " ['G', 'G', '?'],\n",
       " ['G', 'G', '?'],\n",
       " ['A', 'A', '?'],\n",
       " ['C', 'C', '?'],\n",
       " ['T', 'T', '?'],\n",
       " ['G', 'G', '?'],\n",
       " ['T', 'T', '?'],\n",
       " ['T', 'T', '?'],\n",
       " ['A', 'A', '?'],\n",
       " ['G', 'G', '?'],\n",
       " ['C', 'C', '?'],\n",
       " ['A', 'A', '?'],\n",
       " ['T', 'T', '?'],\n",
       " ['C', 'C', '?'],\n",
       " ['A', 'A', '?'],\n",
       " ['G', 'G', '?'],\n",
       " ['G', 'G', '?'],\n",
       " ['G', 'G', '?'],\n",
       " ['C', 'C', '?'],\n",
       " ['C', 'C', '?'],\n",
       " ['C', 'C', '?'],\n",
       " ['C', 'C', '?'],\n",
       " ['C', 'C', '?'],\n",
       " ['A', 'A', '?'],\n",
       " ['T', 'T', '?'],\n",
       " ['T', 'T', '?'],\n",
       " ['G', 'G', '?'],\n",
       " ['CGT', 'CGT', '?'],\n",
       " ['T', 'T', '?'],\n",
       " ['C', 'C', '?'],\n",
       " ['T', 'T', '?'],\n",
       " ['T', 'T', '?'],\n",
       " ['T', 'T', '?'],\n",
       " ['A', 'A', '?'],\n",
       " ['A', 'A', '?'],\n",
       " ['T', 'T', '?'],\n",
       " ['T', 'T', '?'],\n",
       " ['A', 'A', '?'],\n",
       " ['A', 'A', '?'],\n",
       " ['A', 'A', '?'],\n",
       " ['T', 'T', '?'],\n",
       " ['G', 'G', '?'],\n",
       " ['G', 'G', '?'],\n",
       " ['C', 'C', '?'],\n",
       " ['A', 'A', '?'],\n",
       " ['T', 'T', '?'],\n",
       " ['G', 'G', '?'],\n",
       " ['T', 'T', '?'],\n",
       " ['A', 'A', '?'],\n",
       " ['G', 'G', '?'],\n",
       " ['G', 'G', '?'],\n",
       " ['T', 'T', '?'],\n",
       " ['G', 'G', '?'],\n",
       " ['C', 'C', '?'],\n",
       " ['G', 'G', '?'],\n",
       " ['C', 'C', '?'],\n",
       " ['T', 'C', '|'],\n",
       " ['G', 'C', '|'],\n",
       " ['A', 'G', '|'],\n",
       " ['C', 'CT', '|'],\n",
       " ['T', 'C', '|'],\n",
       " ['A', 'G', '|'],\n",
       " ['A', 'G', '|'],\n",
       " ['T', 'C', '|'],\n",
       " ['CAG', 'C', '|'],\n",
       " ['T', 'TGG', '|'],\n",
       " ['T', 'G', '|'],\n",
       " ['GT', 'G', '|'],\n",
       " ['T', 'G', '|'],\n",
       " ['C', 'T', '|'],\n",
       " ['G', 'C', '|'],\n",
       " ['T', 'C', '|'],\n",
       " ['G', 'C', '|'],\n",
       " ['G', 'A', '|'],\n",
       " ['T', 'C', '|'],\n",
       " ['G', 'G', '?'],\n",
       " ['C', 'A', '|'],\n",
       " ['G', 'G', '?'],\n",
       " ['G', 'C', '|'],\n",
       " ['G', 'A', '|'],\n",
       " ['T', 'C', '|'],\n",
       " ['C', 'T', '|'],\n",
       " ['T', 'C', '|'],\n",
       " ['T', 'G', '|'],\n",
       " ['CCCCA', 'C', '|'],\n",
       " ['G', 'G', '?'],\n",
       " ['C', 'G', '|'],\n",
       " ['TC', 'T', '|'],\n",
       " ['A', 'C', '|'],\n",
       " ['C', 'T', '|'],\n",
       " ['C', 'A', '|'],\n",
       " ['C', 'T', '|'],\n",
       " ['G', 'G', '?'],\n",
       " ['T', 'C', '|'],\n",
       " ['T', 'TCA', '|'],\n",
       " ['T', 'G', '|'],\n",
       " ['C', 'C', '?'],\n",
       " ['C', 'C', '?'],\n",
       " ['C', 'C', '?'],\n",
       " ['G', 'G', '?'],\n",
       " ['G', 'G', '?'],\n",
       " ['G', 'G', '?'],\n",
       " ['G', 'G', '?'],\n",
       " ['G', 'G', '?'],\n",
       " ['G', 'G', '?'],\n",
       " ['G', 'G', '?'],\n",
       " ['A', 'A', '?'],\n",
       " ['A', 'A', '?'],\n",
       " ['G', 'G', '?'],\n",
       " ['C', 'C', '?'],\n",
       " ['A', 'A', '?'],\n",
       " ['A', 'A', '?'],\n",
       " ['G', 'G', '?'],\n",
       " ['A', 'A', '?'],\n",
       " ['G', 'G', '?'],\n",
       " ['T', 'T', '?'],\n",
       " ['T', 'T', '?'],\n",
       " ['G', 'G', '?'],\n",
       " ['C', 'C', '?'],\n",
       " ['C', 'C', '?'],\n",
       " ['C', 'C', '?'],\n",
       " ['T', 'T', '?'],\n",
       " ['T', 'T', '?'],\n",
       " ['A', 'A', '?'],\n",
       " ['A', 'A', '?'],\n",
       " ['C', 'C', '?'],\n",
       " ['G', 'G', '?'],\n",
       " ['C', 'C', '?'],\n",
       " ['C', 'C', '?'],\n",
       " ['C', 'C', '?'],\n",
       " ['A', 'A', '?'],\n",
       " ['G', 'G', '?'],\n",
       " ['G', 'G', '?'],\n",
       " ['C', 'C', '?'],\n",
       " ['G', 'G', '?'],\n",
       " ['C', 'C', '?'],\n",
       " ['G', 'G', '?'],\n",
       " ['G', 'G', '?'],\n",
       " ['G', 'G', '?'],\n",
       " ['G', 'G', '?'],\n",
       " ['G', 'G', '?'],\n",
       " ['G', 'G', '?'],\n",
       " ['A', 'A', '?'],\n",
       " ['G', 'G', '?'],\n",
       " ['A', 'A', '?'],\n",
       " ['GACAC', 'GACAC', '?'],\n",
       " ['C', 'C', '?'],\n",
       " ['C', 'C', '?'],\n",
       " ['C', 'C', '?'],\n",
       " ['A', 'A', '?'],\n",
       " ['G', 'G', '?'],\n",
       " ['A', 'G', '?'],\n",
       " ['C', 'C', '?'],\n",
       " ['A', 'G', '?'],\n",
       " ['A', 'A', '?'],\n",
       " ['C', 'G', '?'],\n",
       " ['G', 'C', '?'],\n",
       " ['C', 'C', '?'],\n",
       " ['G', 'G', '?'],\n",
       " ['A', 'A', '?'],\n",
       " ['AC', 'AC', '?'],\n",
       " ['C', 'C', '?'],\n",
       " ['T', 'T', '?'],\n",
       " ['T', 'T', '?'],\n",
       " ['G', 'G', '?'],\n",
       " ['T', 'T', '?'],\n",
       " ['G', 'G', '?'],\n",
       " ['T', 'T', '?'],\n",
       " ['T', 'T', '?'],\n",
       " ['C', 'C', '?'],\n",
       " ['A', 'A', '?'],\n",
       " ['G', 'G', '?'],\n",
       " ['T', 'T', '?'],\n",
       " ['T', 'T', '?'],\n",
       " ['A', 'A', '?'],\n",
       " ['C', 'C', '?'],\n",
       " ['G', 'G', '?'],\n",
       " ['T', 'T', '?'],\n",
       " ['C', 'C', '?'],\n",
       " ['C', 'C', '?'],\n",
       " ['G', 'G', '?'],\n",
       " ['C', 'C', '?'],\n",
       " ['C', 'C', '?'],\n",
       " ['C', 'C', '?'],\n",
       " ['G', 'G', '?'],\n",
       " ['C', 'C', '?'],\n",
       " ['C', 'C', '?'],\n",
       " ['G', 'G', '?'],\n",
       " ['GAC', 'GAC', '?'],\n",
       " ['G', 'G', '?'],\n",
       " ['C', 'C', '?'],\n",
       " ['CCCTCAGCTGGACT', 'CCCTCAGCTGGACT', '?'],\n",
       " ['C', 'C', '?'],\n",
       " ['C', 'C', '?'],\n",
       " ['A', 'A', '?'],\n",
       " ['C', 'C', '?'],\n",
       " ['C', 'C', '?'],\n",
       " ['A', 'A', '?'],\n",
       " ['A', 'A', '?'],\n",
       " ['T', 'T', '?'],\n",
       " ['T', 'T', '?'],\n",
       " ['G', 'G', '?'],\n",
       " ['G', 'G', '?'],\n",
       " ['C', 'C', '?'],\n",
       " ['A', 'A', '?'],\n",
       " ['C', 'C', '?'],\n",
       " ['G', 'G', '?'],\n",
       " ['T', 'T', '?'],\n",
       " ['T', 'T', '?'],\n",
       " ['C', 'C', '?'],\n",
       " ['C', 'C', '?'],\n",
       " ['A', 'A', '?'],\n",
       " ['G', 'G', '?'],\n",
       " ['C', 'C', '?'],\n",
       " ['A', 'A', '?'],\n",
       " ['C', 'C', '?'],\n",
       " ['T', 'T', '?'],\n",
       " ['C', 'C', '?'],\n",
       " ['A', 'A', '?'],\n",
       " ['T', 'T', '?'],\n",
       " ['A', 'A', '?'],\n",
       " ['A', 'A', '?'],\n",
       " ['A', 'A', '?'],\n",
       " ['A', 'A', '?'],\n",
       " ['T', 'T', '?'],\n",
       " ['T', 'T', '?'],\n",
       " ['G', 'G', '?'],\n",
       " ['G', 'G', '?'],\n",
       " ['G', 'G', '?'],\n",
       " ['AAC', 'AAC', '?'],\n",
       " ['G', 'G', '?'],\n",
       " ['T', 'T', '?'],\n",
       " ['T', 'T', '?'],\n",
       " ['C', 'C', '?'],\n",
       " ['G', 'G', '?'],\n",
       " ['T', 'T', '?'],\n",
       " ['G', 'G', '?'],\n",
       " ['G', 'G', '?'],\n",
       " ['C', 'C', '?'],\n",
       " ['C', 'C', '?'],\n",
       " ['G', 'G', '?'],\n",
       " ['AT', 'AT', '?'],\n",
       " ['G', 'G', '?'],\n",
       " ['TCAAAAAAA', 'TCAAAAAAA', '?'],\n",
       " ['G', 'G', '?'],\n",
       " ['G', 'G', '?'],\n",
       " ['G', 'G', '?'],\n",
       " ['A', 'A', '?'],\n",
       " ['A', 'A', '?'],\n",
       " ['C', 'C', '?'],\n",
       " ['TAC', 'TAC', '?'],\n",
       " ['G', 'G', '?'],\n",
       " ['C', 'C', '?'],\n",
       " ['A', 'A', '?'],\n",
       " ['T', 'T', '?'],\n",
       " ['C', 'C', '?'],\n",
       " ['C', 'C', '?'],\n",
       " ['C', 'C', '?'],\n",
       " ['C', 'C', '?'],\n",
       " ['C', 'C', '?'],\n",
       " ['C', 'C', '?'],\n",
       " ['C', 'C', '?'],\n",
       " ['G', 'G', '?'],\n",
       " ['G', 'G', '?'],\n",
       " ['C', 'C', '?'],\n",
       " ['G', 'G', '?'],\n",
       " ['C', 'C', '?'],\n",
       " ['A', 'A', '?'],\n",
       " ['G', 'G', '?'],\n",
       " ['C', 'C', '?'],\n",
       " ['C', 'C', '?'],\n",
       " ['C', 'C', '?'],\n",
       " ['A', 'A', '?'],\n",
       " ['G', 'G', '?'],\n",
       " ['G', 'G', '?'],\n",
       " ['G', 'G', '?'],\n",
       " ['C', 'C', '?'],\n",
       " ['C', 'C', '?'],\n",
       " ['TAAA', 'TA', '|'],\n",
       " ['C', 'C', '?'],\n",
       " ['C', 'C', '?'],\n",
       " ['G', 'G', '?'],\n",
       " ['T', 'T', '?'],\n",
       " ['G', 'G', '?'],\n",
       " ['T', 'T', '?'],\n",
       " ['C', 'C', '?'],\n",
       " ['A', 'A', '?'],\n",
       " ['A', 'A', '?'],\n",
       " ['C', 'C', '?'],\n",
       " ['G', 'G', '?'],\n",
       " ['G', 'G', '?'],\n",
       " ['AAAATAAAT', 'AAAATAAATAAAT', '|'],\n",
       " ['G', 'G', '?'],\n",
       " ['C', 'C', '?'],\n",
       " ['G', 'G', '?'],\n",
       " ['G', 'A', '|'],\n",
       " ['G', 'A', '|'],\n",
       " ['G', 'A', '|'],\n",
       " ['A', 'C', '|'],\n",
       " ['G', 'A', '|'],\n",
       " ['T', 'C', '|'],\n",
       " ['G', 'T', '|'],\n",
       " ['C', 'T', '|'],\n",
       " ['G', 'A', '|'],\n",
       " ['G', 'A', '|'],\n",
       " ['G', 'A', '|'],\n",
       " ['T', 'A', '|'],\n",
       " ['C', 'C', '?'],\n",
       " ['C', 'C', '?'],\n",
       " ['C', 'C', '?'],\n",
       " ['GTGAA', 'GTGAA', '?'],\n",
       " ['A', 'A', '?'],\n",
       " ['A', 'A', '?'],\n",
       " ['C', 'C', '?'],\n",
       " ['T', 'C', '?'],\n",
       " ['A', 'G', '?'],\n",
       " ['A', 'A', '?'],\n",
       " ['T', 'T', '?'],\n",
       " ['C', 'C', '?'],\n",
       " ['A', 'G', '|'],\n",
       " ['G', 'G', '?'],\n",
       " ['C', 'C', '?'],\n",
       " ['CGGGCCG', 'CGGGCCG', '?'],\n",
       " ['A', 'A', '?'],\n",
       " ['C', 'C', '?'],\n",
       " ['CA', 'CA', '?'],\n",
       " ['T', 'T', '?'],\n",
       " ['C', 'C', '?'],\n",
       " ['G', 'G', '?'],\n",
       " ['A', 'A', '?'],\n",
       " ['A', 'A', '?'],\n",
       " ['A', 'A', '?'],\n",
       " ['GT', 'GT', '?'],\n",
       " ['T', 'T', '?'],\n",
       " ['G', 'G', '?'],\n",
       " ['A', 'A', '?'],\n",
       " ['T', 'T', '?'],\n",
       " ['A', 'A', '?'],\n",
       " ['A', 'A', '?'],\n",
       " ['C', 'C', '?'],\n",
       " ['T', 'T', '?'],\n",
       " ['C', 'C', '?'],\n",
       " ['C', 'C', '?'],\n",
       " ['A', 'A', '?'],\n",
       " ['C', 'C', '?'],\n",
       " ['A', 'A', '?'],\n",
       " ['T', 'T', '?'],\n",
       " ['A', 'A', '?'],\n",
       " ['A', 'A', '?'],\n",
       " ['T', 'T', '?'],\n",
       " ['A', 'A', '?'],\n",
       " ['C', 'C', '?'],\n",
       " ['T', 'T', '?'],\n",
       " ['G', 'G', '?'],\n",
       " ['T', 'T', '?'],\n",
       " ['C', 'C', '?'],\n",
       " ['G', 'G', '?'],\n",
       " ['G', 'G', '?'],\n",
       " ['G', 'G', '?'],\n",
       " ['G', 'G', '?'],\n",
       " ['A', 'A', '?'],\n",
       " ['T', 'T', '?'],\n",
       " ['G', 'G', '?'],\n",
       " ['A', 'A', '?'],\n",
       " ['C', 'C', '?'],\n",
       " ['T', 'T', '?'],\n",
       " ['GCCGC', 'GCCGC', '?'],\n",
       " ['T', 'T', '?'],\n",
       " ['T', 'T', '?'],\n",
       " ['A', 'G', '?'],\n",
       " ['G', 'T', '|'],\n",
       " ['T', 'C', '?'],\n",
       " ['A', 'G', '?'],\n",
       " ['C', 'G', '?'],\n",
       " ['A', 'G', '?'],\n",
       " ['A', 'G', '?'],\n",
       " ['T', 'C', '?'],\n",
       " ['A', 'G', '?'],\n",
       " ['A', 'C', '?'],\n",
       " ['A', 'G', '?'],\n",
       " ['C', 'CACCTGGGCGTGTGACCTGGGCGTGTG', '|'],\n",
       " ['GC', 'G', '?'],\n",
       " ['T', 'C', '?'],\n",
       " ['T', 'C', '|'],\n",
       " ['A', 'G', '?'],\n",
       " ['T', 'C', '?'],\n",
       " ['A', 'G', '|'],\n",
       " ['T', 'C', '?'],\n",
       " ['T', 'C', '?'],\n",
       " ['T', 'C', '?'],\n",
       " ['G', 'T', '?'],\n",
       " ['C', 'T', '?'],\n",
       " ['A', 'G', '?'],\n",
       " ['A', 'G', '?'],\n",
       " ['A', 'G', '?'],\n",
       " ['C', 'T', '?'],\n",
       " ['A', 'C', '?'],\n",
       " ['G', 'A', '?'],\n",
       " ['G', 'A', '?'],\n",
       " ['G', 'C', '?'],\n",
       " ['C', 'T', '?'],\n",
       " ['C', 'T', '?'],\n",
       " ['G', 'A', '?'],\n",
       " ['G', 'A', '?'],\n",
       " ['C', 'CG', '?'],\n",
       " ['T', 'A', '?'],\n",
       " ['T', 'C', '?'],\n",
       " ['C', 'T', '?'],\n",
       " ['C', 'C', '?'],\n",
       " ['T', 'C', '?'],\n",
       " ['A', 'G', '?'],\n",
       " ['A', 'G', '?'],\n",
       " ['C', 'C', '?'],\n",
       " ['C', 'C', '?'],\n",
       " ['C', 'C', '?'],\n",
       " ['G', 'G', '?'],\n",
       " ['T', 'T', '?'],\n",
       " ['C', 'C', '?'],\n",
       " ['C', 'C', '?'],\n",
       " ['C', 'C', '?'],\n",
       " ['T', 'T', '?'],\n",
       " ['A', 'A', '?'],\n",
       " ['C', 'C', '?'],\n",
       " ['C', 'T', '|'],\n",
       " ['T', 'T', '?'],\n",
       " ['G', 'G', '?'],\n",
       " ['C', 'C', '?'],\n",
       " ['G', 'G', '?'],\n",
       " ['AAGAT', 'AAGAT', '?'],\n",
       " ['C', 'C', '?'],\n",
       " ['G', 'G', '?'],\n",
       " ['C', 'C', '?'],\n",
       " ['G', 'G', '?'],\n",
       " ['A', 'A', '?'],\n",
       " ['T', 'C', '|'],\n",
       " ['T', 'T', '?'],\n",
       " ['C', 'C', '?'],\n",
       " ['G', 'G', '?'],\n",
       " ['C', 'C', '?'],\n",
       " ['C', 'C', '?'],\n",
       " ['T', 'T', '?'],\n",
       " ['C', 'C', '?'],\n",
       " ['T', 'T', '?'],\n",
       " ['C', 'C', '?'],\n",
       " ['AT', 'AT', '?'],\n",
       " ['GT', 'GT', '?'],\n",
       " ['T', 'T', '?'],\n",
       " ['C', 'C', '?'],\n",
       " ['C', 'C', '?'],\n",
       " ['TGGG', 'T', '?'],\n",
       " ['A', 'A', '?'],\n",
       " ['G', 'G', '?'],\n",
       " ['G', 'G', '?'],\n",
       " ['G', 'G', '?'],\n",
       " ['A', 'A', '?'],\n",
       " ['A', 'A', '?'],\n",
       " ['C', 'C', '?'],\n",
       " ['A', 'A', '?'],\n",
       " ['A', 'A', '?'],\n",
       " ['T', 'T', '?'],\n",
       " ['C', 'C', '?'],\n",
       " ['T', 'T', '?'],\n",
       " ['C', 'C', '?'],\n",
       " ['A', 'A', '?'],\n",
       " ['A', 'A', '?'],\n",
       " ['G', 'G', '?'],\n",
       " ['C', 'C', '?'],\n",
       " ['G', 'G', '?'],\n",
       " ['T', 'T', '?'],\n",
       " ['G', 'G', '?'],\n",
       " ['C', 'C', '?'],\n",
       " ['C', 'C', '?'],\n",
       " ['G', 'G', '?'],\n",
       " ['G', 'G', '?'],\n",
       " ['G', 'G', '?'],\n",
       " ['A', 'A', '?'],\n",
       " ['C', 'C', '?'],\n",
       " ['A', 'A', '?'],\n",
       " ['A', 'A', '?'],\n",
       " ['G', 'G', '?'],\n",
       " ['A', 'A', '?'],\n",
       " ['A', 'A', '?'],\n",
       " ['C', 'C', '?'],\n",
       " ['A', 'A', '?'],\n",
       " ['G', 'G', '?'],\n",
       " ['T', 'T', '?'],\n",
       " ['C', 'C', '?'],\n",
       " ['A', 'A', '?'],\n",
       " ['T', 'T', '?'],\n",
       " ['C', 'C', '?'],\n",
       " ['T', 'T', '?'],\n",
       " ['T', 'T', '?'],\n",
       " ['G', 'G', '?'],\n",
       " ['C', 'C', '?'],\n",
       " ['G', 'G', '?'],\n",
       " ['T', 'T', '?'],\n",
       " ['A', 'A', '?'],\n",
       " ['G', 'G', '?'],\n",
       " ['C', 'C', '?'],\n",
       " ['T', 'T', '?'],\n",
       " ['C', 'C', '?'],\n",
       " ['C', 'C', '?'],\n",
       " ['C', 'C', '?'],\n",
       " ['A', 'A', '?'],\n",
       " ['C', 'C', '?'],\n",
       " ['C', 'C', '?'],\n",
       " ['T', 'T', '?'],\n",
       " ['A', 'A', '?'],\n",
       " ['C', 'C', '?'],\n",
       " ['C', 'C', '?'],\n",
       " ['C', 'C', '?'],\n",
       " ['AG', 'AG', '?'],\n",
       " ['ACT', 'ACT', '?'],\n",
       " ['A', 'A', '?'],\n",
       " ['A', 'A', '?'],\n",
       " ['T', 'T', '?'],\n",
       " ['GTTGT', 'GTTGT', '?'],\n",
       " ['G', 'G', '?'],\n",
       " ['G', 'G', '?'],\n",
       " ['A', 'A', '?'],\n",
       " ['C', 'C', '?'],\n",
       " ['A', 'A', '?'],\n",
       " ['A', 'A', '?'],\n",
       " ['C', 'C', '?'],\n",
       " ['A', 'A', '?'],\n",
       " ['C', 'T', '?'],\n",
       " ['T', 'C', '?'],\n",
       " ['C', 'CACAACCACA', '?'],\n",
       " ['A', 'G', '?'],\n",
       " ['A', 'C', '?'],\n",
       " ['G', 'G', '?'],\n",
       " ['T', 'G', '?'],\n",
       " ['A', 'G', '?'],\n",
       " ['C', 'T', '?'],\n",
       " ['G', 'A', '?'],\n",
       " ['T', 'T', '?'],\n",
       " ['G', 'G', '?'],\n",
       " ['C', 'C', '?'],\n",
       " ['G', 'A', '?'],\n",
       " ['A', 'G', '?'],\n",
       " ['A', 'G', '?'],\n",
       " ['A', 'G', '?'],\n",
       " ['A', 'G', '?'],\n",
       " ['C', 'CA', '?'],\n",
       " ['A', 'AAAG', '?'],\n",
       " ['T', 'C', '?'],\n",
       " ['T', 'C', '?'],\n",
       " ['A', 'G', '|'],\n",
       " ['G', 'A', '|'],\n",
       " ['T', 'C', '|'],\n",
       " ['G', 'G', '?'],\n",
       " ['G', 'A', '|'],\n",
       " ['G', 'G', '?'],\n",
       " ['T', 'C', '|'],\n",
       " ['G', 'T', '|'],\n",
       " ['C', 'C', '?'],\n",
       " ['CA', 'CA', '?'],\n",
       " ['A', 'G', '|'],\n",
       " ['A', 'A', '?'],\n",
       " ['G', 'G', '?'],\n",
       " ['C', 'C', '?'],\n",
       " ['G', 'A', '?'],\n",
       " ['T', 'T', '?'],\n",
       " ['A', 'G', '?'],\n",
       " ['C', 'T', '?'],\n",
       " ['C', 'C', '?'],\n",
       " ['C', 'T', '?'],\n",
       " ['G', 'A', '?'],\n",
       " ['C', 'T', '?'],\n",
       " ['T', 'T', '?'],\n",
       " ['A', 'A', '?'],\n",
       " ['T', 'T', '?'],\n",
       " ['G', 'C', '?'],\n",
       " ['G', 'A', '?'],\n",
       " ['C', 'C', '?'],\n",
       " ['G', 'G', '?'],\n",
       " ['C', 'C', '?'],\n",
       " ['G', 'G', '?'],\n",
       " ['G', 'A', '?'],\n",
       " ['G', 'T', '?'],\n",
       " ['A', 'A', '?'],\n",
       " ['T', 'T', '?'],\n",
       " ['C', 'T', '?'],\n",
       " ['T', 'T', '?'],\n",
       " ['G', 'A', '?'],\n",
       " ['C', 'T', '?'],\n",
       " ['C', 'C', '?'],\n",
       " ['T', 'T', '?'],\n",
       " ['T', 'T', '?'],\n",
       " ['G', 'G', '?'],\n",
       " ['T', 'G', '?'],\n",
       " ['G', 'G', '?'],\n",
       " ['G', 'GCC', '?'],\n",
       " ['T', 'C', '?'],\n",
       " ['T', 'C', '?'],\n",
       " ['G', 'GGCA', '?'],\n",
       " ['G', 'A', '?'],\n",
       " ['T', 'C', '?'],\n",
       " ['G', 'C', '?'],\n",
       " ['T', 'C', '?'],\n",
       " ['G', 'C', '?'],\n",
       " ['T', 'A', '?'],\n",
       " ['T', 'A', '?'],\n",
       " ['A', 'G', '?'],\n",
       " ['C', 'CAA', '?'],\n",
       " ['T', 'C', '?'],\n",
       " ['T', 'C', '?'],\n",
       " ['C', 'G', '?'],\n",
       " ['T', 'C', '?'],\n",
       " ['T', 'C', '?'],\n",
       " ['C', 'T', '?'],\n",
       " ['C', 'A', '?'],\n",
       " ['T', 'C', '?'],\n",
       " ['A', 'G', '?'],\n",
       " ['T', 'C', '?'],\n",
       " ['G', 'A', '?'],\n",
       " ['C', 'A', '?'],\n",
       " ['C', 'A', '?'],\n",
       " ['C', 'T', '?'],\n",
       " ['G', 'A', '?'],\n",
       " ['C', 'T', '?'],\n",
       " ['C', 'C', '?'],\n",
       " ['C', 'G', '?'],\n",
       " ['A', 'G', '?'],\n",
       " ['G', 'A', '?'],\n",
       " ['A', 'G', '?'],\n",
       " ['A', 'G', '?'],\n",
       " ['C', 'T', '?'],\n",
       " ['G', 'T', '?'],\n",
       " ['G', 'C', '?'],\n",
       " ['G', 'A', '?'],\n",
       " ['T', 'C', '?'],\n",
       " ['G', 'A', '?'],\n",
       " ['A', 'G', '?'],\n",
       " ['G', 'A', '|'],\n",
       " ['G', 'A', '?'],\n",
       " ['G', 'A', '?'],\n",
       " ['G', 'T', '?'],\n",
       " ['C', 'T', '?'],\n",
       " ['A', 'G', '?'],\n",
       " ['T', 'C', '?'],\n",
       " ['C', 'T', '?'],\n",
       " ['A', 'G', '?'],\n",
       " ['C', 'CTT', '?'],\n",
       " ['C', 'A', '?'],\n",
       " ['T', 'C', '?'],\n",
       " ['T', 'T', '?'],\n",
       " ['C', 'T', '?'],\n",
       " ['G', 'T', '?'],\n",
       " ['A', 'G', '?'],\n",
       " ['G', 'C', '?'],\n",
       " ['C', 'T', '?'],\n",
       " ['A', 'AAAT', '?'],\n",
       " ['G', 'A', '?'],\n",
       " ['T', 'C', '?'],\n",
       " ['T', 'C', '?'],\n",
       " ['A', 'T', '?'],\n",
       " ['C', 'T', '?'],\n",
       " ['C', 'G', '?'],\n",
       " ['AAAAC', 'A', '?'],\n",
       " ['A', 'T', '?'],\n",
       " ['C', 'T', '?'],\n",
       " ['G', 'A', '?'],\n",
       " ['T', 'TG', '?'],\n",
       " ['G', 'G', '?'],\n",
       " ['T', 'C', '?'],\n",
       " ['G', 'A', '?'],\n",
       " ['T', 'C', '?'],\n",
       " ['G', 'A', '?'],\n",
       " ['G', 'C', '?'],\n",
       " ['T', 'C', '?'],\n",
       " ['C', 'T', '?'],\n",
       " ['G', 'C', '?'],\n",
       " ['G', 'T', '?'],\n",
       " ['G', 'A', '?'],\n",
       " ['C', 'T', '?'],\n",
       " ['G', 'A', '?'],\n",
       " ['T', 'C', '?'],\n",
       " ['A', 'G', '?'],\n",
       " ['A', 'G', '?'],\n",
       " ['T', 'C', '?'],\n",
       " ['T', 'C', '?'],\n",
       " ['G', 'T', '?'],\n",
       " ['T', 'C', '?'],\n",
       " ['A', 'G', '?'],\n",
       " ['G', 'A', '?'],\n",
       " ['C', 'T', '?'],\n",
       " ['A', 'AG', '?'],\n",
       " ['T', 'C', '?'],\n",
       " ['G', 'A', '?'],\n",
       " ['C', 'CAAA', '?'],\n",
       " ['A', 'C', '?'],\n",
       " ['T', 'C', '?'],\n",
       " ['C', 'T', '?'],\n",
       " ['C', 'A', '?'],\n",
       " ['GAAA', 'G', '?'],\n",
       " ['A', 'G', '?'],\n",
       " ['TCAAACAAACAAA', 'T', '?'],\n",
       " ['C', 'CTGT', '?'],\n",
       " ['T', 'C', '?'],\n",
       " ['C', 'CT', '?'],\n",
       " ['G', 'A', '?'],\n",
       " ['G', 'C', '?'],\n",
       " ['G', 'A', '?'],\n",
       " ['ACT', 'A', '?'],\n",
       " ['C', 'A', '?'],\n",
       " ['A', 'G', '?'],\n",
       " ['C', 'T', '?'],\n",
       " ['C', 'G', '?'],\n",
       " ['G', 'A', '?'],\n",
       " ['A', 'G', '?'],\n",
       " ['C', 'T', '?'],\n",
       " ['G', 'A', '?'],\n",
       " ['G', 'A', '?'],\n",
       " ['G', 'T', '?'],\n",
       " ['T', 'C', '?'],\n",
       " ['C', 'T', '?'],\n",
       " ['T', 'C', '?'],\n",
       " ['A', 'G', '?'],\n",
       " ['A', 'G', '?'],\n",
       " ['C', 'T', '?'],\n",
       " ['G', 'A', '?'],\n",
       " ['C', 'T', '?'],\n",
       " ['A', 'C', '?'],\n",
       " ['CAT', 'C', '?'],\n",
       " ['CACAT', 'C', '?'],\n",
       " ['C', 'T', '?'],\n",
       " ['A', 'C', '?'],\n",
       " ['C', 'CACATAT', '?'],\n",
       " ['G', 'A', '?'],\n",
       " ['T', 'TACACACAC', '-|'],\n",
       " ['A', 'G', '?'],\n",
       " ['A', 'G', '?'],\n",
       " ['G', 'A', '?'],\n",
       " ['G', 'A', '?'],\n",
       " ['G', 'G', '?'],\n",
       " ['T', 'C', '?'],\n",
       " ['T', 'G', '?'],\n",
       " ['G', 'A', '?'],\n",
       " ['T', 'C', '?'],\n",
       " ['GA', 'GAA', '?'],\n",
       " ['A', 'AT', '?'],\n",
       " ['G', 'A', '?'],\n",
       " ['TAGG', 'T', '?'],\n",
       " ['T', 'C', '?'],\n",
       " ['C', 'T', '?'],\n",
       " ['A', 'G', '?'],\n",
       " ['T', 'A', '?'],\n",
       " ['C', 'T', '?'],\n",
       " ['C', 'T', '?'],\n",
       " ['G', 'A', '?'],\n",
       " ['C', 'T', '?'],\n",
       " ['G', 'GGAA', '?'],\n",
       " ['C', 'T', '?'],\n",
       " ['A', 'C', '?'],\n",
       " ['C', 'T', '?'],\n",
       " ['T', 'G', '?'],\n",
       " ['A', 'G', '?'],\n",
       " ['G', 'A', '?'],\n",
       " ['T', 'G', '?'],\n",
       " ['GCCC', 'G', '?'],\n",
       " ['T', 'G', '?'],\n",
       " ['CGT', 'C', '?'],\n",
       " ['C', 'T', '?'],\n",
       " ['G', 'T', '?'],\n",
       " ['G', 'A', '?'],\n",
       " ['T', 'C', '?'],\n",
       " ['T', 'C', '?'],\n",
       " ['A', 'G', '?'],\n",
       " ['T', 'C', '?'],\n",
       " ['A', 'G', '?'],\n",
       " ['A', 'G', '?'],\n",
       " ['G', 'G', '?'],\n",
       " ['C', 'C', '?'],\n",
       " ['C', 'T', '?'],\n",
       " ['T', 'C', '?'],\n",
       " ['C', 'C', '?'],\n",
       " ['G', 'T', '?'],\n",
       " ['C', 'G', '?'],\n",
       " ['G', 'A', '?'],\n",
       " ['G', 'A', '?'],\n",
       " ['A', 'G', '?'],\n",
       " ['C', 'C', '?'],\n",
       " ['C', 'T', '?'],\n",
       " ['T', 'G', '?'],\n",
       " ['G', 'A', '?'],\n",
       " ['T', 'TTC', '?'],\n",
       " ['G', 'C', '?'],\n",
       " ['C', 'T', '?'],\n",
       " ['G', 'GCTCTGGGCCA', '?'],\n",
       " ['T', 'TGCTCTGGGCC', '?'],\n",
       " ['T', 'TACCCCAGGAGATCCCTGC', '?'],\n",
       " ['T', 'G', '?'],\n",
       " ['T', 'C', '?'],\n",
       " ['T', 'A', '?'],\n",
       " ['C', 'T', '?'],\n",
       " ['G', 'A', '?'],\n",
       " ['G', 'A', '?'],\n",
       " ['CA', 'C', '?'],\n",
       " ['A', 'G', '?'],\n",
       " ['C', 'T', '?'],\n",
       " ['C', 'T', '?'],\n",
       " ['G', 'C', '?'],\n",
       " ['G', 'A', '?'],\n",
       " ['C', 'C', '?'],\n",
       " ['C', 'C', '?'],\n",
       " ['C', 'A', '?'],\n",
       " ['A', 'G', '?'],\n",
       " ['T', 'C', '?'],\n",
       " ['G', 'A', '?'],\n",
       " ['G', 'G', '?'],\n",
       " ['T', 'C', '|'],\n",
       " ['C', 'A', '?'],\n",
       " ['C', 'T', '?'],\n",
       " ['C', 'C', '?'],\n",
       " ['C', 'A', '?'],\n",
       " ['C', 'T', '?'],\n",
       " ['G', 'A', '?'],\n",
       " ['C', 'T', '?'],\n",
       " ['C', 'T', '?'],\n",
       " ['G', 'GT', '?'],\n",
       " ['GC', 'G', '?'],\n",
       " ['A', 'A', '?'],\n",
       " ['T', 'T', '?'],\n",
       " ['C', 'T', '?'],\n",
       " ['AGTGT', 'A', '?'],\n",
       " ['C', 'C', '?'],\n",
       " ['T', 'C', '?'],\n",
       " ['A', 'A', '?'],\n",
       " ['C', 'T', '?'],\n",
       " ['G', 'C', '?'],\n",
       " ['G', 'A', '?'],\n",
       " ['G', 'T', '?'],\n",
       " ['T', 'C', '?'],\n",
       " ['C', 'T', '?'],\n",
       " ['A', 'G', '?'],\n",
       " ['C', 'T', '?'],\n",
       " ['A', 'G', '?'],\n",
       " ['T', 'C', '?'],\n",
       " ...]"
      ]
     },
     "execution_count": 43,
     "metadata": {},
     "output_type": "execute_result"
    }
   ],
   "source": [
    "phased_genome"
   ]
  },
  {
   "cell_type": "code",
   "execution_count": 44,
   "metadata": {
    "colab": {
     "base_uri": "https://localhost:8080/",
     "height": 35
    },
    "colab_type": "code",
    "id": "IMln3ktgZFDE",
    "outputId": "ec5e4b53-bdb4-4a26-c6cc-bd6d1e3e069f"
   },
   "outputs": [
    {
     "data": {
      "text/plain": [
       "170171"
      ]
     },
     "execution_count": 44,
     "metadata": {},
     "output_type": "execute_result"
    }
   ],
   "source": [
    "len(shared_SNPs)"
   ]
  },
  {
   "cell_type": "markdown",
   "metadata": {
    "colab_type": "text",
    "id": "VKSgD_34n_0P"
   },
   "source": [
    "# Correctly phased SNPs from the trio"
   ]
  },
  {
   "cell_type": "code",
   "execution_count": 45,
   "metadata": {
    "colab": {},
    "colab_type": "code",
    "id": "JIzl2P-QZqci"
   },
   "outputs": [],
   "source": [
    "correctly_phased_SNPs = [coords for coords, snp in zip(shared_SNPs, phased_genome) if snp[2] == \"|\"]"
   ]
  },
  {
   "cell_type": "code",
   "execution_count": 46,
   "metadata": {
    "colab": {
     "base_uri": "https://localhost:8080/",
     "height": 1000
    },
    "colab_type": "code",
    "id": "a4__3qwJdJOn",
    "outputId": "97e274d8-f1cb-4e9e-9911-fca4de4768ea"
   },
   "outputs": [
    {
     "data": {
      "text/plain": [
       "[('chr1', 969377),\n",
       " ('chr1', 1129916),\n",
       " ('chr1', 1130879),\n",
       " ('chr1', 1130902),\n",
       " ('chr1', 1131008),\n",
       " ('chr1', 1131023),\n",
       " ('chr1', 1131566),\n",
       " ('chr1', 1131572),\n",
       " ('chr1', 1131573),\n",
       " ('chr1', 1132216),\n",
       " ('chr1', 1132294),\n",
       " ('chr1', 1132482),\n",
       " ('chr1', 1133289),\n",
       " ('chr1', 1134748),\n",
       " ('chr1', 1135061),\n",
       " ('chr1', 1135738),\n",
       " ('chr1', 1135812),\n",
       " ('chr1', 1137118),\n",
       " ('chr1', 1144906),\n",
       " ('chr1', 1152303),\n",
       " ('chr1', 1154630),\n",
       " ('chr1', 1157219),\n",
       " ('chr1', 1160003),\n",
       " ('chr1', 1161528),\n",
       " ('chr1', 1161720),\n",
       " ('chr1', 1161907),\n",
       " ('chr1', 1161955),\n",
       " ('chr1', 1162027),\n",
       " ('chr1', 1163334),\n",
       " ('chr1', 1163440),\n",
       " ('chr1', 1163962),\n",
       " ('chr1', 1164837),\n",
       " ('chr1', 1164939),\n",
       " ('chr1', 1165623),\n",
       " ('chr1', 1168162),\n",
       " ('chr1', 1168310),\n",
       " ('chr1', 1168578),\n",
       " ('chr1', 1866635),\n",
       " ('chr1', 1904424),\n",
       " ('chr1', 1943142),\n",
       " ('chr1', 1950848),\n",
       " ('chr1', 1951510),\n",
       " ('chr1', 1951521),\n",
       " ('chr1', 1951920),\n",
       " ('chr1', 1953616),\n",
       " ('chr1', 1954783),\n",
       " ('chr1', 1954946),\n",
       " ('chr1', 1955580),\n",
       " ('chr1', 1956930),\n",
       " ('chr1', 1957586),\n",
       " ('chr1', 1958353),\n",
       " ('chr1', 1991867),\n",
       " ('chr1', 2053372),\n",
       " ('chr1', 2071051),\n",
       " ('chr1', 2074301),\n",
       " ('chr1', 2076235),\n",
       " ('chr1', 2129937),\n",
       " ('chr1', 2189679),\n",
       " ('chr1', 2394570),\n",
       " ('chr1', 2395373),\n",
       " ('chr1', 2396376),\n",
       " ('chr1', 2398222),\n",
       " ('chr1', 2398577),\n",
       " ('chr1', 2398751),\n",
       " ('chr1', 2477222),\n",
       " ('chr1', 2568459),\n",
       " ('chr1', 2806283),\n",
       " ('chr1', 2845230),\n",
       " ('chr1', 2870129),\n",
       " ('chr1', 2872148),\n",
       " ('chr1', 2873407),\n",
       " ('chr1', 2874578),\n",
       " ('chr1', 2930923),\n",
       " ('chr1', 2944366),\n",
       " ('chr1', 2966572),\n",
       " ('chr1', 3020251),\n",
       " ('chr1', 3082370),\n",
       " ('chr1', 3082638),\n",
       " ('chr1', 3082851),\n",
       " ('chr1', 3083901),\n",
       " ('chr1', 3085193),\n",
       " ('chr1', 3085284),\n",
       " ('chr1', 3085750),\n",
       " ('chr1', 3085771),\n",
       " ('chr1', 3085786),\n",
       " ('chr1', 3086128),\n",
       " ('chr1', 3092322),\n",
       " ('chr1', 3201289),\n",
       " ('chr1', 3415169),\n",
       " ('chr1', 3420749),\n",
       " ('chr1', 3420979),\n",
       " ('chr1', 3429784),\n",
       " ('chr1', 3431704),\n",
       " ('chr1', 3432949),\n",
       " ('chr1', 3518420),\n",
       " ('chr1', 3521371),\n",
       " ('chr1', 3523074),\n",
       " ('chr1', 3523464),\n",
       " ('chr1', 3615735),\n",
       " ('chr1', 3616064),\n",
       " ('chr1', 3659177),\n",
       " ('chr1', 3660757),\n",
       " ('chr1', 3661722),\n",
       " ('chr1', 3661751),\n",
       " ('chr1', 3663264),\n",
       " ('chr1', 3665657),\n",
       " ('chr1', 3665680),\n",
       " ('chr1', 3665681),\n",
       " ('chr1', 3667128),\n",
       " ('chr1', 3668515),\n",
       " ('chr1', 3672337),\n",
       " ('chr1', 3672437),\n",
       " ('chr1', 3688533),\n",
       " ('chr1', 3690286),\n",
       " ('chr1', 3705620),\n",
       " ('chr1', 3705742),\n",
       " ('chr1', 3706761),\n",
       " ('chr1', 3709204),\n",
       " ('chr1', 3709312),\n",
       " ('chr1', 3712099),\n",
       " ('chr1', 3712113),\n",
       " ('chr1', 3716973),\n",
       " ('chr1', 3717895),\n",
       " ('chr1', 3718096),\n",
       " ('chr1', 3718901),\n",
       " ('chr1', 3720683),\n",
       " ('chr1', 3722110),\n",
       " ('chr1', 3723079),\n",
       " ('chr1', 3723521),\n",
       " ('chr1', 3723570),\n",
       " ('chr1', 3724559),\n",
       " ('chr1', 3727785),\n",
       " ('chr1', 3727810),\n",
       " ('chr1', 3729628),\n",
       " ('chr1', 3729650),\n",
       " ('chr1', 3729727),\n",
       " ('chr1', 3736848),\n",
       " ('chr1', 3736862),\n",
       " ('chr1', 3761369),\n",
       " ('chr1', 3761657),\n",
       " ('chr1', 3762334),\n",
       " ('chr1', 3762575),\n",
       " ('chr1', 3792464),\n",
       " ('chr1', 3863073),\n",
       " ('chr1', 3863080),\n",
       " ('chr1', 3863116),\n",
       " ('chr1', 3863992),\n",
       " ('chr1', 3864572),\n",
       " ('chr1', 3865073),\n",
       " ('chr1', 3927491),\n",
       " ('chr1', 3942066),\n",
       " ('chr1', 3942438),\n",
       " ('chr1', 3955322),\n",
       " ('chr1', 3956581),\n",
       " ('chr1', 3956874),\n",
       " ('chr1', 3957077),\n",
       " ('chr1', 3959177),\n",
       " ('chr1', 3959339),\n",
       " ('chr1', 3959637),\n",
       " ('chr1', 3964196),\n",
       " ('chr1', 3964266),\n",
       " ('chr1', 3964359),\n",
       " ('chr1', 3964554),\n",
       " ('chr1', 3965511),\n",
       " ('chr1', 3966008),\n",
       " ('chr1', 3966301),\n",
       " ('chr1', 3967530),\n",
       " ('chr1', 3968222),\n",
       " ('chr1', 3968625),\n",
       " ('chr1', 3970204),\n",
       " ('chr1', 3971034),\n",
       " ('chr1', 3973327),\n",
       " ('chr1', 3974891),\n",
       " ('chr1', 3974942),\n",
       " ('chr1', 3975195),\n",
       " ('chr1', 3975207),\n",
       " ('chr1', 3976353),\n",
       " ('chr1', 3976364),\n",
       " ('chr1', 3976763),\n",
       " ('chr1', 3977605),\n",
       " ('chr1', 3977649),\n",
       " ('chr1', 3977658),\n",
       " ('chr1', 3978712),\n",
       " ('chr1', 3978817),\n",
       " ('chr1', 3979085),\n",
       " ('chr1', 3979380),\n",
       " ('chr1', 3979773),\n",
       " ('chr1', 3979836),\n",
       " ('chr1', 3981418),\n",
       " ('chr1', 3983456),\n",
       " ('chr1', 3989920),\n",
       " ('chr1', 3991189),\n",
       " ('chr1', 3994007),\n",
       " ('chr1', 3995220),\n",
       " ('chr1', 3995519),\n",
       " ('chr1', 3995656),\n",
       " ('chr1', 3996296),\n",
       " ('chr1', 3997428),\n",
       " ('chr1', 4187033),\n",
       " ('chr1', 4200933),\n",
       " ('chr1', 4223964),\n",
       " ('chr1', 4239016),\n",
       " ('chr1', 4277231),\n",
       " ('chr1', 4353533),\n",
       " ('chr1', 4416244),\n",
       " ('chr1', 4422704),\n",
       " ('chr1', 4426998),\n",
       " ('chr1', 4435642),\n",
       " ('chr1', 4457985),\n",
       " ('chr1', 4463297),\n",
       " ('chr1', 4464669),\n",
       " ('chr1', 4488393),\n",
       " ('chr1', 4489320),\n",
       " ('chr1', 4489342),\n",
       " ('chr1', 4490044),\n",
       " ('chr1', 4519198),\n",
       " ('chr1', 4522864),\n",
       " ('chr1', 4526740),\n",
       " ('chr1', 4530490),\n",
       " ('chr1', 4532184),\n",
       " ('chr1', 4534543),\n",
       " ('chr1', 4535251),\n",
       " ('chr1', 4535945),\n",
       " ('chr1', 4535951),\n",
       " ('chr1', 4536218),\n",
       " ('chr1', 4536228),\n",
       " ('chr1', 4536474),\n",
       " ('chr1', 4536504),\n",
       " ('chr1', 4537022),\n",
       " ('chr1', 4537540),\n",
       " ('chr1', 4537637),\n",
       " ('chr1', 4537795),\n",
       " ('chr1', 4537806),\n",
       " ('chr1', 4537901),\n",
       " ('chr1', 4537961),\n",
       " ('chr1', 4537967),\n",
       " ('chr1', 4538030),\n",
       " ('chr1', 4538157),\n",
       " ('chr1', 4538248),\n",
       " ('chr1', 4538250),\n",
       " ('chr1', 4538364),\n",
       " ('chr1', 4538394),\n",
       " ('chr1', 4538905),\n",
       " ('chr1', 4538934),\n",
       " ('chr1', 4539336),\n",
       " ('chr1', 4539625),\n",
       " ('chr1', 4539637),\n",
       " ('chr1', 4539775),\n",
       " ('chr1', 4539932),\n",
       " ('chr1', 4539946),\n",
       " ('chr1', 4540224),\n",
       " ('chr1', 4540261),\n",
       " ('chr1', 4540354),\n",
       " ('chr1', 4540431),\n",
       " ('chr1', 4540592),\n",
       " ('chr1', 4540609),\n",
       " ('chr1', 4540686),\n",
       " ('chr1', 4540724),\n",
       " ('chr1', 4540757),\n",
       " ('chr1', 4541074),\n",
       " ('chr1', 4541075),\n",
       " ('chr1', 4541241),\n",
       " ('chr1', 4541262),\n",
       " ('chr1', 4541498),\n",
       " ('chr1', 4541525),\n",
       " ('chr1', 4541664),\n",
       " ('chr1', 4542016),\n",
       " ('chr1', 4542028),\n",
       " ('chr1', 4542058),\n",
       " ('chr1', 4542257),\n",
       " ('chr1', 4545362),\n",
       " ('chr1', 4546132),\n",
       " ('chr1', 4546329),\n",
       " ('chr1', 4550190),\n",
       " ('chr1', 4550203),\n",
       " ('chr1', 4550573),\n",
       " ('chr1', 4551000),\n",
       " ('chr1', 4551018),\n",
       " ('chr1', 4551507),\n",
       " ('chr1', 4553173),\n",
       " ('chr1', 4553314),\n",
       " ('chr1', 4553451),\n",
       " ('chr1', 4553961),\n",
       " ('chr1', 4554762),\n",
       " ('chr1', 4555524),\n",
       " ('chr1', 4556006),\n",
       " ('chr1', 4556042),\n",
       " ('chr1', 4556739),\n",
       " ('chr1', 4558662),\n",
       " ('chr1', 4558978),\n",
       " ('chr1', 4562580),\n",
       " ('chr1', 4564445),\n",
       " ('chr1', 4565129),\n",
       " ('chr1', 4566195),\n",
       " ('chr1', 4566207),\n",
       " ('chr1', 4567422),\n",
       " ('chr1', 4567919),\n",
       " ('chr1', 4569126),\n",
       " ('chr1', 4573579),\n",
       " ('chr1', 4575495),\n",
       " ('chr1', 4576707),\n",
       " ('chr1', 4576844),\n",
       " ('chr1', 4578177),\n",
       " ('chr1', 4585665),\n",
       " ('chr1', 4588038),\n",
       " ('chr1', 4589119),\n",
       " ('chr1', 4589256),\n",
       " ('chr1', 4589737),\n",
       " ('chr1', 4590464),\n",
       " ('chr1', 4590629),\n",
       " ('chr1', 4591287),\n",
       " ('chr1', 4592863),\n",
       " ('chr1', 4597027),\n",
       " ('chr1', 4598705),\n",
       " ('chr1', 4600492),\n",
       " ('chr1', 4603625),\n",
       " ('chr1', 4651882),\n",
       " ('chr1', 4661147),\n",
       " ('chr1', 4663189),\n",
       " ('chr1', 4663698),\n",
       " ('chr1', 4668213),\n",
       " ('chr1', 4668757),\n",
       " ('chr1', 4670392),\n",
       " ('chr1', 4673661),\n",
       " ('chr1', 4699258),\n",
       " ('chr1', 4703341),\n",
       " ('chr1', 4705528),\n",
       " ('chr1', 4707693),\n",
       " ('chr1', 4708480),\n",
       " ('chr1', 4710169),\n",
       " ('chr1', 4710386),\n",
       " ('chr1', 4827628),\n",
       " ('chr1', 4827952),\n",
       " ('chr1', 4829528),\n",
       " ('chr1', 4831543),\n",
       " ('chr1', 4831676),\n",
       " ('chr1', 4834740),\n",
       " ('chr1', 4834933),\n",
       " ('chr1', 4835278),\n",
       " ('chr1', 4836201),\n",
       " ('chr1', 4836666),\n",
       " ('chr1', 4838773),\n",
       " ('chr1', 4898411),\n",
       " ('chr1', 4899726),\n",
       " ('chr1', 4906480),\n",
       " ('chr1', 4916058),\n",
       " ('chr1', 4953320),\n",
       " ('chr1', 5030937),\n",
       " ('chr1', 5069854),\n",
       " ('chr1', 5069882),\n",
       " ('chr1', 5070221),\n",
       " ('chr1', 5106473),\n",
       " ('chr1', 5107090),\n",
       " ('chr1', 5114018),\n",
       " ('chr1', 5114590),\n",
       " ('chr1', 5115129),\n",
       " ('chr1', 5115201),\n",
       " ('chr1', 5115230),\n",
       " ('chr1', 5115277),\n",
       " ('chr1', 5115450),\n",
       " ('chr1', 5116394),\n",
       " ('chr1', 5116473),\n",
       " ('chr1', 5116921),\n",
       " ('chr1', 5117216),\n",
       " ('chr1', 5117426),\n",
       " ('chr1', 5117429),\n",
       " ('chr1', 5117515),\n",
       " ('chr1', 5117886),\n",
       " ('chr1', 5117995),\n",
       " ('chr1', 5118589),\n",
       " ('chr1', 5118612),\n",
       " ('chr1', 5119048),\n",
       " ('chr1', 5119470),\n",
       " ('chr1', 5119675),\n",
       " ('chr1', 5119746),\n",
       " ('chr1', 5120760),\n",
       " ('chr1', 5120770),\n",
       " ('chr1', 5121555),\n",
       " ('chr1', 5121958),\n",
       " ('chr1', 5122007),\n",
       " ('chr1', 5122052),\n",
       " ('chr1', 5123316),\n",
       " ('chr1', 5123487),\n",
       " ('chr1', 5123865),\n",
       " ('chr1', 5124017),\n",
       " ('chr1', 5124629),\n",
       " ('chr1', 5125086),\n",
       " ('chr1', 5125766),\n",
       " ('chr1', 5127591),\n",
       " ('chr1', 5128379),\n",
       " ('chr1', 5128931),\n",
       " ('chr1', 5129365),\n",
       " ('chr1', 5244361),\n",
       " ('chr1', 5249031),\n",
       " ('chr1', 5303085),\n",
       " ('chr1', 5399284),\n",
       " ('chr1', 5415603),\n",
       " ('chr1', 5416364),\n",
       " ('chr1', 5416492),\n",
       " ('chr1', 5416728),\n",
       " ('chr1', 5416801),\n",
       " ('chr1', 5418841),\n",
       " ('chr1', 5419222),\n",
       " ('chr1', 5419801),\n",
       " ('chr1', 5420008),\n",
       " ('chr1', 5420041),\n",
       " ('chr1', 5420976),\n",
       " ('chr1', 5423625),\n",
       " ('chr1', 5431441),\n",
       " ('chr1', 5431983),\n",
       " ('chr1', 5432637),\n",
       " ('chr1', 5432704),\n",
       " ('chr1', 5432923),\n",
       " ('chr1', 5432931),\n",
       " ('chr1', 5433332),\n",
       " ('chr1', 5435357),\n",
       " ('chr1', 5435776),\n",
       " ('chr1', 5439050),\n",
       " ('chr1', 5439582),\n",
       " ('chr1', 5440617),\n",
       " ('chr1', 5453474),\n",
       " ('chr1', 5454181),\n",
       " ('chr1', 5454207),\n",
       " ('chr1', 5454252),\n",
       " ('chr1', 5454282),\n",
       " ('chr1', 5455466),\n",
       " ('chr1', 5455523),\n",
       " ('chr1', 5460114),\n",
       " ('chr1', 5461631),\n",
       " ('chr1', 5461994),\n",
       " ('chr1', 5464532),\n",
       " ('chr1', 5465387),\n",
       " ('chr1', 5466474),\n",
       " ('chr1', 5468624),\n",
       " ('chr1', 5468743),\n",
       " ('chr1', 5470336),\n",
       " ('chr1', 5470795),\n",
       " ('chr1', 5472559),\n",
       " ('chr1', 5472586),\n",
       " ('chr1', 5473039),\n",
       " ('chr1', 5480747),\n",
       " ('chr1', 5511296),\n",
       " ('chr1', 5523954),\n",
       " ('chr1', 5525155),\n",
       " ('chr1', 5529107),\n",
       " ('chr1', 5529328),\n",
       " ('chr1', 5530387),\n",
       " ('chr1', 5532362),\n",
       " ('chr1', 5532443),\n",
       " ('chr1', 5533371),\n",
       " ('chr1', 5533912),\n",
       " ('chr1', 5534677),\n",
       " ('chr1', 5535296),\n",
       " ('chr1', 5536078),\n",
       " ('chr1', 5537009),\n",
       " ('chr1', 5541888),\n",
       " ('chr1', 5542186),\n",
       " ('chr1', 5542187),\n",
       " ('chr1', 5547153),\n",
       " ('chr1', 5548319),\n",
       " ('chr1', 5551669),\n",
       " ('chr1', 5555464),\n",
       " ('chr1', 5555820),\n",
       " ('chr1', 5557927),\n",
       " ('chr1', 5596740),\n",
       " ('chr1', 5597043),\n",
       " ('chr1', 5597616),\n",
       " ('chr1', 5617715),\n",
       " ('chr1', 5618723),\n",
       " ('chr1', 5618890),\n",
       " ('chr1', 5618896),\n",
       " ('chr1', 5672322),\n",
       " ('chr1', 5676622),\n",
       " ('chr1', 5679177),\n",
       " ('chr1', 5679578),\n",
       " ('chr1', 5790970),\n",
       " ('chr1', 5795082),\n",
       " ('chr1', 5795357),\n",
       " ('chr1', 5796450),\n",
       " ('chr1', 5858752),\n",
       " ('chr1', 5858896),\n",
       " ('chr1', 5863728),\n",
       " ('chr1', 5869712),\n",
       " ('chr1', 5913715),\n",
       " ('chr1', 6007580),\n",
       " ('chr1', 6072250),\n",
       " ('chr1', 6084634),\n",
       " ('chr1', 6093465),\n",
       " ('chr1', 6097222),\n",
       " ('chr1', 6097374),\n",
       " ('chr1', 6097933),\n",
       " ('chr1', 6098502),\n",
       " ('chr1', 6101015),\n",
       " ('chr1', 6101040),\n",
       " ('chr1', 6102523),\n",
       " ('chr1', 6103075),\n",
       " ('chr1', 6103081),\n",
       " ('chr1', 6103524),\n",
       " ('chr1', 6104490),\n",
       " ('chr1', 6140825),\n",
       " ('chr1', 6143061),\n",
       " ('chr1', 6162441),\n",
       " ('chr1', 6218354),\n",
       " ('chr1', 6421782),\n",
       " ('chr1', 6423976),\n",
       " ('chr1', 6507189),\n",
       " ('chr1', 6508327),\n",
       " ('chr1', 6508890),\n",
       " ('chr1', 6509194),\n",
       " ('chr1', 6509226),\n",
       " ('chr1', 6509672),\n",
       " ('chr1', 6511052),\n",
       " ('chr1', 6511127),\n",
       " ('chr1', 6512801),\n",
       " ('chr1', 6512978),\n",
       " ('chr1', 6517811),\n",
       " ('chr1', 6517855),\n",
       " ('chr1', 6517902),\n",
       " ('chr1', 6518007),\n",
       " ('chr1', 6518010),\n",
       " ('chr1', 6518081),\n",
       " ('chr1', 6518342),\n",
       " ('chr1', 6518370),\n",
       " ('chr1', 6518412),\n",
       " ('chr1', 6518471),\n",
       " ('chr1', 6518867),\n",
       " ('chr1', 6519547),\n",
       " ('chr1', 6519783),\n",
       " ('chr1', 6520190),\n",
       " ('chr1', 6520369),\n",
       " ('chr1', 6521817),\n",
       " ('chr1', 6522745),\n",
       " ('chr1', 6523641),\n",
       " ('chr1', 6524041),\n",
       " ('chr1', 6525479),\n",
       " ('chr1', 6525744),\n",
       " ('chr1', 6526493),\n",
       " ('chr1', 6527263),\n",
       " ('chr1', 6527625),\n",
       " ('chr1', 6527800),\n",
       " ('chr1', 6527827),\n",
       " ('chr1', 6528544),\n",
       " ('chr1', 6530442),\n",
       " ('chr1', 6531406),\n",
       " ('chr1', 6531464),\n",
       " ('chr1', 6531877),\n",
       " ('chr1', 6533770),\n",
       " ('chr1', 6534870),\n",
       " ('chr1', 6535842),\n",
       " ('chr1', 6535928),\n",
       " ('chr1', 6535948),\n",
       " ('chr1', 6536139),\n",
       " ('chr1', 6536182),\n",
       " ('chr1', 6536190),\n",
       " ('chr1', 6536345),\n",
       " ('chr1', 6536618),\n",
       " ('chr1', 6536811),\n",
       " ('chr1', 6538981),\n",
       " ('chr1', 6539302),\n",
       " ('chr1', 6539463),\n",
       " ('chr1', 6539498),\n",
       " ('chr1', 6539695),\n",
       " ('chr1', 6540401),\n",
       " ('chr1', 6540547),\n",
       " ('chr1', 6541186),\n",
       " ('chr1', 6541230),\n",
       " ('chr1', 6541276),\n",
       " ('chr1', 6541547),\n",
       " ('chr1', 6541713),\n",
       " ('chr1', 6542213),\n",
       " ('chr1', 6542465),\n",
       " ('chr1', 6542526),\n",
       " ('chr1', 6542695),\n",
       " ('chr1', 6543091),\n",
       " ('chr1', 6543201),\n",
       " ('chr1', 6543218),\n",
       " ('chr1', 6543364),\n",
       " ('chr1', 6543617),\n",
       " ('chr1', 6543848),\n",
       " ('chr1', 6545710),\n",
       " ('chr1', 6545786),\n",
       " ('chr1', 6547139),\n",
       " ('chr1', 6547754),\n",
       " ('chr1', 6548259),\n",
       " ('chr1', 6548375),\n",
       " ('chr1', 6549499),\n",
       " ('chr1', 6549836),\n",
       " ('chr1', 6549898),\n",
       " ('chr1', 6550037),\n",
       " ('chr1', 6550093),\n",
       " ('chr1', 6550100),\n",
       " ('chr1', 6550306),\n",
       " ('chr1', 6550322),\n",
       " ('chr1', 6550966),\n",
       " ('chr1', 6551794),\n",
       " ('chr1', 6551921),\n",
       " ('chr1', 6551967),\n",
       " ('chr1', 6552209),\n",
       " ('chr1', 6552322),\n",
       " ('chr1', 6552542),\n",
       " ('chr1', 6552591),\n",
       " ('chr1', 6552834),\n",
       " ('chr1', 6553524),\n",
       " ('chr1', 6553798),\n",
       " ('chr1', 6553828),\n",
       " ('chr1', 6553849),\n",
       " ('chr1', 6554475),\n",
       " ('chr1', 6554593),\n",
       " ('chr1', 6555630),\n",
       " ('chr1', 6555635),\n",
       " ('chr1', 6558725),\n",
       " ('chr1', 6561936),\n",
       " ('chr1', 6561951),\n",
       " ('chr1', 6562115),\n",
       " ('chr1', 6562229),\n",
       " ('chr1', 6563062),\n",
       " ('chr1', 6563439),\n",
       " ('chr1', 6566555),\n",
       " ('chr1', 6567563),\n",
       " ('chr1', 6571371),\n",
       " ('chr1', 6571555),\n",
       " ('chr1', 6571640),\n",
       " ('chr1', 6575756),\n",
       " ('chr1', 6617004),\n",
       " ('chr1', 6618804),\n",
       " ('chr1', 6620847),\n",
       " ('chr1', 6621202),\n",
       " ('chr1', 6623180),\n",
       " ('chr1', 6625714),\n",
       " ('chr1', 6626154),\n",
       " ('chr1', 6629259),\n",
       " ('chr1', 6629764),\n",
       " ('chr1', 6631178),\n",
       " ('chr1', 6633037),\n",
       " ('chr1', 6633581),\n",
       " ('chr1', 6634147),\n",
       " ('chr1', 6634514),\n",
       " ('chr1', 6635271),\n",
       " ('chr1', 6641474),\n",
       " ('chr1', 6641918),\n",
       " ('chr1', 6651881),\n",
       " ('chr1', 6653222),\n",
       " ('chr1', 6658652),\n",
       " ('chr1', 6661174),\n",
       " ('chr1', 6663124),\n",
       " ('chr1', 6665170),\n",
       " ('chr1', 6666341),\n",
       " ('chr1', 6671441),\n",
       " ('chr1', 6672364),\n",
       " ('chr1', 6675204),\n",
       " ('chr1', 6677810),\n",
       " ('chr1', 6685079),\n",
       " ('chr1', 6688069),\n",
       " ('chr1', 6689856),\n",
       " ('chr1', 6692609),\n",
       " ('chr1', 6693177),\n",
       " ('chr1', 6697809),\n",
       " ('chr1', 6698626),\n",
       " ('chr1', 6876364),\n",
       " ('chr1', 6944241),\n",
       " ('chr1', 6950799),\n",
       " ('chr1', 6951311),\n",
       " ('chr1', 6952331),\n",
       " ('chr1', 6955045),\n",
       " ('chr1', 7011675),\n",
       " ('chr1', 7028690),\n",
       " ('chr1', 7069560),\n",
       " ('chr1', 7075208),\n",
       " ('chr1', 7077577),\n",
       " ('chr1', 7107278),\n",
       " ('chr1', 7265596),\n",
       " ('chr1', 7265921),\n",
       " ('chr1', 7266141),\n",
       " ('chr1', 7266185),\n",
       " ('chr1', 7266460),\n",
       " ('chr1', 7266561),\n",
       " ('chr1', 7266615),\n",
       " ('chr1', 7266687),\n",
       " ('chr1', 7266888),\n",
       " ('chr1', 7268266),\n",
       " ('chr1', 7268578),\n",
       " ('chr1', 7269077),\n",
       " ('chr1', 7271000),\n",
       " ('chr1', 7271980),\n",
       " ('chr1', 7273255),\n",
       " ('chr1', 7274378),\n",
       " ('chr1', 7274513),\n",
       " ('chr1', 7275060),\n",
       " ('chr1', 7276646),\n",
       " ('chr1', 7277456),\n",
       " ('chr1', 7277774),\n",
       " ('chr1', 7340716),\n",
       " ('chr1', 7391328),\n",
       " ('chr1', 7392258),\n",
       " ('chr1', 7447105),\n",
       " ('chr1', 7449548),\n",
       " ('chr1', 7452143),\n",
       " ('chr1', 7452493),\n",
       " ('chr1', 7452965),\n",
       " ('chr1', 7454336),\n",
       " ('chr1', 7454529),\n",
       " ('chr1', 7454613),\n",
       " ('chr1', 7481801),\n",
       " ('chr1', 7547701),\n",
       " ('chr1', 7549444),\n",
       " ('chr1', 7551078),\n",
       " ('chr1', 7647227),\n",
       " ('chr1', 7661287),\n",
       " ('chr1', 7661288),\n",
       " ('chr1', 7677739),\n",
       " ('chr1', 7681758),\n",
       " ('chr1', 7681965),\n",
       " ('chr1', 7687306),\n",
       " ('chr1', 7687919),\n",
       " ('chr1', 7688191),\n",
       " ('chr1', 7688251),\n",
       " ('chr1', 7688465),\n",
       " ('chr1', 7688608),\n",
       " ('chr1', 7688990),\n",
       " ('chr1', 7689449),\n",
       " ('chr1', 7689494),\n",
       " ('chr1', 7689747),\n",
       " ('chr1', 7689817),\n",
       " ('chr1', 7689965),\n",
       " ('chr1', 7690183),\n",
       " ('chr1', 7690993),\n",
       " ('chr1', 7691920),\n",
       " ('chr1', 7692768),\n",
       " ('chr1', 7692855),\n",
       " ('chr1', 7693072),\n",
       " ('chr1', 7695194),\n",
       " ('chr1', 7695746),\n",
       " ('chr1', 7696186),\n",
       " ('chr1', 7696495),\n",
       " ('chr1', 7697285),\n",
       " ('chr1', 7697938),\n",
       " ('chr1', 7701580),\n",
       " ('chr1', 7705537),\n",
       " ('chr1', 7710841),\n",
       " ('chr1', 7712826),\n",
       " ('chr1', 7715032),\n",
       " ('chr1', 7715275),\n",
       " ('chr1', 7715347),\n",
       " ('chr1', 7716275),\n",
       " ('chr1', 7716636),\n",
       " ('chr1', 7718853),\n",
       " ('chr1', 7740325),\n",
       " ('chr1', 7740543),\n",
       " ('chr1', 7741107),\n",
       " ('chr1', 7741820),\n",
       " ('chr1', 7743832),\n",
       " ('chr1', 7744455),\n",
       " ('chr1', 7745148),\n",
       " ('chr1', 7746956),\n",
       " ('chr1', 7747334),\n",
       " ('chr1', 7747837),\n",
       " ('chr1', 7747906),\n",
       " ('chr1', 7748238),\n",
       " ('chr1', 7749668),\n",
       " ('chr1', 7750483),\n",
       " ('chr1', 7750954),\n",
       " ('chr1', 7751155),\n",
       " ('chr1', 7751719),\n",
       " ('chr1', 7752338),\n",
       " ('chr1', 7753353),\n",
       " ('chr1', 7754631),\n",
       " ('chr1', 7756483),\n",
       " ('chr1', 7757256),\n",
       " ('chr1', 7757796),\n",
       " ('chr1', 7758619),\n",
       " ('chr1', 7768218),\n",
       " ('chr1', 7784620),\n",
       " ('chr1', 7786210),\n",
       " ('chr1', 7787302),\n",
       " ('chr1', 7787776),\n",
       " ('chr1', 7796444),\n",
       " ('chr1', 7797188),\n",
       " ('chr1', 7798865),\n",
       " ('chr1', 7799260),\n",
       " ('chr1', 7800216),\n",
       " ('chr1', 7800320),\n",
       " ('chr1', 7801285),\n",
       " ('chr1', 7801772),\n",
       " ('chr1', 7805224),\n",
       " ('chr1', 7806023),\n",
       " ('chr1', 7806405),\n",
       " ('chr1', 7809855),\n",
       " ('chr1', 7809988),\n",
       " ('chr1', 7810084),\n",
       " ('chr1', 7812493),\n",
       " ('chr1', 7816106),\n",
       " ('chr1', 7816186),\n",
       " ('chr1', 7816189),\n",
       " ('chr1', 7816948),\n",
       " ('chr1', 7817428),\n",
       " ('chr1', 7817996),\n",
       " ('chr1', 7818487),\n",
       " ('chr1', 7819070),\n",
       " ('chr1', 7819792),\n",
       " ('chr1', 7820409),\n",
       " ('chr1', 7822258),\n",
       " ('chr1', 7822395),\n",
       " ('chr1', 7823774),\n",
       " ('chr1', 7825891),\n",
       " ('chr1', 7827433),\n",
       " ('chr1', 7828098),\n",
       " ('chr1', 7828512),\n",
       " ('chr1', 7829092),\n",
       " ('chr1', 7829318),\n",
       " ('chr1', 7831023),\n",
       " ('chr1', 7832718),\n",
       " ('chr1', 7834131),\n",
       " ('chr1', 7834446),\n",
       " ('chr1', 7834820),\n",
       " ('chr1', 7835512),\n",
       " ('chr1', 7840335),\n",
       " ('chr1', 7841288),\n",
       " ('chr1', 7841935),\n",
       " ('chr1', 7844187),\n",
       " ('chr1', 7844415),\n",
       " ('chr1', 7846195),\n",
       " ('chr1', 7846416),\n",
       " ('chr1', 7847261),\n",
       " ('chr1', 7847560),\n",
       " ('chr1', 7849970),\n",
       " ('chr1', 7850331),\n",
       " ('chr1', 7851039),\n",
       " ('chr1', 7851169),\n",
       " ('chr1', 7851182),\n",
       " ('chr1', 7852502),\n",
       " ('chr1', 7853370),\n",
       " ('chr1', 7854117),\n",
       " ('chr1', 7854989),\n",
       " ('chr1', 7855563),\n",
       " ('chr1', 7856899),\n",
       " ('chr1', 7857100),\n",
       " ('chr1', 7857107),\n",
       " ('chr1', 7857852),\n",
       " ('chr1', 7860714),\n",
       " ('chr1', 7865893),\n",
       " ('chr1', 7865930),\n",
       " ('chr1', 7866482),\n",
       " ('chr1', 7866875),\n",
       " ('chr1', 7866931),\n",
       " ('chr1', 7867396),\n",
       " ('chr1', 7867450),\n",
       " ('chr1', 7867729),\n",
       " ('chr1', 7867746),\n",
       " ('chr1', 7867748),\n",
       " ('chr1', 7867921),\n",
       " ('chr1', 7868131),\n",
       " ('chr1', 7868688),\n",
       " ('chr1', 7868857),\n",
       " ('chr1', 7879493),\n",
       " ('chr1', 7890967),\n",
       " ('chr1', 7892143),\n",
       " ('chr1', 7893386),\n",
       " ('chr1', 7893884),\n",
       " ('chr1', 7894142),\n",
       " ('chr1', 7894403),\n",
       " ('chr1', 7895029),\n",
       " ('chr1', 7905220),\n",
       " ('chr1', 7910188),\n",
       " ('chr1', 7914326),\n",
       " ('chr1', 7918175),\n",
       " ('chr1', 7954388),\n",
       " ('chr1', 7955500),\n",
       " ('chr1', 7957591),\n",
       " ('chr1', 7958975),\n",
       " ('chr1', 7961718),\n",
       " ('chr1', 7962111),\n",
       " ('chr1', 7963528),\n",
       " ('chr1', 7963574),\n",
       " ('chr1', 7963610),\n",
       " ('chr1', 7963666),\n",
       " ('chr1', 7964630),\n",
       " ('chr1', 7967646),\n",
       " ('chr1', 7968805),\n",
       " ('chr1', 7973408),\n",
       " ('chr1', 7974334),\n",
       " ('chr1', 7975211),\n",
       " ('chr1', 7976015),\n",
       " ('chr1', 7977436),\n",
       " ('chr1', 7978392),\n",
       " ('chr1', 7979889),\n",
       " ('chr1', 7980117),\n",
       " ('chr1', 7980909),\n",
       " ('chr1', 7981292),\n",
       " ('chr1', 7982676),\n",
       " ('chr1', 7984301),\n",
       " ('chr1', 7985775),\n",
       " ('chr1', 7986287),\n",
       " ('chr1', 7986774),\n",
       " ('chr1', 7987608),\n",
       " ('chr1', 7987872),\n",
       " ('chr1', 7988297),\n",
       " ('chr1', 7988655),\n",
       " ('chr1', 7993593),\n",
       " ('chr1', 7993605),\n",
       " ('chr1', 7994233),\n",
       " ('chr1', 7994853),\n",
       " ('chr1', 7995620),\n",
       " ('chr1', 7996393),\n",
       " ('chr1', 7996609),\n",
       " ('chr1', 7997194),\n",
       " ('chr1', 7997387),\n",
       " ('chr1', 7998117),\n",
       " ('chr1', 7999838),\n",
       " ('chr1', 8001603),\n",
       " ('chr1', 8001713),\n",
       " ('chr1', 8001856),\n",
       " ('chr1', 8001982),\n",
       " ('chr1', 8001999),\n",
       " ('chr1', 8002328),\n",
       " ('chr1', 8003468),\n",
       " ('chr1', 8003881),\n",
       " ('chr1', 8004518),\n",
       " ('chr1', 8006854),\n",
       " ('chr1', 8007774),\n",
       " ('chr1', 8008484),\n",
       " ('chr1', 8008962),\n",
       " ('chr1', 8012406),\n",
       " ('chr1', 8015834),\n",
       " ('chr1', 8016025),\n",
       " ('chr1', 8018249),\n",
       " ('chr1', 8019434),\n",
       " ('chr1', 8020652),\n",
       " ('chr1', 8023991),\n",
       " ('chr1', 8024153),\n",
       " ('chr1', 8025268),\n",
       " ('chr1', 8029739),\n",
       " ('chr1', 8030555),\n",
       " ('chr1', 8032944),\n",
       " ('chr1', 8032946),\n",
       " ('chr1', 8033372),\n",
       " ('chr1', 8034104),\n",
       " ('chr1', 8034208),\n",
       " ('chr1', 8034581),\n",
       " ('chr1', 8034794),\n",
       " ('chr1', 8036083),\n",
       " ('chr1', 8036102),\n",
       " ('chr1', 8038402),\n",
       " ('chr1', 8038670),\n",
       " ('chr1', 8039070),\n",
       " ('chr1', 8041999),\n",
       " ('chr1', 8042741),\n",
       " ('chr1', 8045039),\n",
       " ('chr1', 8045115),\n",
       " ('chr1', 8045470),\n",
       " ('chr1', 8045540),\n",
       " ('chr1', 8048694),\n",
       " ('chr1', 8050433),\n",
       " ('chr1', 8050846),\n",
       " ('chr1', 8051032),\n",
       " ('chr1', 8051254),\n",
       " ('chr1', 8052291),\n",
       " ('chr1', 8056625),\n",
       " ('chr1', 8058122),\n",
       " ('chr1', 8059654),\n",
       " ('chr1', 8059843),\n",
       " ('chr1', 8059995),\n",
       " ('chr1', 8061065),\n",
       " ('chr1', 8061762),\n",
       " ('chr1', 8063002),\n",
       " ('chr1', 8063624),\n",
       " ('chr1', 8064255),\n",
       " ('chr1', 8065027),\n",
       " ('chr1', 8065047),\n",
       " ('chr1', 8065924),\n",
       " ('chr1', 8067856),\n",
       " ('chr1', 8071697),\n",
       " ('chr1', 8081653),\n",
       " ('chr1', 8085587),\n",
       " ('chr1', 8092819),\n",
       " ('chr1', 8093925),\n",
       " ('chr1', 8094229),\n",
       " ('chr1', 8094487),\n",
       " ('chr1', 8098719),\n",
       " ('chr1', 8099286),\n",
       " ('chr1', 8099311),\n",
       " ('chr1', 8104308),\n",
       " ('chr1', 8104343),\n",
       " ('chr1', 8104593),\n",
       " ('chr1', 8105032),\n",
       " ('chr1', 8105340),\n",
       " ('chr1', 8105514),\n",
       " ('chr1', 8107381),\n",
       " ('chr1', 8110447),\n",
       " ('chr1', 8110594),\n",
       " ('chr1', 8113485),\n",
       " ('chr1', 8114613),\n",
       " ('chr1', 8115444),\n",
       " ('chr1', 8115887),\n",
       " ('chr1', 8115902),\n",
       " ('chr1', 8116134),\n",
       " ('chr1', 8116968),\n",
       " ('chr1', 8129794),\n",
       " ('chr1', 8130041),\n",
       " ('chr1', 8130126),\n",
       " ('chr1', 8130513),\n",
       " ...]"
      ]
     },
     "execution_count": 46,
     "metadata": {},
     "output_type": "execute_result"
    }
   ],
   "source": [
    "correctly_phased_SNPs"
   ]
  },
  {
   "cell_type": "markdown",
   "metadata": {
    "colab_type": "text",
    "id": "r4rvUS4Mdlz7"
   },
   "source": [
    "# Erasing information about phasing from the VCF file"
   ]
  },
  {
   "cell_type": "code",
   "execution_count": 48,
   "metadata": {
    "colab": {},
    "colab_type": "code",
    "id": "DMxXTJWQojZo"
   },
   "outputs": [],
   "source": [
    "def merge_record(old_record_str, new_record):\n",
    "    s = old_record_str\n",
    "    curr = 0\n",
    "    peeled = []\n",
    "    for elem in old_record_str.split():\n",
    "        pos = s.find(elem)\n",
    "        peeled.append(s[:pos])\n",
    "        s = s[pos + len(elem):]\n",
    "    to_collapse = []\n",
    "    for i, j in zip(peeled, new_record):\n",
    "        to_collapse.append(i)\n",
    "        to_collapse.append(j)\n",
    "    v = \"\".join(to_collapse) + s\n",
    "    return v"
   ]
  },
  {
   "cell_type": "code",
   "execution_count": 49,
   "metadata": {
    "colab": {},
    "colab_type": "code",
    "id": "v53KDt0lpgkN"
   },
   "outputs": [],
   "source": [
    "def sort_GT(field, record):\n",
    "    sep = \"/\"\n",
    "    if sep not in field:\n",
    "        sep = \"|\"\n",
    "        if sep not in field:\n",
    "            raise ValueError(\"GT issues with record: {}\".format(record))\n",
    "\n",
    "    a, b = field.split(sep)\n",
    "    correct_order = [a, b] == sorted([a, b])\n",
    "    if correct_order:\n",
    "        new_GT = \"/\".join([a, b])\n",
    "    else:\n",
    "        new_GT = \"/\".join([b, a])\n",
    "    return new_GT, int(a), int(b), not correct_order # reverse\n",
    "\n",
    "def reverse_field(field, a, b):\n",
    "    elems = field.split(\",\")\n",
    "    new_elems = [i for i in elems]\n",
    "    new_elems[a] = elems[b]\n",
    "    new_elems[b] = elems[a]\n",
    "    return \",\".join(new_elems)\n",
    "\n",
    "def erase_phasing(record_str):\n",
    "    record = record_str.split()\n",
    "    params = record[8].split(\":\")\n",
    "    values = record[9].split(\":\")\n",
    "    result = []\n",
    "    for param, value in zip(params, values):\n",
    "        if param in [\"GT\"]:\n",
    "            new_value, a, b, reverse = sort_GT(value, record)\n",
    "        elif param in [\"ADALL\", \"AD\"]:\n",
    "            if reverse:\n",
    "                new_value = reverse_field(value, a, b)\n",
    "        elif param in [\"IGT\", \"IPS\", \"PS\"]:\n",
    "            new_value = \".\"\n",
    "        else:\n",
    "            new_value = value\n",
    "        result.append(new_value)\n",
    "    new_record = [i for i in record]\n",
    "    new_record[9] = \":\".join(result)\n",
    "    return merge_record(record_str, new_record)"
   ]
  },
  {
   "cell_type": "code",
   "execution_count": 51,
   "metadata": {
    "colab": {},
    "colab_type": "code",
    "id": "lSaP8dL-pjQL"
   },
   "outputs": [],
   "source": [
    "test_record = \"chr1\t8303862\t.\tTCAAACAAACAAACAAACAAA\tTCAAACAAACAAACAAA,T\t50\tPASS\tplatforms=2;platformnames=Illumina,10X;datasets=3;datasetnames=HiSeqPE300x,HiSeq250x250,10XChromium;callsets=5;callsetnames=HiSeqPE300xSentieon,HiSeq250x250Sentieon,HiSeqPE300xfreebayes,HiSeq250x250freebayes,10XSentieonhaplo;datasetsmissingcall=CGnormal,HiSeqMatePair,IonExome,SolidSE75bp;callable=CS_HiSeqPE300xSentieon_callable,CS_HiSeq250x250Sentieon_callable;filt=CS_HiSeqMatePairfreebayes_filt;difficultregion=AllRepeats_lt51bp_gt95identity_merged\tGT:DP:ADALL:AD:GQ:IGT:IPS:PS\t2/1:508:0,73,102:0,128,144:297:2|1:.:.\""
   ]
  },
  {
   "cell_type": "code",
   "execution_count": 52,
   "metadata": {
    "colab": {},
    "colab_type": "code",
    "id": "KJixqjaEplFs"
   },
   "outputs": [],
   "source": [
    "new_test_record = erase_phasing(test_record)\n",
    "#assert \"/\".join(test_record.split(\"|\")) == \"/\".join(new_test_record.split(\"|\"))"
   ]
  },
  {
   "cell_type": "code",
   "execution_count": 53,
   "metadata": {},
   "outputs": [
    {
     "data": {
      "text/plain": [
       "['chr1',\n",
       " '8303862',\n",
       " '.',\n",
       " 'TCAAACAAACAAACAAACAAA',\n",
       " 'TCAAACAAACAAACAAA,T',\n",
       " '50',\n",
       " 'PASS',\n",
       " 'platforms=2;platformnames=Illumina,10X;datasets=3;datasetnames=HiSeqPE300x,HiSeq250x250,10XChromium;callsets=5;callsetnames=HiSeqPE300xSentieon,HiSeq250x250Sentieon,HiSeqPE300xfreebayes,HiSeq250x250freebayes,10XSentieonhaplo;datasetsmissingcall=CGnormal,HiSeqMatePair,IonExome,SolidSE75bp;callable=CS_HiSeqPE300xSentieon_callable,CS_HiSeq250x250Sentieon_callable;filt=CS_HiSeqMatePairfreebayes_filt;difficultregion=AllRepeats_lt51bp_gt95identity_merged',\n",
       " 'GT:DP:ADALL:AD:GQ:IGT:IPS:PS',\n",
       " '1/2:508:0,102,73:0,144,128:297:.:.:.']"
      ]
     },
     "execution_count": 53,
     "metadata": {},
     "output_type": "execute_result"
    }
   ],
   "source": [
    "new_test_record.split()"
   ]
  },
  {
   "cell_type": "code",
   "execution_count": 13,
   "metadata": {
    "colab": {},
    "colab_type": "code",
    "id": "5sBLXLcKpqv_"
   },
   "outputs": [],
   "source": [
    "with open(\"jewish_son_copy.vcf\") as f:\n",
    "    with open(\"reverse_jewish_son.vcf\", \"w\") as g:\n",
    "        for i, record in enumerate(f):\n",
    "            if not record:\n",
    "                g.write(\"\")\n",
    "            elif record and record[0] == \"#\":\n",
    "                g.write(record)\n",
    "            else:\n",
    "                record = erase_phasing(record)\n",
    "                g.write(record)"
   ]
  },
  {
   "cell_type": "markdown",
   "metadata": {},
   "source": [
    "# How to exclude individuals related to our benchmark\n",
    "\n",
    "A little test with dephased, artificially generated genomes"
   ]
  },
  {
   "cell_type": "code",
   "execution_count": 23,
   "metadata": {},
   "outputs": [
    {
     "name": "stdout",
     "output_type": "stream",
     "text": [
      "[['T', 'G'], ['C', 'C'], ['C', 'T'], ['T', 'G'], ['G', 'G']]\n",
      "[['T', 'C'], ['A', 'A'], ['G', 'T'], ['T', 'T'], ['T', 'G']]\n",
      "[['T', 'G'], ['A', 'C'], ['C', 'T'], ['G', 'T'], ['G', 'G']]\n"
     ]
    }
   ],
   "source": [
    "print(dephased_genome1[:5])\n",
    "print(dephased_genome2[:5])\n",
    "print(dephased_offspring[:5])"
   ]
  },
  {
   "cell_type": "code",
   "execution_count": 24,
   "metadata": {},
   "outputs": [],
   "source": [
    "panel = [dephased_genome1, dephased_genome2, dephased_offspring, create_genome(genome_length)]"
   ]
  },
  {
   "cell_type": "code",
   "execution_count": 25,
   "metadata": {},
   "outputs": [],
   "source": [
    "def score_similarity(target, panel):\n",
    "    similarity_individuals = [0] * len(panel)\n",
    "    for i, snp in enumerate(target):\n",
    "        for j in range(len(similarity_individuals)):\n",
    "            #for haplo_snp in snp:\n",
    "            #    if haplo_snp in panel[j][i]:\n",
    "            #        should_score += 1\n",
    "            should_score = sorted(snp) == sorted(panel[j][i])\n",
    "            similarity_individuals[j] += should_score\n",
    "    return similarity_individuals"
   ]
  },
  {
   "cell_type": "code",
   "execution_count": 55,
   "metadata": {},
   "outputs": [],
   "source": [
    "similarity_individuals = score_similarity(offspring, panel)"
   ]
  },
  {
   "cell_type": "code",
   "execution_count": 56,
   "metadata": {},
   "outputs": [
    {
     "data": {
      "text/plain": [
       "[15, 10, 50, 6]"
      ]
     },
     "execution_count": 56,
     "metadata": {},
     "output_type": "execute_result"
    }
   ],
   "source": [
    "similarity_individuals"
   ]
  },
  {
   "cell_type": "markdown",
   "metadata": {
    "colab_type": "text",
    "id": "YFv3WRUErdoR"
   },
   "source": [
    "# Downloading 1000 Genomes project data"
   ]
  },
  {
   "cell_type": "code",
   "execution_count": 188,
   "metadata": {
    "colab": {},
    "colab_type": "code",
    "id": "Zky7ts-Mr18s"
   },
   "outputs": [],
   "source": [
    "link = \"http://ftp.1000genomes.ebi.ac.uk/vol1/ftp/data_collections/1000_genomes_project/release/20181203_biallelic_SNV/ALL.{chromosome}.shapeit2_integrated_v1a.GRCh38.20181129.phased.vcf.gz{tabix}\""
   ]
  },
  {
   "cell_type": "code",
   "execution_count": 44,
   "metadata": {},
   "outputs": [],
   "source": [
    "chromosomes = [\"chr{chromosome}\".format(chromosome=chromosome) for chromosome in list(range(1, 23)) + [\"X\"]]"
   ]
  },
  {
   "cell_type": "code",
   "execution_count": 16,
   "metadata": {
    "colab": {},
    "colab_type": "code",
    "id": "aUFz_GrMuSCm"
   },
   "outputs": [],
   "source": [
    "results = []\n",
    "for chromosome in chromosomes:\n",
    "    result = subprocess.Popen([\"wget\", link.format(chromosome=chromosome, tabix=\".tbi\")])\n",
    "    results.append(result)\n",
    "    result = subprocess.Popen([\"wget\", link.format(chromosome=chromosome, tabix=\"\")])\n",
    "    results.append(result)"
   ]
  },
  {
   "cell_type": "code",
   "execution_count": 17,
   "metadata": {
    "colab": {},
    "colab_type": "code",
    "id": "AKDSg9Z1syg-"
   },
   "outputs": [],
   "source": [
    "for result in results:\n",
    "    result.wait()"
   ]
  },
  {
   "cell_type": "code",
   "execution_count": 18,
   "metadata": {
    "colab": {
     "base_uri": "https://localhost:8080/",
     "height": 298
    },
    "colab_type": "code",
    "id": "5trlaEmDzB_K",
    "outputId": "8e5b715f-5117-40ca-91b3-f59093e1eb1a"
   },
   "outputs": [],
   "source": [
    "return_codes = [result.returncode for result in results]"
   ]
  },
  {
   "cell_type": "code",
   "execution_count": 19,
   "metadata": {
    "colab": {},
    "colab_type": "code",
    "id": "bP1ZUv44vvtF"
   },
   "outputs": [],
   "source": [
    "assert not any(return_codes)"
   ]
  },
  {
   "cell_type": "code",
   "execution_count": 22,
   "metadata": {
    "colab": {
     "base_uri": "https://localhost:8080/",
     "height": 359
    },
    "colab_type": "code",
    "id": "6qaTPEZHK1rf",
    "outputId": "507f976e-bf43-40c9-c49d-8b131653de0d"
   },
   "outputs": [
    {
     "name": "stdout",
     "output_type": "stream",
     "text": [
      "E: Could not open lock file /var/lib/dpkg/lock-frontend - open (13: Permission denied)\r\n",
      "E: Unable to acquire the dpkg frontend lock (/var/lib/dpkg/lock-frontend), are you root?\r\n"
     ]
    }
   ],
   "source": [
    "!apt-get install tabix"
   ]
  },
  {
   "cell_type": "code",
   "execution_count": 23,
   "metadata": {
    "colab": {},
    "colab_type": "code",
    "id": "OP9H6XMDKtws"
   },
   "outputs": [],
   "source": [
    "!bgzip reverse_jewish_son.vcf"
   ]
  },
  {
   "cell_type": "code",
   "execution_count": 24,
   "metadata": {
    "colab": {},
    "colab_type": "code",
    "id": "YCaYKamkLWAW"
   },
   "outputs": [],
   "source": [
    "!tabix reverse_jewish_son.vcf.gz"
   ]
  },
  {
   "cell_type": "markdown",
   "metadata": {},
   "source": [
    "# Checking if the individual was a part of the panel (Careful takes 60 minutes!)"
   ]
  },
  {
   "cell_type": "code",
   "execution_count": 28,
   "metadata": {},
   "outputs": [
    {
     "ename": "NameError",
     "evalue": "name 'link' is not defined",
     "output_type": "error",
     "traceback": [
      "\u001b[0;31m---------------------------------------------------------------------------\u001b[0m",
      "\u001b[0;31mNameError\u001b[0m                                 Traceback (most recent call last)",
      "\u001b[0;32m<ipython-input-28-721372e5dc0f>\u001b[0m in \u001b[0;36m<module>\u001b[0;34m\u001b[0m\n\u001b[0;32m----> 1\u001b[0;31m \u001b[0mchr1_file\u001b[0m \u001b[0;34m=\u001b[0m \u001b[0mlink\u001b[0m\u001b[0;34m.\u001b[0m\u001b[0msplit\u001b[0m\u001b[0;34m(\u001b[0m\u001b[0;34m\"/\"\u001b[0m\u001b[0;34m)\u001b[0m\u001b[0;34m[\u001b[0m\u001b[0;34m-\u001b[0m\u001b[0;36m1\u001b[0m\u001b[0;34m]\u001b[0m\u001b[0;34m.\u001b[0m\u001b[0mformat\u001b[0m\u001b[0;34m(\u001b[0m\u001b[0mchromosome\u001b[0m\u001b[0;34m=\u001b[0m\u001b[0;34m\"chr1\"\u001b[0m\u001b[0;34m,\u001b[0m \u001b[0mtabix\u001b[0m\u001b[0;34m=\u001b[0m\u001b[0;34m\"\"\u001b[0m\u001b[0;34m)\u001b[0m\u001b[0;34m\u001b[0m\u001b[0;34m\u001b[0m\u001b[0m\n\u001b[0m",
      "\u001b[0;31mNameError\u001b[0m: name 'link' is not defined"
     ]
    }
   ],
   "source": [
    "chr1_file = link.split(\"/\")[-1].format(chromosome=\"chr1\", tabix=\"\")"
   ]
  },
  {
   "cell_type": "code",
   "execution_count": 200,
   "metadata": {},
   "outputs": [
    {
     "data": {
      "text/plain": [
       "True"
      ]
     },
     "execution_count": 200,
     "metadata": {},
     "output_type": "execute_result"
    }
   ],
   "source": [
    "chr1_file in os.listdir()"
   ]
  },
  {
   "cell_type": "code",
   "execution_count": 204,
   "metadata": {},
   "outputs": [
    {
     "name": "stdout",
     "output_type": "stream",
     "text": [
      "ALL.chr1.shapeit2_integrated_v1a.GRCh38.20181129.phased.vcf.gz\n"
     ]
    }
   ],
   "source": [
    "print(chr1_file)"
   ]
  },
  {
   "cell_type": "code",
   "execution_count": 205,
   "metadata": {},
   "outputs": [],
   "source": [
    "!cp ALL.chr1.shapeit2_integrated_v1a.GRCh38.20181129.phased.vcf.gz ALL.chr1.shapeit2_integrated_v1a.GRCh38.20181129.phased.copy.vcf.gz"
   ]
  },
  {
   "cell_type": "code",
   "execution_count": 206,
   "metadata": {},
   "outputs": [],
   "source": [
    "!gunzip ALL.chr1.shapeit2_integrated_v1a.GRCh38.20181129.phased.copy.vcf.gz"
   ]
  },
  {
   "cell_type": "code",
   "execution_count": 29,
   "metadata": {},
   "outputs": [],
   "source": [
    "vcf_unzipped = \"ALL.chr1.shapeit2_integrated_v1a.GRCh38.20181129.phased.copy.vcf\""
   ]
  },
  {
   "cell_type": "code",
   "execution_count": 30,
   "metadata": {},
   "outputs": [],
   "source": []
  },
  {
   "cell_type": "code",
   "execution_count": 31,
   "metadata": {},
   "outputs": [],
   "source": [
    "def split_sample(sample):\n",
    "    values = sample.split(\"/\")\n",
    "    if not len(values) == 2:\n",
    "        values = sample.split(\"|\")\n",
    "    if not len(values) == 2:\n",
    "        raise ValueError(\"weird snp: {}\".format(sample))\n",
    "    return [int(i) for i in values]"
   ]
  },
  {
   "cell_type": "code",
   "execution_count": 32,
   "metadata": {},
   "outputs": [
    {
     "data": {
      "text/plain": [
       "[0, 0]"
      ]
     },
     "execution_count": 32,
     "metadata": {},
     "output_type": "execute_result"
    }
   ],
   "source": [
    "split_sample(\"0|0\")"
   ]
  },
  {
   "cell_type": "code",
   "execution_count": 34,
   "metadata": {},
   "outputs": [],
   "source": [
    "def load_1000_genome(filename, limit):\n",
    "    with open(vcf_unzipped) as f:\n",
    "        last_header_processed = False\n",
    "        for j, line in enumerate(f):\n",
    "            if j == limit:\n",
    "                break\n",
    "            if line and line[0] == \"#\":\n",
    "                last_header = line\n",
    "                continue\n",
    "            if not last_header_processed:\n",
    "                last_header = last_header[1:]\n",
    "                last_header = last_header.split(\"\\t\")\n",
    "                data_indices = []\n",
    "                for i, value in enumerate(last_header):\n",
    "                    if value == \"REF\":\n",
    "                        ref_index = i\n",
    "                    if value == \"ALT\":\n",
    "                        alt_index = i\n",
    "                    if value == \"CHROM\":\n",
    "                        chrom_index = i\n",
    "                    if value == \"POS\":\n",
    "                        pos_index = i\n",
    "                    if value[:2] == \"HG\":\n",
    "                        data_indices.append(i)\n",
    "                for i, j in zip(data_indices, data_indices[1:]):\n",
    "                    assert i + 1 == j\n",
    "                min_data_index = data_indices[0]\n",
    "                patient_ids = last_header[min_data_index:]\n",
    "                panel = [[] for i in patient_ids]\n",
    "                coordinates = []\n",
    "                last_header_processed = True\n",
    "            \n",
    "            line = line.split(\"\\t\")\n",
    "            genotype = list(line[ref_index]) + line[alt_index].split(\",\")\n",
    "            coords = line[chrom_index], int(line[pos_index])\n",
    "            if coords in son:\n",
    "                data = [split_sample(sample) for sample in line[min_data_index:]]\n",
    "                coordinates.append(coords)\n",
    "                for i, (j, k) in enumerate(data):\n",
    "                    panel[i].append([genotype[j], genotype[k]])\n",
    "    return panel, coordinates, patient_ids"
   ]
  },
  {
   "cell_type": "code",
   "execution_count": 35,
   "metadata": {},
   "outputs": [],
   "source": []
  },
  {
   "cell_type": "code",
   "execution_count": 49,
   "metadata": {
    "scrolled": true
   },
   "outputs": [
    {
     "name": "stdout",
     "output_type": "stream",
     "text": [
      "it took 1784.786041021347 seconds\n"
     ]
    }
   ],
   "source": [
    "#(272.0531 / 1000000) * 5795065 \n",
    "start = time.time()\n",
    "genome_1000, coords, patient_ids = load_1000_genome(vcf_unzipped, -1)\n",
    "stop = time.time()\n",
    "took = stop - start\n",
    "print(\"it took {} seconds\".format(took))"
   ]
  },
  {
   "cell_type": "code",
   "execution_count": 50,
   "metadata": {},
   "outputs": [],
   "source": [
    "target = [son[i] for i in coords]"
   ]
  },
  {
   "cell_type": "code",
   "execution_count": 51,
   "metadata": {},
   "outputs": [
    {
     "data": {
      "text/plain": [
       "Counter({'chr1': 238984})"
      ]
     },
     "execution_count": 51,
     "metadata": {},
     "output_type": "execute_result"
    }
   ],
   "source": [
    "collections.Counter([i[0] for i in coords])"
   ]
  },
  {
   "cell_type": "code",
   "execution_count": 41,
   "metadata": {},
   "outputs": [],
   "source": [
    "similarity_score = score_similarity(target, genome_1000)"
   ]
  },
  {
   "cell_type": "code",
   "execution_count": 52,
   "metadata": {},
   "outputs": [
    {
     "data": {
      "text/plain": [
       "238984"
      ]
     },
     "execution_count": 52,
     "metadata": {},
     "output_type": "execute_result"
    }
   ],
   "source": [
    "len(target)"
   ]
  },
  {
   "cell_type": "code",
   "execution_count": 53,
   "metadata": {},
   "outputs": [
    {
     "data": {
      "text/plain": [
       "238984"
      ]
     },
     "execution_count": 53,
     "metadata": {},
     "output_type": "execute_result"
    }
   ],
   "source": [
    "len(genome_1000[0])"
   ]
  },
  {
   "cell_type": "code",
   "execution_count": 54,
   "metadata": {},
   "outputs": [
    {
     "data": {
      "text/plain": [
       "0.067602852073779"
      ]
     },
     "execution_count": 54,
     "metadata": {},
     "output_type": "execute_result"
    }
   ],
   "source": [
    "max(similarity_score)/len(target)"
   ]
  },
  {
   "cell_type": "markdown",
   "metadata": {},
   "source": [
    "# Running eagle on de-phased VCF file"
   ]
  },
  {
   "cell_type": "code",
   "execution_count": 0,
   "metadata": {
    "colab": {
     "base_uri": "https://localhost:8080/",
     "height": 1000
    },
    "colab_type": "code",
    "id": "LaMi5SfipvxN",
    "outputId": "dacce221-8344-4965-c71e-d3aa9bbec854"
   },
   "outputs": [
    {
     "name": "stdout",
     "output_type": "stream",
     "text": [
      "                      +-----------------------------+\n",
      "                      |                             |\n",
      "                      |   Eagle v2.4.1              |\n",
      "                      |   November 18, 2018         |\n",
      "                      |   Po-Ru Loh                 |\n",
      "                      |                             |\n",
      "                      +-----------------------------+\n",
      "\n",
      "Copyright (C) 2015-2018 Harvard University.\n",
      "Distributed under the GNU GPLv3+ open source license.\n",
      "\n",
      "Command line options:\n",
      "\n",
      "Eagle_v2.4.1/eagle \\\n",
      "    --numThreads 15 \\\n",
      "    --vcfTarget reverse_jewish_son.vcf.gz \\\n",
      "    --vcfRef ALL.chr1.shapeit2_integrated_v1a.GRCh38.20181129.phased.vcf.gz \\\n",
      "    --geneticMapFile=Eagle_v2.4.1/tables/genetic_map_hg38_withX.txt.gz \\\n",
      "    --outPrefix reverse_son_jewish_phased \n",
      "\n",
      "WARNING: --vcfRef does not end in '.bcf'; BCF input is fastest\n",
      "Setting number of threads to 15\n",
      "\n",
      "Reference samples: Nref = 2548\n",
      "Target samples: Ntarget = 1\n",
      "SNPs to analyze: M = 234390 SNPs in both target and reference\n",
      "\n",
      "SNPs ignored: 3361731 SNPs in target but not reference\n",
      "              --> WARNING: Check REF/ALT agreement between target and ref? <--\n",
      "              5560655 SNPs in reference but not target\n",
      "              0 multi-allelic SNPs in target\n",
      "\n",
      "Missing rate in target genotypes: 0\n",
      "\n",
      "Filling in genetic map coordinates using reference file:\n",
      "  Eagle_v2.4.1/tables/genetic_map_hg38_withX.txt.gz\n",
      "Physical distance range: 248099322 base pairs\n",
      "Genetic distance range:  288.206 cM\n",
      "Average # SNPs per cM:   813\n",
      "Number of <=(64-SNP, 1cM) segments: 3666\n",
      "Average # SNPs per segment: 63\n",
      "\n",
      "Time for reading input: 1005.81 sec\n",
      "\n",
      "Fraction of heterozygous genotypes: 0.608435\n",
      "Typical span of default 100-het history length: 0.20 cM\n",
      "Setting --histFactor=4.95\n",
      "Typical span of 494-het history length: 1.00 cM\n",
      "\n",
      "Auto-selecting number of phasing iterations: setting --pbwtIters to 1\n",
      "\n",
      "\n",
      "BEGINNING PHASING\n",
      "\n",
      "PHASING ITER 1 OF 1\n",
      "\n",
      "\n",
      "Phasing target samples\n",
      "................................................................................\n",
      "Time for phasing iter 1: 63.4551\n",
      "Writing vcf.gz output to reverse_son_jewish_phased.vcf.gz\n",
      "Time for writing output: 5.76061\n",
      "Total elapsed time for analysis = 1075.5 sec\n",
      "\n",
      "Mean phase confidence of each target individual:\n",
      "ID\tPHASE_CONFIDENCE\n",
      "HG002\t0.991677\n"
     ]
    }
   ],
   "source": [
    "!Eagle_v2.4.1/eagle  --numThreads 15 --vcfTarget reverse_jewish_son.vcf.gz --vcfRef ALL.chr1.shapeit2_integrated_v1a.GRCh38.20181129.phased.vcf.gz --geneticMapFile=Eagle_v2.4.1/tables/genetic_map_hg38_withX.txt.gz --outPrefix reverse_son_jewish_phased"
   ]
  },
  {
   "cell_type": "markdown",
   "metadata": {
    "colab_type": "text",
    "id": "b1b1B4U_rEG-"
   },
   "source": [
    "# Checking how consistent is the assignment of SNPs within a hundred kilobases (just a bit over an average distance between two genes)"
   ]
  },
  {
   "cell_type": "markdown",
   "metadata": {
    "colab_type": "text",
    "id": "__7tkkr34V7g"
   },
   "source": [
    "## Load de-phased and re-phased genotype"
   ]
  },
  {
   "cell_type": "code",
   "execution_count": 74,
   "metadata": {
    "colab": {},
    "colab_type": "code",
    "id": "7DaEHOHry3f5"
   },
   "outputs": [],
   "source": [
    "!gunzip reverse_son_jewish_phased.vcf.gz"
   ]
  },
  {
   "cell_type": "code",
   "execution_count": 72,
   "metadata": {
    "colab": {
     "base_uri": "https://localhost:8080/",
     "height": 322
    },
    "colab_type": "code",
    "id": "-boZUhm-yycb",
    "outputId": "1801e841-dec5-47d4-b720-5759382fb2d9"
   },
   "outputs": [],
   "source": [
    "phased_vcf = load_vcf(\"reverse_son_jewish_phased.vcf\")"
   ]
  },
  {
   "cell_type": "markdown",
   "metadata": {
    "colab_type": "text",
    "id": "FFLay4ol4dhN"
   },
   "source": [
    "## Check if the benchmark genotype, loaded before as \"son\" is good for our purpose. Focus on PATMAT phased het SNPs only."
   ]
  },
  {
   "cell_type": "code",
   "execution_count": 73,
   "metadata": {},
   "outputs": [],
   "source": [
    "# make sure they're het SNPs\n",
    "assert not any([son[i][0] == son[i][1] for i in correctly_phased_SNPs])"
   ]
  },
  {
   "cell_type": "code",
   "execution_count": 74,
   "metadata": {
    "colab": {},
    "colab_type": "code",
    "id": "0Qv76xOU3HnA"
   },
   "outputs": [],
   "source": [
    "positions = sorted(list(set(phased_vcf).intersection(set(son)).intersection(correctly_phased_SNPs)))"
   ]
  },
  {
   "cell_type": "markdown",
   "metadata": {
    "colab_type": "text",
    "id": "rjKl2rXh3KSD"
   },
   "source": [
    "## Prepare a dictionary, which records, per SNP location, if the assignment from Eagle2 was correct"
   ]
  },
  {
   "cell_type": "code",
   "execution_count": 75,
   "metadata": {
    "colab": {},
    "colab_type": "code",
    "id": "3OpptBfo3MoY"
   },
   "outputs": [],
   "source": [
    "phase_errors = sortedcontainers.SortedDict()\n",
    "for position in positions:\n",
    "    correct = son[position]\n",
    "    phase_errors[position] = phased_vcf[position] == correct"
   ]
  },
  {
   "cell_type": "code",
   "execution_count": 333,
   "metadata": {},
   "outputs": [],
   "source": [
    "def interval(sorted_dict, minimum, maximum):\n",
    "    return {i:phase_errors[i] for i in sorted_dict.irange(minimum, maximum)}"
   ]
  },
  {
   "cell_type": "markdown",
   "metadata": {
    "colab_type": "text",
    "id": "uO6W4pVs6cax"
   },
   "source": [
    "## Prepare a 100 kilobase window, and check consistency of SNP assignment at the edges of that window. Repeat `trials` times."
   ]
  },
  {
   "cell_type": "code",
   "execution_count": 77,
   "metadata": {},
   "outputs": [],
   "source": [
    "assert min(phase_errors)[0] == max(phase_errors)[0]\n",
    "chrom = min(phase_errors)[0]"
   ]
  },
  {
   "cell_type": "code",
   "execution_count": 78,
   "metadata": {},
   "outputs": [],
   "source": [
    "trials = 1000\n",
    "window = 10**5\n",
    "\n",
    "fraction_by_window = {}\n",
    "sparsity_by_window = {}\n",
    "\n",
    "for window in [10**5 * i for i in range(1, 11)]:\n",
    "    sparse_regions = 0\n",
    "    lengths = []\n",
    "    fraction = []\n",
    "    for _ in range(trials):\n",
    "        left = random.randint(min(phase_errors)[1], max(phase_errors)[1])\n",
    "        selected_window = interval(phase_errors, (chrom, left), (chrom, left + window))\n",
    "        if len(selected_window) < 5:\n",
    "            sparse_regions += 1\n",
    "            continue\n",
    "        max_key = max(selected_window)\n",
    "        min_key = min(selected_window)\n",
    "        consistent = selected_window[max_key] == selected_window[min_key]\n",
    "        distance = max_key[1] - min_key[1]\n",
    "        lengths.append(distance)\n",
    "        fraction.append(consistent)\n",
    "    avg_fraction = sum(fraction)/len(fraction)\n",
    "    fraction_by_window[window] = avg_fraction\n",
    "    sparsity_by_window[window] = sparse_regions/trials "
   ]
  },
  {
   "cell_type": "code",
   "execution_count": 79,
   "metadata": {},
   "outputs": [
    {
     "data": {
      "text/plain": [
       "{100000: 0.9047619047619048,\n",
       " 200000: 0.820738137082601,\n",
       " 300000: 0.7844574780058651,\n",
       " 400000: 0.7569060773480663,\n",
       " 500000: 0.6845466155810983,\n",
       " 600000: 0.6575342465753424,\n",
       " 700000: 0.6036585365853658,\n",
       " 800000: 0.6048951048951049,\n",
       " 900000: 0.5675990675990676,\n",
       " 1000000: 0.5862470862470862}"
      ]
     },
     "execution_count": 79,
     "metadata": {},
     "output_type": "execute_result"
    }
   ],
   "source": [
    "fraction_by_window"
   ]
  },
  {
   "cell_type": "code",
   "execution_count": 80,
   "metadata": {},
   "outputs": [
    {
     "data": {
      "text/plain": [
       "[<matplotlib.lines.Line2D at 0x7f2a1fb61ba8>]"
      ]
     },
     "execution_count": 80,
     "metadata": {},
     "output_type": "execute_result"
    },
    {
     "data": {
      "image/png": "[encoded data removed]",
      "text/plain": [
       "<Figure size 432x288 with 1 Axes>"
      ]
     },
     "metadata": {
      "needs_background": "light"
     },
     "output_type": "display_data"
    }
   ],
   "source": [
    "x, y = zip(*fraction_by_window.items())\n",
    "plt.plot(x, y)"
   ]
  },
  {
   "cell_type": "code",
   "execution_count": 81,
   "metadata": {},
   "outputs": [
    {
     "data": {
      "text/plain": [
       "{100000: 0.601,\n",
       " 200000: 0.431,\n",
       " 300000: 0.318,\n",
       " 400000: 0.276,\n",
       " 500000: 0.217,\n",
       " 600000: 0.197,\n",
       " 700000: 0.18,\n",
       " 800000: 0.142,\n",
       " 900000: 0.142,\n",
       " 1000000: 0.142}"
      ]
     },
     "execution_count": 81,
     "metadata": {},
     "output_type": "execute_result"
    }
   ],
   "source": [
    "sparsity_by_window"
   ]
  },
  {
   "cell_type": "markdown",
   "metadata": {
    "colab_type": "text",
    "id": "qRXDmLiN6zKD"
   },
   "source": [
    "## Report the number of 100 kilobase windows, which have high sparsity of SNPs"
   ]
  },
  {
   "cell_type": "markdown",
   "metadata": {
    "colab_type": "text",
    "id": "RH_QjLXq7GdD"
   },
   "source": [
    "## Average consistency of assignment per window"
   ]
  },
  {
   "cell_type": "markdown",
   "metadata": {
    "colab": {},
    "colab_type": "code",
    "id": "1w_EK-6J7R83"
   },
   "source": [
    "## Plot phase assignment in a couple of windows for intuition"
   ]
  },
  {
   "cell_type": "code",
   "execution_count": 178,
   "metadata": {
    "colab": {
     "base_uri": "https://localhost:8080/",
     "height": 1000
    },
    "colab_type": "code",
    "id": "cgWRM4GZ4FTU",
    "outputId": "12326704-818d-424f-d85b-fa28a358314e",
    "scrolled": false
   },
   "outputs": [
    {
     "data": {
      "image/png": "[encoded data removed]",
      "text/plain": [
       "<Figure size 432x288 with 1 Axes>"
      ]
     },
     "metadata": {
      "needs_background": "light"
     },
     "output_type": "display_data"
    },
    {
     "data": {
      "image/png": "[encoded data removed]",
      "text/plain": [
       "<Figure size 432x288 with 1 Axes>"
      ]
     },
     "metadata": {
      "needs_background": "light"
     },
     "output_type": "display_data"
    },
    {
     "data": {
      "image/png": "[encoded data removed]",
      "text/plain": [
       "<Figure size 432x288 with 1 Axes>"
      ]
     },
     "metadata": {
      "needs_background": "light"
     },
     "output_type": "display_data"
    },
    {
     "data": {
      "image/png": "[encoded data removed]",
      "text/plain": [
       "<Figure size 432x288 with 1 Axes>"
      ]
     },
     "metadata": {
      "needs_background": "light"
     },
     "output_type": "display_data"
    },
    {
     "data": {
      "image/png": "[encoded data removed]",
      "text/plain": [
       "<Figure size 432x288 with 1 Axes>"
      ]
     },
     "metadata": {
      "needs_background": "light"
     },
     "output_type": "display_data"
    },
    {
     "data": {
      "image/png": "[encoded data removed]",
      "text/plain": [
       "<Figure size 432x288 with 1 Axes>"
      ]
     },
     "metadata": {
      "needs_background": "light"
     },
     "output_type": "display_data"
    },
    {
     "data": {
      "image/png": "[encoded data removed]",
      "text/plain": [
       "<Figure size 432x288 with 1 Axes>"
      ]
     },
     "metadata": {
      "needs_background": "light"
     },
     "output_type": "display_data"
    },
    {
     "data": {
      "image/png": "[encoded data removed]",
      "text/plain": [
       "<Figure size 432x288 with 1 Axes>"
      ]
     },
     "metadata": {
      "needs_background": "light"
     },
     "output_type": "display_data"
    },
    {
     "data": {
      "image/png": "[encoded data removed]",
      "text/plain": [
       "<Figure size 432x288 with 1 Axes>"
      ]
     },
     "metadata": {
      "needs_background": "light"
     },
     "output_type": "display_data"
    }
   ],
   "source": [
    "sparse_regions = 0\n",
    "\n",
    "trials = 10\n",
    "window = 10**6\n",
    "\n",
    "assert min(phase_errors)[0] == max(phase_errors)[0]\n",
    "\n",
    "chrom = min(phase_errors)[0]\n",
    "\n",
    "lengths = []\n",
    "fraction = []\n",
    "for i in range(trials):\n",
    "    left = random.randint(min(phase_errors)[1], max(phase_errors)[1])\n",
    "    selected_window = interval(phase_errors, (chrom, left), (chrom, left + window))\n",
    "    if len(selected_window) < 5:\n",
    "        sparse_regions += 1\n",
    "        continue\n",
    "    x = [j for (i,j), k in selected_window.items()]\n",
    "    y = [k for (i,j), k in selected_window.items()]\n",
    "    plt.figure()\n",
    "    plt.plot(x,y)\n",
    "    plt.plot(x, y, \"o\")"
   ]
  },
  {
   "cell_type": "markdown",
   "metadata": {},
   "source": [
    "# Let's check how this performance will be affected by phasing WES data"
   ]
  },
  {
   "cell_type": "markdown",
   "metadata": {},
   "source": [
    "## Simulating WES data"
   ]
  },
  {
   "cell_type": "code",
   "execution_count": null,
   "metadata": {},
   "outputs": [],
   "source": [
    "!pip install intervaltree"
   ]
  },
  {
   "cell_type": "code",
   "execution_count": null,
   "metadata": {},
   "outputs": [],
   "source": [
    "!samtools depth -a WES_ICC/HCC1239_1_3.dedupped.realigned.recal.bam > reads.sort.coverage"
   ]
  },
  {
   "cell_type": "code",
   "execution_count": 91,
   "metadata": {},
   "outputs": [],
   "source": [
    "test_coverage = \"\"\"chr1    10009   1\n",
    "chr1    10010   2\n",
    "chr1    10011   5\n",
    "chr1    10012   4\n",
    "chr1    10013   5\n",
    "chr1    10014   5\n",
    "chr1    10015   5\n",
    "chr2    10016   5\n",
    "chr2    10017   5\n",
    "chr2    10018   5\n",
    "chr2    10019   2\n",
    "chr2    10020   5\"\"\""
   ]
  },
  {
   "cell_type": "code",
   "execution_count": 234,
   "metadata": {},
   "outputs": [],
   "source": [
    "def coverage_by_chromosome(iterable, threshold):\n",
    "    coverage_intervals = []\n",
    "    total_coverage = {}\n",
    "    last_chromosome = None\n",
    "    last_streak = False\n",
    "    try:\n",
    "        while True:\n",
    "            elem = next(iterable)\n",
    "            chromosome, coord, coverage = elem.split()\n",
    "            if not last_chromosome:\n",
    "                last_chromosome = chromosome\n",
    "            coord = int(coord)\n",
    "            coverage = int(coverage)\n",
    "            streak = coverage >= threshold\n",
    "            if chromosome != last_chromosome:\n",
    "                if streak:\n",
    "                    current_interval.append(coord - 1)\n",
    "                    coverage_intervals.append(current_interval)\n",
    "                total_coverage[last_chromosome] = coverage_intervals\n",
    "                coverage_intervals = []\n",
    "                last_streak = False\n",
    "\n",
    "            if not last_streak and streak:\n",
    "                current_interval = [coord]\n",
    "            if last_streak and not streak:\n",
    "                current_interval.append(coord - 1)\n",
    "                coverage_intervals.append(current_interval)\n",
    "                current_interval = []\n",
    "            last_streak = streak\n",
    "            last_chromosome = chromosome\n",
    "    except StopIteration:\n",
    "        if streak:\n",
    "            current_interval.append(coord)\n",
    "            coverage_intervals.append(current_interval)\n",
    "        total_coverage[last_chromosome] = coverage_intervals\n",
    "    return total_coverage"
   ]
  },
  {
   "cell_type": "code",
   "execution_count": 235,
   "metadata": {},
   "outputs": [],
   "source": [
    "iterable = (i for i in test_coverage.split(\"\\n\"))\n",
    "threshold = 5\n",
    "result = coverage_by_chromosome(iterable, threshold)\n",
    "assert result == {'chr1': [[10011, 10011], [10013, 10015]], 'chr2': [[10016, 10018], [10020, 10020]]}"
   ]
  },
  {
   "cell_type": "code",
   "execution_count": 236,
   "metadata": {},
   "outputs": [],
   "source": [
    "def make_intervaltrees(chromomsome_intervals):\n",
    "    intervaltrees = {}\n",
    "    for c, intervals in chromomsome_intervals.items():\n",
    "        it = intervaltrees.setdefault(c, IntervalTree())\n",
    "        for interval in intervals:\n",
    "            it[interval[0]: interval[1] + 1] = None\n",
    "    return intervaltrees"
   ]
  },
  {
   "cell_type": "code",
   "execution_count": 237,
   "metadata": {},
   "outputs": [],
   "source": [
    "test_coverage2 = \"\"\"chr1    110703   5\n",
    "chr1    110704   2\n",
    "chr1    110705   5\n",
    "chr1    110706   4\n",
    "chr1    110707   5\n",
    "chr1    110708   5\n",
    "chr1    110709   5\n",
    "chr1    110710   5\n",
    "chr1    110711   5\n",
    "chr1    110712   5\n",
    "chr1    110713   2\n",
    "chr1    110714   5\"\"\""
   ]
  },
  {
   "cell_type": "code",
   "execution_count": 238,
   "metadata": {},
   "outputs": [],
   "source": [
    "test_intervaltrees2 = make_intervaltrees(coverage_by_chromosome((i for i in test_coverage2.split(\"\\n\")), 5))"
   ]
  },
  {
   "cell_type": "code",
   "execution_count": 239,
   "metadata": {},
   "outputs": [
    {
     "data": {
      "text/plain": [
       "{'chr1': IntervalTree([Interval(110703, 110704), Interval(110705, 110706), Interval(110707, 110713), Interval(110714, 110715)])}"
      ]
     },
     "execution_count": 239,
     "metadata": {},
     "output_type": "execute_result"
    }
   ],
   "source": [
    "test_intervaltrees2"
   ]
  },
  {
   "cell_type": "code",
   "execution_count": 88,
   "metadata": {},
   "outputs": [
    {
     "ename": "NameError",
     "evalue": "name 'coverage_by_chromosome' is not defined",
     "output_type": "error",
     "traceback": [
      "\u001b[0;31m---------------------------------------------------------------------------\u001b[0m",
      "\u001b[0;31mNameError\u001b[0m                                 Traceback (most recent call last)",
      "\u001b[0;32m<ipython-input-88-2bba5e05c26e>\u001b[0m in \u001b[0;36m<module>\u001b[0;34m\u001b[0m\n\u001b[1;32m      1\u001b[0m \u001b[0;32mwith\u001b[0m \u001b[0mopen\u001b[0m\u001b[0;34m(\u001b[0m\u001b[0;34m\"reads.sort.coverage\"\u001b[0m\u001b[0;34m)\u001b[0m \u001b[0;32mas\u001b[0m \u001b[0mf\u001b[0m\u001b[0;34m:\u001b[0m\u001b[0;34m\u001b[0m\u001b[0;34m\u001b[0m\u001b[0m\n\u001b[0;32m----> 2\u001b[0;31m     \u001b[0mcoverage_intervals\u001b[0m \u001b[0;34m=\u001b[0m \u001b[0mcoverage_by_chromosome\u001b[0m\u001b[0;34m(\u001b[0m\u001b[0mf\u001b[0m\u001b[0;34m,\u001b[0m \u001b[0;36m20\u001b[0m\u001b[0;34m)\u001b[0m\u001b[0;34m\u001b[0m\u001b[0;34m\u001b[0m\u001b[0m\n\u001b[0m",
      "\u001b[0;31mNameError\u001b[0m: name 'coverage_by_chromosome' is not defined"
     ]
    }
   ],
   "source": [
    "with open(\"reads.sort.coverage\") as f:\n",
    "    coverage_intervals = coverage_by_chromosome(f, 20)"
   ]
  },
  {
   "cell_type": "code",
   "execution_count": 132,
   "metadata": {},
   "outputs": [],
   "source": [
    "coverage_intervals = make_intervaltrees(coverage_intervals)"
   ]
  },
  {
   "cell_type": "code",
   "execution_count": 133,
   "metadata": {},
   "outputs": [],
   "source": [
    "def filter_vcf(filename, coverage_intervals, limit=-1, chrom_limit=\"\", phased=False, min_qual=50):\n",
    "    write_to = \".\".join(filename.split(\".\")[:-1]) + \".filtered.vcf\"\n",
    "    reader = vcf.Reader(filename=filename)\n",
    "    with open(write_to, \"w\") as f:\n",
    "        writer = vcf.Writer(f, reader)\n",
    "        for i, record in enumerate(reader):\n",
    "            #print(record.samples[0])\n",
    "            #print(record.CHROM, record.POS)\n",
    "            if record.CHROM == chrom_limit:\n",
    "                break\n",
    "            if i == limit:\n",
    "                break\n",
    "            if record.samples[0].data.GQ < min_qual:\n",
    "                continue\n",
    "            if coverage_intervals[record.CHROM][record.POS]:\n",
    "                writer.write_record(record)"
   ]
  },
  {
   "cell_type": "code",
   "execution_count": 134,
   "metadata": {},
   "outputs": [],
   "source": [
    "filter_vcf(\"reverse_jewish_son.vcf.gz\", coverage_intervals)"
   ]
  },
  {
   "cell_type": "code",
   "execution_count": 179,
   "metadata": {},
   "outputs": [
    {
     "ename": "NameError",
     "evalue": "name 'coverage_intervals' is not defined",
     "output_type": "error",
     "traceback": [
      "\u001b[0;31m---------------------------------------------------------------------------\u001b[0m",
      "\u001b[0;31mNameError\u001b[0m                                 Traceback (most recent call last)",
      "\u001b[0;32m<ipython-input-179-0cd42f8a8d71>\u001b[0m in \u001b[0;36m<module>\u001b[0;34m\u001b[0m\n\u001b[0;32m----> 1\u001b[0;31m \u001b[0mcoverage_intervals\u001b[0m\u001b[0;34m\u001b[0m\u001b[0;34m\u001b[0m\u001b[0m\n\u001b[0m",
      "\u001b[0;31mNameError\u001b[0m: name 'coverage_intervals' is not defined"
     ]
    }
   ],
   "source": [
    "coverage_intervals"
   ]
  },
  {
   "cell_type": "markdown",
   "metadata": {},
   "source": [
    "Simulated WES VCF file is written as `reverse_jewish_son.vcf.filtered.vcf`. "
   ]
  },
  {
   "cell_type": "markdown",
   "metadata": {},
   "source": [
    "# Running Eagle on simulated WES data."
   ]
  },
  {
   "cell_type": "code",
   "execution_count": null,
   "metadata": {},
   "outputs": [
    {
     "name": "stdout",
     "output_type": "stream",
     "text": [
      "[bgzip] reverse_jewish_son.vcf.filtered.vcf.gz already exists; do you wish to overwrite (y or n)? "
     ]
    }
   ],
   "source": [
    "!bgzip reverse_jewish_son.vcf.filtered.vcf"
   ]
  },
  {
   "cell_type": "code",
   "execution_count": null,
   "metadata": {},
   "outputs": [],
   "source": [
    "!tabix reverse_jewish_son.vcf.filtered.vcf.gz"
   ]
  },
  {
   "cell_type": "code",
   "execution_count": null,
   "metadata": {},
   "outputs": [],
   "source": [
    "!Eagle_v2.4.1/eagle --numThreads 15 --vcfTarget reverse_jewish_son.vcf.filtered.vcf.gz --vcfRef ALL.chr1.shapeit2_integrated_v1a.GRCh38.20181129.phased.vcf.gz --geneticMapFile=Eagle_v2.4.1/tables/genetic_map_hg38_withX.txt.gz --outPrefix son_jewish_simulated_WES_phased"
   ]
  },
  {
   "cell_type": "code",
   "execution_count": 49,
   "metadata": {},
   "outputs": [],
   "source": [
    "phased_vcf_WES = load_vcf(\"son_jewish_simulated_WES_phased.vcf.gz\")"
   ]
  },
  {
   "cell_type": "code",
   "execution_count": 50,
   "metadata": {},
   "outputs": [],
   "source": [
    "# make sure they're het SNPs\n",
    "assert not any([son[i][0] == son[i][1] for i in correctly_phased_SNPs])"
   ]
  },
  {
   "cell_type": "code",
   "execution_count": 106,
   "metadata": {},
   "outputs": [],
   "source": [
    "positions = sorted(list(set(phased_vcf_WES).intersection(set(son)).intersection(correctly_phased_SNPs)))"
   ]
  },
  {
   "cell_type": "code",
   "execution_count": 108,
   "metadata": {},
   "outputs": [
    {
     "data": {
      "text/plain": [
       "6348"
      ]
     },
     "execution_count": 108,
     "metadata": {},
     "output_type": "execute_result"
    }
   ],
   "source": [
    "len(phased_vcf_WES)"
   ]
  },
  {
   "cell_type": "code",
   "execution_count": 109,
   "metadata": {},
   "outputs": [
    {
     "data": {
      "text/plain": [
       "755"
      ]
     },
     "execution_count": 109,
     "metadata": {},
     "output_type": "execute_result"
    }
   ],
   "source": [
    "len(positions)"
   ]
  },
  {
   "cell_type": "code",
   "execution_count": 110,
   "metadata": {},
   "outputs": [],
   "source": [
    "def compute_phase_errors(phased_vcf, gold_standard_vcf):\n",
    "    phase_errors = sortedcontainers.SortedDict()\n",
    "    for position in positions:\n",
    "        correct = gold_standard_vcf[position]\n",
    "        phase_errors[position] = phased_vcf[position] == correct\n",
    "    return phase_errors"
   ]
  },
  {
   "cell_type": "code",
   "execution_count": 111,
   "metadata": {},
   "outputs": [],
   "source": [
    "phase_errors_WES = compute_phase_errors(phased_vcf_WES, son)"
   ]
  },
  {
   "cell_type": "code",
   "execution_count": 112,
   "metadata": {},
   "outputs": [],
   "source": [
    "def interval(sorted_dict, minimum, maximum):\n",
    "    return {i:sorted_dict[i] for i in sorted_dict.irange(minimum, maximum)}"
   ]
  },
  {
   "cell_type": "markdown",
   "metadata": {},
   "source": [
    "## Make sure it's just one chromosome we're working with\n",
    "\n",
    "Otherwise the function won't work..."
   ]
  },
  {
   "cell_type": "code",
   "execution_count": 113,
   "metadata": {},
   "outputs": [],
   "source": [
    "assert min(phase_errors_WES)[0] == max(phase_errors_WES)[0]"
   ]
  },
  {
   "cell_type": "code",
   "execution_count": 158,
   "metadata": {},
   "outputs": [],
   "source": [
    "chrom = min(phase_errors_WES)[0]\n",
    "trials = 10000\n",
    "window = 10**5\n",
    "\n",
    "def compute_consistency(phase_errors, trials, window, chrom):\n",
    "\n",
    "    fraction_by_window = {}\n",
    "    sparsity_by_window = {}\n",
    "    distance_by_window = {}\n",
    "\n",
    "    for window in [10**5 * i for i in range(1, 11)]:\n",
    "        sparse_regions = 0\n",
    "        lengths = []\n",
    "        fraction = []\n",
    "        for _ in range(trials):\n",
    "            left = random.randint(min(phase_errors)[1], max(phase_errors)[1])\n",
    "            selected_window = interval(phase_errors, (chrom, left), (chrom, left + window))\n",
    "            if len(selected_window) < 5:\n",
    "                sparse_regions += 1\n",
    "                continue\n",
    "            max_key = max(selected_window)\n",
    "            min_key = min(selected_window)\n",
    "            consistent = selected_window[max_key] == selected_window[min_key]\n",
    "            distance = max_key[1] - min_key[1]\n",
    "            lengths.append(distance)\n",
    "            fraction.append(consistent)\n",
    "        avg_fraction = sum(fraction)/len(fraction)\n",
    "        fraction_by_window[window] = avg_fraction\n",
    "        sparsity_by_window[window] = sparse_regions/trials \n",
    "        distance_by_window[window] = lengths\n",
    "    return fraction_by_window, sparsity_by_window, distance_by_window"
   ]
  },
  {
   "cell_type": "code",
   "execution_count": 138,
   "metadata": {},
   "outputs": [
    {
     "data": {
      "text/plain": [
       "<matplotlib.collections.PathCollection at 0x7f2a25a49a90>"
      ]
     },
     "execution_count": 138,
     "metadata": {},
     "output_type": "execute_result"
    },
    {
     "data": {
      "image/png": "[encoded data removed]",
      "text/plain": [
       "<Figure size 432x288 with 1 Axes>"
      ]
     },
     "metadata": {
      "needs_background": "light"
     },
     "output_type": "display_data"
    }
   ],
   "source": [
    "x, y = zip(*[(j, k) for (i, j), k in phase_errors.items()])\n",
    "plt.plot(x, y)\n",
    "plt.scatter(x, y)"
   ]
  },
  {
   "cell_type": "code",
   "execution_count": 121,
   "metadata": {},
   "outputs": [
    {
     "data": {
      "text/plain": [
       "755"
      ]
     },
     "execution_count": 121,
     "metadata": {},
     "output_type": "execute_result"
    }
   ],
   "source": [
    "len(list(zip()))"
   ]
  },
  {
   "cell_type": "code",
   "execution_count": 117,
   "metadata": {},
   "outputs": [
    {
     "data": {
      "text/plain": [
       "({100000: 1.0,\n",
       "  200000: 0.6,\n",
       "  300000: 1.0,\n",
       "  400000: 0.75,\n",
       "  500000: 0.3333333333333333,\n",
       "  600000: 1.0,\n",
       "  700000: 0.6875,\n",
       "  800000: 0.7857142857142857,\n",
       "  900000: 0.7307692307692307,\n",
       "  1000000: 0.8181818181818182},\n",
       " {100000: 0.97,\n",
       "  200000: 0.95,\n",
       "  300000: 0.96,\n",
       "  400000: 0.96,\n",
       "  500000: 0.94,\n",
       "  600000: 0.82,\n",
       "  700000: 0.84,\n",
       "  800000: 0.86,\n",
       "  900000: 0.74,\n",
       "  1000000: 0.78})"
      ]
     },
     "execution_count": 117,
     "metadata": {},
     "output_type": "execute_result"
    }
   ],
   "source": [
    "compute_consistency(phase_errors_WES, 100, 10**6, \"chr1\")"
   ]
  },
  {
   "cell_type": "code",
   "execution_count": 66,
   "metadata": {},
   "outputs": [],
   "source": [
    "fraction_consistent, sparsity = compute_consistency(phase_errors_WES, trials, window, chrom)"
   ]
  },
  {
   "cell_type": "code",
   "execution_count": 82,
   "metadata": {},
   "outputs": [],
   "source": [
    "unfiltered_fraction_consistent = fraction_by_window"
   ]
  },
  {
   "cell_type": "code",
   "execution_count": 83,
   "metadata": {},
   "outputs": [],
   "source": [
    "unfiltered_sparsity = sparsity_by_window"
   ]
  },
  {
   "cell_type": "code",
   "execution_count": 84,
   "metadata": {},
   "outputs": [
    {
     "data": {
      "text/plain": [
       "{100000: 0.9558011049723757,\n",
       " 200000: 0.9304556354916067,\n",
       " 300000: 0.8705501618122977,\n",
       " 400000: 0.8500590318772137,\n",
       " 500000: 0.8163082437275986,\n",
       " 600000: 0.8095940959409594,\n",
       " 700000: 0.8012698412698412,\n",
       " 800000: 0.7742284786139686,\n",
       " 900000: 0.7566393046837276,\n",
       " 1000000: 0.7211120764552563}"
      ]
     },
     "execution_count": 84,
     "metadata": {},
     "output_type": "execute_result"
    }
   ],
   "source": [
    "fraction_consistent"
   ]
  },
  {
   "cell_type": "code",
   "execution_count": 85,
   "metadata": {},
   "outputs": [
    {
     "data": {
      "text/plain": [
       "{100000: 0.9047619047619048,\n",
       " 200000: 0.820738137082601,\n",
       " 300000: 0.7844574780058651,\n",
       " 400000: 0.7569060773480663,\n",
       " 500000: 0.6845466155810983,\n",
       " 600000: 0.6575342465753424,\n",
       " 700000: 0.6036585365853658,\n",
       " 800000: 0.6048951048951049,\n",
       " 900000: 0.5675990675990676,\n",
       " 1000000: 0.5862470862470862}"
      ]
     },
     "execution_count": 85,
     "metadata": {},
     "output_type": "execute_result"
    }
   ],
   "source": [
    "unfiltered_fraction_consistent"
   ]
  },
  {
   "cell_type": "code",
   "execution_count": 71,
   "metadata": {},
   "outputs": [
    {
     "data": {
      "text/plain": [
       "{100000: 0.9819,\n",
       " 200000: 0.9583,\n",
       " 300000: 0.9382,\n",
       " 400000: 0.9153,\n",
       " 500000: 0.8884,\n",
       " 600000: 0.8645,\n",
       " 700000: 0.8425,\n",
       " 800000: 0.8153,\n",
       " 900000: 0.7929,\n",
       " 1000000: 0.7698}"
      ]
     },
     "execution_count": 71,
     "metadata": {},
     "output_type": "execute_result"
    }
   ],
   "source": [
    "sparsity"
   ]
  },
  {
   "cell_type": "code",
   "execution_count": 98,
   "metadata": {},
   "outputs": [
    {
     "data": {
      "text/plain": [
       "{100000: 0.601,\n",
       " 200000: 0.431,\n",
       " 300000: 0.318,\n",
       " 400000: 0.276,\n",
       " 500000: 0.217,\n",
       " 600000: 0.197,\n",
       " 700000: 0.18,\n",
       " 800000: 0.142,\n",
       " 900000: 0.142,\n",
       " 1000000: 0.142}"
      ]
     },
     "execution_count": 98,
     "metadata": {},
     "output_type": "execute_result"
    }
   ],
   "source": [
    "unfiltered_sparsity"
   ]
  },
  {
   "cell_type": "code",
   "execution_count": 99,
   "metadata": {},
   "outputs": [
    {
     "data": {
      "text/plain": [
       "[<matplotlib.lines.Line2D at 0x7f2a1edff828>]"
      ]
     },
     "execution_count": 99,
     "metadata": {},
     "output_type": "execute_result"
    },
    {
     "data": {
      "image/png": "[encoded data removed]",
      "text/plain": [
       "<Figure size 432x288 with 1 Axes>"
      ]
     },
     "metadata": {
      "needs_background": "light"
     },
     "output_type": "display_data"
    }
   ],
   "source": [
    "x, y = zip(*fraction_consistent.items())\n",
    "plt.plot(x, y)"
   ]
  },
  {
   "cell_type": "code",
   "execution_count": 100,
   "metadata": {},
   "outputs": [],
   "source": [
    "def make_plots(phase_errors, no_plots, window):\n",
    "    plots = 0\n",
    "    sparse_regions = 0\n",
    "    trials = 1000 * no_plots\n",
    "    for i in range(trials):\n",
    "        left = random.randint(min(phase_errors)[1], max(phase_errors)[1])\n",
    "        selected_window = interval(phase_errors, (chrom, left), (chrom, left + window))\n",
    "        if len(selected_window) < 5:\n",
    "            sparse_regions += 1\n",
    "            continue\n",
    "        if plots >= no_plots:\n",
    "            break\n",
    "        x = [j for (i,j), k in selected_window.items()]\n",
    "        y = [k for (i,j), k in selected_window.items()]\n",
    "        plt.figure()\n",
    "        plt.plot(x, y)\n",
    "        plt.plot(x, y, \"o\")\n",
    "        plots += 1\n",
    "    return sparse_regions, plots"
   ]
  },
  {
   "cell_type": "code",
   "execution_count": 140,
   "metadata": {
    "scrolled": false
   },
   "outputs": [
    {
     "data": {
      "text/plain": [
       "(0, 5)"
      ]
     },
     "execution_count": 140,
     "metadata": {},
     "output_type": "execute_result"
    },
    {
     "data": {
      "image/png": "[encoded data removed]",
      "text/plain": [
       "<Figure size 432x288 with 1 Axes>"
      ]
     },
     "metadata": {
      "needs_background": "light"
     },
     "output_type": "display_data"
    },
    {
     "data": {
      "image/png": "[encoded data removed]",
      "text/plain": [
       "<Figure size 432x288 with 1 Axes>"
      ]
     },
     "metadata": {
      "needs_background": "light"
     },
     "output_type": "display_data"
    },
    {
     "data": {
      "image/png": "[encoded data removed]",
      "text/plain": [
       "<Figure size 432x288 with 1 Axes>"
      ]
     },
     "metadata": {
      "needs_background": "light"
     },
     "output_type": "display_data"
    },
    {
     "data": {
      "image/png": "[encoded data removed]",
      "text/plain": [
       "<Figure size 432x288 with 1 Axes>"
      ]
     },
     "metadata": {
      "needs_background": "light"
     },
     "output_type": "display_data"
    },
    {
     "data": {
      "image/png": "[encoded data removed]",
      "text/plain": [
       "<Figure size 432x288 with 1 Axes>"
      ]
     },
     "metadata": {
      "needs_background": "light"
     },
     "output_type": "display_data"
    }
   ],
   "source": [
    "make_plots(phase_errors_WES, 5, 10**7)"
   ]
  },
  {
   "cell_type": "markdown",
   "metadata": {},
   "source": [
    "# Compare unflitered and (WES) filetered phasing"
   ]
  },
  {
   "cell_type": "markdown",
   "metadata": {},
   "source": [
    "## WES Filtered chromosome 1"
   ]
  },
  {
   "cell_type": "code",
   "execution_count": 141,
   "metadata": {},
   "outputs": [
    {
     "data": {
      "text/plain": [
       "<matplotlib.collections.PathCollection at 0x7f2a2552a710>"
      ]
     },
     "execution_count": 141,
     "metadata": {},
     "output_type": "execute_result"
    },
    {
     "data": {
      "image/png": "[encoded data removed]",
      "text/plain": [
       "<Figure size 432x288 with 1 Axes>"
      ]
     },
     "metadata": {
      "needs_background": "light"
     },
     "output_type": "display_data"
    }
   ],
   "source": [
    "x, y = zip(*[(j, k) for (i, j), k in phase_errors_WES.items()])\n",
    "plt.plot(x, y)\n",
    "plt.scatter(x, y)"
   ]
  },
  {
   "cell_type": "markdown",
   "metadata": {},
   "source": [
    "## Unfiltered chromosome 1"
   ]
  },
  {
   "cell_type": "code",
   "execution_count": 142,
   "metadata": {},
   "outputs": [
    {
     "data": {
      "text/plain": [
       "<matplotlib.collections.PathCollection at 0x7f2a23998cf8>"
      ]
     },
     "execution_count": 142,
     "metadata": {},
     "output_type": "execute_result"
    },
    {
     "data": {
      "image/png": "[encoded data removed]",
      "text/plain": [
       "<Figure size 432x288 with 1 Axes>"
      ]
     },
     "metadata": {
      "needs_background": "light"
     },
     "output_type": "display_data"
    }
   ],
   "source": [
    "x, y = zip(*[(j, k) for (i, j), k in phase_errors.items()])\n",
    "plt.plot(x, y)\n",
    "plt.scatter(x, y)"
   ]
  },
  {
   "cell_type": "markdown",
   "metadata": {},
   "source": [
    "## WES filtered megabase windows "
   ]
  },
  {
   "cell_type": "code",
   "execution_count": 146,
   "metadata": {},
   "outputs": [
    {
     "data": {
      "text/plain": [
       "(6, 5)"
      ]
     },
     "execution_count": 146,
     "metadata": {},
     "output_type": "execute_result"
    },
    {
     "data": {
      "image/png": "[encoded data removed]",
      "text/plain": [
       "<Figure size 432x288 with 1 Axes>"
      ]
     },
     "metadata": {
      "needs_background": "light"
     },
     "output_type": "display_data"
    },
    {
     "data": {
      "image/png": "[encoded data removed]",
      "text/plain": [
       "<Figure size 432x288 with 1 Axes>"
      ]
     },
     "metadata": {
      "needs_background": "light"
     },
     "output_type": "display_data"
    },
    {
     "data": {
      "image/png": "[encoded data removed]",
      "text/plain": [
       "<Figure size 432x288 with 1 Axes>"
      ]
     },
     "metadata": {
      "needs_background": "light"
     },
     "output_type": "display_data"
    },
    {
     "data": {
      "image/png": "[encoded data removed]",
      "text/plain": [
       "<Figure size 432x288 with 1 Axes>"
      ]
     },
     "metadata": {
      "needs_background": "light"
     },
     "output_type": "display_data"
    },
    {
     "data": {
      "image/png": "[encoded data removed]",
      "text/plain": [
       "<Figure size 432x288 with 1 Axes>"
      ]
     },
     "metadata": {
      "needs_background": "light"
     },
     "output_type": "display_data"
    }
   ],
   "source": [
    "make_plots(phase_errors_WES, 5, 10**6)"
   ]
  },
  {
   "cell_type": "markdown",
   "metadata": {},
   "source": [
    "## Unfiltered megabase windows"
   ]
  },
  {
   "cell_type": "code",
   "execution_count": 147,
   "metadata": {},
   "outputs": [
    {
     "data": {
      "text/plain": [
       "(0, 5)"
      ]
     },
     "execution_count": 147,
     "metadata": {},
     "output_type": "execute_result"
    },
    {
     "data": {
      "image/png": "[encoded data removed]",
      "text/plain": [
       "<Figure size 432x288 with 1 Axes>"
      ]
     },
     "metadata": {
      "needs_background": "light"
     },
     "output_type": "display_data"
    },
    {
     "data": {
      "image/png": "[encoded data removed]",
      "text/plain": [
       "<Figure size 432x288 with 1 Axes>"
      ]
     },
     "metadata": {
      "needs_background": "light"
     },
     "output_type": "display_data"
    },
    {
     "data": {
      "image/png": "[encoded data removed]",
      "text/plain": [
       "<Figure size 432x288 with 1 Axes>"
      ]
     },
     "metadata": {
      "needs_background": "light"
     },
     "output_type": "display_data"
    },
    {
     "data": {
      "image/png": "[encoded data removed]",
      "text/plain": [
       "<Figure size 432x288 with 1 Axes>"
      ]
     },
     "metadata": {
      "needs_background": "light"
     },
     "output_type": "display_data"
    },
    {
     "data": {
      "image/png": "[encoded data removed]",
      "text/plain": [
       "<Figure size 432x288 with 1 Axes>"
      ]
     },
     "metadata": {
      "needs_background": "light"
     },
     "output_type": "display_data"
    }
   ],
   "source": [
    "make_plots(phase_errors, 5, 10**6)"
   ]
  },
  {
   "cell_type": "markdown",
   "metadata": {},
   "source": [
    "## Look at perfectly phased windows"
   ]
  },
  {
   "cell_type": "code",
   "execution_count": 352,
   "metadata": {},
   "outputs": [],
   "source": [
    "def compute_perfect_windows(phase_errors, trials, window, chrom):\n",
    "    sparse_regions = 0\n",
    "    count_perfect_regions = 0\n",
    "    count_imperfect_regions = 0\n",
    "    lengths = []\n",
    "    window_size = []\n",
    "    for _ in range(trials):\n",
    "        left = random.randint(min(phase_errors)[1], max(phase_errors)[1])\n",
    "        selected_window = interval(phase_errors, (chrom, left), (chrom, left + window))\n",
    "        if len(selected_window) < 5:\n",
    "            sparse_regions += 1\n",
    "            continue\n",
    "        positions = [j for (i, j), k in selected_window.items()]\n",
    "        window_size.append(max(positions) - min(positions))\n",
    "        values = [j for _, j in selected_window.items()]\n",
    "        lengths.append(len(values))\n",
    "        anti_values = [not i for i in values]\n",
    "        if all(values) or all(anti_values):\n",
    "            count_perfect_regions += 1\n",
    "        else:\n",
    "            count_imperfect_regions += 1\n",
    "    avg_SNPS = sum(lengths)/len(lengths)\n",
    "    print(\"Window size per average:\", sum(window_size)/len(window_size))\n",
    "    print(\"SNPs per window on average:\", avg_SNPS)\n",
    "    print(\"Regions with too few SNPS:\", sparse_regions)\n",
    "    print(\"Perfectly phased regions:\", count_perfect_regions)\n",
    "    print(\"Imperfectly phased regions:\", count_imperfect_regions)\n",
    "    print(\"Ratio of Perfectly phased regions in all phased regions\", count_perfect_regions/(count_perfect_regions + count_imperfect_regions))"
   ]
  },
  {
   "cell_type": "markdown",
   "metadata": {},
   "source": [
    "## Unfiltered"
   ]
  },
  {
   "cell_type": "code",
   "execution_count": 353,
   "metadata": {},
   "outputs": [
    {
     "name": "stdout",
     "output_type": "stream",
     "text": [
      "Window size per average: 796817.9263657958\n",
      "SNPs per window on average: 133.69952494061758\n",
      "Regions with too few SNPS: 158\n",
      "Perfectly phased regions: 284\n",
      "Imperfectly phased regions: 558\n",
      "Ratio of Perfectly phased regions in all phased regions 0.33729216152019004\n"
     ]
    }
   ],
   "source": [
    "compute_perfect_windows(phase_errors, 1000, 10**6, \"chr1\")"
   ]
  },
  {
   "cell_type": "markdown",
   "metadata": {},
   "source": [
    "## WES Filtered"
   ]
  },
  {
   "cell_type": "code",
   "execution_count": 354,
   "metadata": {},
   "outputs": [
    {
     "name": "stdout",
     "output_type": "stream",
     "text": [
      "Window size per average: 396545.7923728814\n",
      "SNPs per window on average: 9.720338983050848\n",
      "Regions with too few SNPS: 764\n",
      "Perfectly phased regions: 137\n",
      "Imperfectly phased regions: 99\n",
      "Ratio of Perfectly phased regions in all phased regions 0.5805084745762712\n"
     ]
    }
   ],
   "source": [
    "compute_perfect_windows(phase_errors_WES, 1000, 10**6, \"chr1\")"
   ]
  },
  {
   "cell_type": "markdown",
   "metadata": {},
   "source": [
    "## Unfiltered, correct window edges, by window size "
   ]
  },
  {
   "cell_type": "code",
   "execution_count": 301,
   "metadata": {},
   "outputs": [
    {
     "data": {
      "text/plain": [
       "[<matplotlib.lines.Line2D at 0x7f2a229abb00>]"
      ]
     },
     "execution_count": 301,
     "metadata": {},
     "output_type": "execute_result"
    },
    {
     "data": {
      "image/png": "[encoded data removed]",
      "text/plain": [
       "<Figure size 432x288 with 1 Axes>"
      ]
     },
     "metadata": {
      "needs_background": "light"
     },
     "output_type": "display_data"
    }
   ],
   "source": [
    "x, y = zip(*fraction_by_window.items())\n",
    "plt.plot(x, y)"
   ]
  },
  {
   "cell_type": "markdown",
   "metadata": {},
   "source": [
    "## WES filtered, correct window edges, by window size"
   ]
  },
  {
   "cell_type": "code",
   "execution_count": 300,
   "metadata": {},
   "outputs": [
    {
     "data": {
      "text/plain": [
       "[<matplotlib.lines.Line2D at 0x7f2a231b60f0>]"
      ]
     },
     "execution_count": 300,
     "metadata": {},
     "output_type": "execute_result"
    },
    {
     "data": {
      "image/png": "[encoded data removed]",
      "text/plain": [
       "<Figure size 432x288 with 1 Axes>"
      ]
     },
     "metadata": {
      "needs_background": "light"
     },
     "output_type": "display_data"
    }
   ],
   "source": [
    "x, y = zip(*fraction_consistent.items())\n",
    "plt.plot(x, y)"
   ]
  },
  {
   "cell_type": "markdown",
   "metadata": {},
   "source": [
    "## Look across SNPs in neighbouring genes"
   ]
  },
  {
   "cell_type": "code",
   "execution_count": 1,
   "metadata": {},
   "outputs": [
    {
     "name": "stdout",
     "output_type": "stream",
     "text": [
      "--2019-07-31 17:40:56--  http://hgdownload.soe.ucsc.edu/goldenPath/hg38/database/ccdsGene.txt.gz\n",
      "Resolving hgdownload.soe.ucsc.edu (hgdownload.soe.ucsc.edu)... 128.114.119.163\n",
      "Connecting to hgdownload.soe.ucsc.edu (hgdownload.soe.ucsc.edu)|128.114.119.163|:80... connected.\n",
      "HTTP request sent, awaiting response... 200 OK\n",
      "Length: 2185672 (2.1M) [application/x-gzip]\n",
      "Saving to: ‘ccdsGene.txt.gz’\n",
      "\n",
      "ccdsGene.txt.gz     100%[===================>]   2.08M  1.19MB/s    in 1.8s    \n",
      "\n",
      "2019-07-31 17:40:58 (1.19 MB/s) - ‘ccdsGene.txt.gz’ saved [2185672/2185672]\n",
      "\n"
     ]
    }
   ],
   "source": [
    "!wget http://hgdownload.soe.ucsc.edu/goldenPath/hg38/database/ccdsGene.txt.gz"
   ]
  },
  {
   "cell_type": "code",
   "execution_count": 263,
   "metadata": {},
   "outputs": [],
   "source": [
    "!gunzip ccdsGene.txt.gz"
   ]
  },
  {
   "cell_type": "code",
   "execution_count": 266,
   "metadata": {},
   "outputs": [
    {
     "name": "stdout",
     "output_type": "stream",
     "text": [
      "--2019-08-01 14:12:43--  http://hgdownload.soe.ucsc.edu/goldenPath/hg38/database/ccdsInfo.txt.gz\n",
      "Resolving hgdownload.soe.ucsc.edu (hgdownload.soe.ucsc.edu)... 128.114.119.163\n",
      "Connecting to hgdownload.soe.ucsc.edu (hgdownload.soe.ucsc.edu)|128.114.119.163|:80... connected.\n",
      "HTTP request sent, awaiting response... 200 OK\n",
      "Length: 1360580 (1.3M) [application/x-gzip]\n",
      "Saving to: ‘ccdsInfo.txt.gz’\n",
      "\n",
      "ccdsInfo.txt.gz     100%[===================>]   1.30M   916KB/s    in 1.4s    \n",
      "\n",
      "2019-08-01 14:12:45 (916 KB/s) - ‘ccdsInfo.txt.gz’ saved [1360580/1360580]\n",
      "\n"
     ]
    }
   ],
   "source": [
    "!wget http://hgdownload.soe.ucsc.edu/goldenPath/hg38/database/ccdsInfo.txt.gz"
   ]
  },
  {
   "cell_type": "code",
   "execution_count": 267,
   "metadata": {},
   "outputs": [],
   "source": [
    "!gunzip ccdsInfo.txt.gz"
   ]
  },
  {
   "cell_type": "code",
   "execution_count": 271,
   "metadata": {},
   "outputs": [
    {
     "name": "stdout",
     "output_type": "stream",
     "text": [
      "--2019-08-01 14:13:39--  http://hgdownload.soe.ucsc.edu/goldenPath/hg38/database/ccdsKgMap.txt.gz\n",
      "Resolving hgdownload.soe.ucsc.edu (hgdownload.soe.ucsc.edu)... 128.114.119.163\n",
      "Connecting to hgdownload.soe.ucsc.edu (hgdownload.soe.ucsc.edu)|128.114.119.163|:80... connected.\n",
      "HTTP request sent, awaiting response... 200 OK\n",
      "Length: 827498 (808K) [application/x-gzip]\n",
      "Saving to: ‘ccdsKgMap.txt.gz’\n",
      "\n",
      "ccdsKgMap.txt.gz    100%[===================>] 808.10K   895KB/s    in 0.9s    \n",
      "\n",
      "2019-08-01 14:13:40 (895 KB/s) - ‘ccdsKgMap.txt.gz’ saved [827498/827498]\n",
      "\n"
     ]
    }
   ],
   "source": [
    "!wget http://hgdownload.soe.ucsc.edu/goldenPath/hg38/database/ccdsKgMap.txt.gz"
   ]
  },
  {
   "cell_type": "code",
   "execution_count": 273,
   "metadata": {},
   "outputs": [],
   "source": [
    "!gunzip ccdsKgMap.txt.gz"
   ]
  },
  {
   "cell_type": "code",
   "execution_count": 396,
   "metadata": {
    "scrolled": true
   },
   "outputs": [],
   "source": [
    "genes = []\n",
    "gene_to_interval = {}\n",
    "with open(\"ccdsGene.txt\", \"r\") as f:\n",
    "    gene_count = 0\n",
    "    for line in f:\n",
    "        line = line.rstrip().split(\"\\t\")\n",
    "        _, gene_id, chromosome, strand, left, right, left2, right2, _, _, _, _, _, _, _, _ = line\n",
    "        left = int(left)\n",
    "        right = int(right)\n",
    "        left2 = int(left2)\n",
    "        right2 = int(right2)\n",
    "        if chromosome != \"chr1\":\n",
    "            break\n",
    "        assert left < right\n",
    "        assert left2 == left\n",
    "        assert right2 == right\n",
    "        gene_to_interval[gene_id] = [left, right]\n",
    "        genes.append(gene_id)\n",
    "        gene_count += 1"
   ]
  },
  {
   "cell_type": "code",
   "execution_count": 397,
   "metadata": {},
   "outputs": [
    {
     "data": {
      "text/plain": [
       "3407"
      ]
     },
     "execution_count": 397,
     "metadata": {},
     "output_type": "execute_result"
    }
   ],
   "source": [
    "gene_count"
   ]
  },
  {
   "cell_type": "code",
   "execution_count": 418,
   "metadata": {},
   "outputs": [],
   "source": [
    "def evaluate_phasing(phase_errors):\n",
    "    pairs_of_genes = list(zip(genes, genes[1:], genes[2:]))\n",
    "    gene_to_SNPs = {}\n",
    "    for gene, i in gene_to_interval.items():\n",
    "        result = interval(phase_errors, (\"chr1\", i[0]), (\"chr1\", i[1]))\n",
    "        if result:\n",
    "            gene_to_SNPs[gene] = result\n",
    "    incorrectly_phased = 0\n",
    "    correctly_phased = 0\n",
    "    total_covered = 0\n",
    "    for gs in pairs_of_genes:\n",
    "        if sum([gene in gene_to_SNPs for gene in gs]) > 1:\n",
    "            total_covered += 1\n",
    "            all_SNPs = []\n",
    "            for gene in gs:\n",
    "                if gene in gene_to_SNPs:\n",
    "                    for value in gene_to_SNPs[gene].values():\n",
    "                        all_SNPs.append(value)\n",
    "            if all(all_SNPs) or all([not i for i in all_SNPs]):\n",
    "                correctly_phased += 1\n",
    "            else:\n",
    "                incorrectly_phased += 1\n",
    "    print(\"Total gene triples with at least two SNPs:\", total_covered)\n",
    "    print(\"Total perfectly phased:\", correctly_phased)\n",
    "    print(\"Total incorrecly phased:\", incorrectly_phased)\n",
    "    print(\"Total phased fraction:\", correctly_phased/(correctly_phased + incorrectly_phased))"
   ]
  },
  {
   "cell_type": "code",
   "execution_count": 419,
   "metadata": {},
   "outputs": [
    {
     "data": {
      "text/plain": [
       "3407"
      ]
     },
     "execution_count": 419,
     "metadata": {},
     "output_type": "execute_result"
    }
   ],
   "source": [
    "gene_count"
   ]
  },
  {
   "cell_type": "code",
   "execution_count": 420,
   "metadata": {},
   "outputs": [
    {
     "name": "stdout",
     "output_type": "stream",
     "text": [
      "Total gene triples with at least two SNPs: 1100\n",
      "Total perfectly phased: 900\n",
      "Total incorrecly phased: 200\n",
      "Total phased fraction: 0.8181818181818182\n"
     ]
    }
   ],
   "source": [
    "evaluate_phasing(phase_errors)"
   ]
  },
  {
   "cell_type": "code",
   "execution_count": 421,
   "metadata": {},
   "outputs": [
    {
     "name": "stdout",
     "output_type": "stream",
     "text": [
      "Total gene triples with at least two SNPs: 177\n",
      "Total perfectly phased: 163\n",
      "Total incorrecly phased: 14\n",
      "Total phased fraction: 0.9209039548022598\n"
     ]
    }
   ],
   "source": [
    "evaluate_phasing(phase_errors_WES)"
   ]
  }
 ],
 "metadata": {
  "accelerator": "GPU",
  "colab": {
   "collapsed_sections": [],
   "name": "Eagle2_benchmark2.ipynb",
   "provenance": [],
   "toc_visible": true,
   "version": "0.3.2"
  },
  "kernelspec": {
   "display_name": "Python 3",
   "language": "python",
   "name": "python3"
  },
  "language_info": {
   "codemirror_mode": {
    "name": "ipython",
    "version": 3
   },
   "file_extension": ".py",
   "mimetype": "text/x-python",
   "name": "python",
   "nbconvert_exporter": "python",
   "pygments_lexer": "ipython3",
   "version": "3.7.3"
  }
 },
 "nbformat": 4,
 "nbformat_minor": 1
}
