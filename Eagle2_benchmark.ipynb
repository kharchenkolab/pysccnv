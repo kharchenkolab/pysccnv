{
 "cells": [
  {
   "cell_type": "markdown",
   "metadata": {},
   "source": [
    "# Phase from trio"
   ]
  },
  {
   "cell_type": "code",
   "execution_count": 3,
   "metadata": {},
   "outputs": [],
   "source": [
    "import random\n",
    "import vcf\n",
    "import collections"
   ]
  },
  {
   "cell_type": "code",
   "execution_count": 2,
   "metadata": {},
   "outputs": [],
   "source": [
    "def output_SNP():\n",
    "    alphabet = [\"A\", \"T\", \"G\", \"C\"]\n",
    "    pos = [random.randint(0, len(alphabet) - 1) for i in range(2)]\n",
    "    return [alphabet[i] for i in pos]"
   ]
  },
  {
   "cell_type": "code",
   "execution_count": 3,
   "metadata": {},
   "outputs": [],
   "source": [
    "def create_genome(snp_length):\n",
    "    genome = []\n",
    "    for i in range(snp_length):\n",
    "        genome.append(output_SNP())\n",
    "    return genome"
   ]
  },
  {
   "cell_type": "code",
   "execution_count": 4,
   "metadata": {},
   "outputs": [],
   "source": [
    "def cross_over(length):\n",
    "    start = random.randint(0, 1)\n",
    "    switch_over = random.randint(0, length - 1)\n",
    "    selection = [start]\n",
    "    for i in range(length - 1):\n",
    "        if i < switch_over:\n",
    "            selection.append(start)\n",
    "        else:\n",
    "            selection.append(int(not start))\n",
    "    return selection"
   ]
  },
  {
   "cell_type": "code",
   "execution_count": 5,
   "metadata": {},
   "outputs": [],
   "source": [
    "def apply_cross_over(cross_over, genome):\n",
    "    return [genome[i][j] for i, j in zip(range(len(genome)), cross_over)]"
   ]
  },
  {
   "cell_type": "code",
   "execution_count": 6,
   "metadata": {},
   "outputs": [],
   "source": [
    "def dephase(genome):\n",
    "    dephased_genome = []\n",
    "    for snp in genome:\n",
    "        new_snp = [i for i in snp]\n",
    "        random.shuffle(new_snp)\n",
    "        dephased_genome.append(new_snp)\n",
    "    return dephased_genome"
   ]
  },
  {
   "cell_type": "code",
   "execution_count": 7,
   "metadata": {},
   "outputs": [],
   "source": [
    "def reproduce(genome1, genome2):\n",
    "    co1 = cross_over(len(genome1))\n",
    "    co2 = cross_over(len(genome2))\n",
    "    haplo1 = apply_cross_over(co1, genome1)\n",
    "    haplo2 = apply_cross_over(co2, genome2)\n",
    "    return [list(k) for k in zip(haplo1, haplo2)]"
   ]
  },
  {
   "cell_type": "code",
   "execution_count": 8,
   "metadata": {},
   "outputs": [],
   "source": [
    "length = 6\n",
    "\n",
    "genome1 = create_genome(length)\n",
    "genome2 = create_genome(length)\n",
    "offspring = reproduce(genome1, genome2)\n",
    "\n",
    "dephased_genome1 = dephase(genome1)\n",
    "dephased_genome2 = dephase(genome2)\n",
    "dephased_offspring = dephase(offspring)"
   ]
  },
  {
   "cell_type": "code",
   "execution_count": 9,
   "metadata": {},
   "outputs": [
    {
     "data": {
      "text/plain": [
       "[['T', 'G'], ['C', 'T'], ['G', 'A'], ['G', 'G'], ['T', 'C'], ['C', 'T']]"
      ]
     },
     "execution_count": 9,
     "metadata": {},
     "output_type": "execute_result"
    }
   ],
   "source": [
    "genome1"
   ]
  },
  {
   "cell_type": "code",
   "execution_count": 10,
   "metadata": {},
   "outputs": [
    {
     "data": {
      "text/plain": [
       "[['G', 'A'], ['T', 'A'], ['A', 'G'], ['C', 'A'], ['G', 'A'], ['C', 'A']]"
      ]
     },
     "execution_count": 10,
     "metadata": {},
     "output_type": "execute_result"
    }
   ],
   "source": [
    "genome2"
   ]
  },
  {
   "cell_type": "code",
   "execution_count": 11,
   "metadata": {},
   "outputs": [
    {
     "data": {
      "text/plain": [
       "[['T', 'A'], ['C', 'A'], ['G', 'G'], ['G', 'A'], ['C', 'A'], ['T', 'C']]"
      ]
     },
     "execution_count": 11,
     "metadata": {},
     "output_type": "execute_result"
    }
   ],
   "source": [
    "offspring"
   ]
  },
  {
   "cell_type": "code",
   "execution_count": 12,
   "metadata": {},
   "outputs": [
    {
     "name": "stdout",
     "output_type": "stream",
     "text": [
      "[['T', 'G'], ['C', 'T'], ['G', 'A'], ['G', 'G'], ['T', 'C'], ['C', 'T']]\n",
      "[['G', 'A'], ['T', 'A'], ['A', 'G'], ['C', 'A'], ['G', 'A'], ['C', 'A']]\n",
      "[['T', 'A'], ['C', 'A'], ['G', 'G'], ['G', 'A'], ['C', 'A'], ['T', 'C']]\n"
     ]
    }
   ],
   "source": [
    "print(genome1)\n",
    "print(genome2)\n",
    "print(offspring)"
   ]
  },
  {
   "cell_type": "code",
   "execution_count": 13,
   "metadata": {},
   "outputs": [],
   "source": [
    "def phase_offspring(genome1, genome2, offspring):\n",
    "    possibilities = []\n",
    "    phased_offspring = []\n",
    "    for snp_o, snp_g1, snp_g2 in zip(offspring, genome1, genome2):\n",
    "        snp_o = [i for i in snp_o]\n",
    "        possibility = [[], []]\n",
    "        for k in range(0, 2):\n",
    "            if snp_o[k] in snp_g1:\n",
    "                possibility[k].append(0)\n",
    "            if snp_o[k] in snp_g2:\n",
    "                possibility[k].append(1)\n",
    "        possibilities.append(possibility)\n",
    "        if possibility[0] == [0] or possibility[1] == [1]:\n",
    "            phased_offspring.append(snp_o + [\"|\"])\n",
    "        elif possibility[1] == [0] or possibility[0] == [1]:\n",
    "            phased_offspring.append(snp_o[::-1] + [\"-|\"])\n",
    "        else:\n",
    "            phased_offspring.append(snp_o + [\"?\"])\n",
    "    return phased_offspring"
   ]
  },
  {
   "cell_type": "code",
   "execution_count": 14,
   "metadata": {},
   "outputs": [
    {
     "name": "stdout",
     "output_type": "stream",
     "text": [
      "[['T', 'G'], ['C', 'T'], ['G', 'A'], ['G', 'G'], ['T', 'C'], ['C', 'T']]\n",
      "[['G', 'A'], ['T', 'A'], ['A', 'G'], ['C', 'A'], ['G', 'A'], ['C', 'A']]\n",
      "[['T', 'A'], ['C', 'A'], ['G', 'G'], ['G', 'A'], ['C', 'A'], ['T', 'C']]\n"
     ]
    }
   ],
   "source": [
    "print(genome1)\n",
    "print(genome2)\n",
    "print(offspring)"
   ]
  },
  {
   "cell_type": "code",
   "execution_count": 15,
   "metadata": {},
   "outputs": [
    {
     "data": {
      "text/plain": [
       "[['T', 'A', '|'],\n",
       " ['C', 'A', '-|'],\n",
       " ['G', 'G', '?'],\n",
       " ['G', 'A', '|'],\n",
       " ['C', 'A', '|'],\n",
       " ['T', 'C', '-|']]"
      ]
     },
     "execution_count": 15,
     "metadata": {},
     "output_type": "execute_result"
    }
   ],
   "source": [
    "phase_offspring(dephased_genome1, dephased_genome2, dephased_offspring)"
   ]
  },
  {
   "cell_type": "markdown",
   "metadata": {},
   "source": [
    "# Load data from the Jewish trio"
   ]
  },
  {
   "cell_type": "code",
   "execution_count": 26,
   "metadata": {},
   "outputs": [],
   "source": [
    "def load_vcf(filename, limit=-1, chrom_limit=\"\", phased=False):\n",
    "    genotype = {}\n",
    "    for i, record in enumerate(vcf.Reader(filename=filename)):\n",
    "        if record.CHROM == chrom_limit:\n",
    "            break\n",
    "        if i == limit:\n",
    "            break\n",
    "        snp = record.samples[0].gt_bases\n",
    "        if record.samples[0].phased:\n",
    "            a, b = snp.split(\"|\")\n",
    "        else:\n",
    "            a, b = snp.split(\"/\")\n",
    "        if phased and record.samples[0].phased or not phased:\n",
    "            genotype[(record.CHROM, record.POS)] = a, b\n",
    "    return genotype"
   ]
  },
  {
   "cell_type": "code",
   "execution_count": 17,
   "metadata": {},
   "outputs": [
    {
     "name": "stderr",
     "output_type": "stream",
     "text": [
      "Allele number not found in list of alleles\n"
     ]
    },
    {
     "ename": "AttributeError",
     "evalue": "'NoneType' object has no attribute 'split'",
     "output_type": "error",
     "traceback": [
      "\u001b[0;31m---------------------------------------------------------------------------\u001b[0m",
      "\u001b[0;31mAttributeError\u001b[0m                            Traceback (most recent call last)",
      "\u001b[0;32m<ipython-input-17-060f0c5a4a4c>\u001b[0m in \u001b[0;36m<module>\u001b[0;34m\u001b[0m\n\u001b[0;32m----> 1\u001b[0;31m \u001b[0mson\u001b[0m \u001b[0;34m=\u001b[0m \u001b[0mload_vcf\u001b[0m\u001b[0;34m(\u001b[0m\u001b[0;34m\"son_jewish.vcf\"\u001b[0m\u001b[0;34m,\u001b[0m \u001b[0mchrom_limit\u001b[0m\u001b[0;34m=\u001b[0m\u001b[0;34m\"chr2\"\u001b[0m\u001b[0;34m)\u001b[0m\u001b[0;34m\u001b[0m\u001b[0;34m\u001b[0m\u001b[0m\n\u001b[0m",
      "\u001b[0;32m<ipython-input-16-07100435bd73>\u001b[0m in \u001b[0;36mload_vcf\u001b[0;34m(filename, limit, chrom_limit)\u001b[0m\n\u001b[1;32m     11\u001b[0m         \u001b[0msnp\u001b[0m \u001b[0;34m=\u001b[0m \u001b[0mrecord\u001b[0m\u001b[0;34m.\u001b[0m\u001b[0msamples\u001b[0m\u001b[0;34m[\u001b[0m\u001b[0;36m0\u001b[0m\u001b[0;34m]\u001b[0m\u001b[0;34m.\u001b[0m\u001b[0mgt_bases\u001b[0m\u001b[0;34m\u001b[0m\u001b[0;34m\u001b[0m\u001b[0m\n\u001b[1;32m     12\u001b[0m         \u001b[0;32mif\u001b[0m \u001b[0mrecord\u001b[0m\u001b[0;34m.\u001b[0m\u001b[0msamples\u001b[0m\u001b[0;34m[\u001b[0m\u001b[0;36m0\u001b[0m\u001b[0;34m]\u001b[0m\u001b[0;34m.\u001b[0m\u001b[0mphased\u001b[0m\u001b[0;34m:\u001b[0m\u001b[0;34m\u001b[0m\u001b[0;34m\u001b[0m\u001b[0m\n\u001b[0;32m---> 13\u001b[0;31m             \u001b[0ma\u001b[0m\u001b[0;34m,\u001b[0m \u001b[0mb\u001b[0m \u001b[0;34m=\u001b[0m \u001b[0msnp\u001b[0m\u001b[0;34m.\u001b[0m\u001b[0msplit\u001b[0m\u001b[0;34m(\u001b[0m\u001b[0;34m\"|\"\u001b[0m\u001b[0;34m)\u001b[0m\u001b[0;34m\u001b[0m\u001b[0;34m\u001b[0m\u001b[0m\n\u001b[0m\u001b[1;32m     14\u001b[0m         \u001b[0;32melse\u001b[0m\u001b[0;34m:\u001b[0m\u001b[0;34m\u001b[0m\u001b[0;34m\u001b[0m\u001b[0m\n\u001b[1;32m     15\u001b[0m             \u001b[0ma\u001b[0m\u001b[0;34m,\u001b[0m \u001b[0mb\u001b[0m \u001b[0;34m=\u001b[0m \u001b[0msnp\u001b[0m\u001b[0;34m.\u001b[0m\u001b[0msplit\u001b[0m\u001b[0;34m(\u001b[0m\u001b[0;34m\"/\"\u001b[0m\u001b[0;34m)\u001b[0m\u001b[0;34m\u001b[0m\u001b[0;34m\u001b[0m\u001b[0m\n",
      "\u001b[0;31mAttributeError\u001b[0m: 'NoneType' object has no attribute 'split'"
     ]
    }
   ],
   "source": [
    "son = load_vcf(\"son_jewish.vcf\", chrom_limit=\"chr2\")"
   ]
  },
  {
   "cell_type": "code",
   "execution_count": 407,
   "metadata": {},
   "outputs": [],
   "source": [
    "mother = load_vcf(\"mother_jewish.vcf\", chrom_limit=\"chr2\")"
   ]
  },
  {
   "cell_type": "code",
   "execution_count": 408,
   "metadata": {},
   "outputs": [],
   "source": [
    "father = load_vcf(\"father_jewish.vcf\", chrom_limit=\"chr2\")"
   ]
  },
  {
   "cell_type": "code",
   "execution_count": 409,
   "metadata": {},
   "outputs": [],
   "source": [
    "son_genome = []\n",
    "father_genome = []\n",
    "mother_genome = []\n",
    "shared_SNPs = sorted(list(set(son).intersection(set(mother)).intersection(set(father))))\n",
    "for chr_coord in shared_SNPs:\n",
    "    son_genome.append(son[chr_coord])\n",
    "    father_genome.append(father[chr_coord])\n",
    "    mother_genome.append(mother[chr_coord])"
   ]
  },
  {
   "cell_type": "code",
   "execution_count": 410,
   "metadata": {},
   "outputs": [
    {
     "data": {
      "text/plain": [
       "Counter({'chr1': 170171})"
      ]
     },
     "execution_count": 410,
     "metadata": {},
     "output_type": "execute_result"
    }
   ],
   "source": [
    "collections.Counter([i[0] for i in shared_SNPs])"
   ]
  },
  {
   "cell_type": "code",
   "execution_count": 411,
   "metadata": {},
   "outputs": [],
   "source": [
    "r = [i[1] for i in shared_SNPs if i[0] == \"chr1\"]"
   ]
  },
  {
   "cell_type": "code",
   "execution_count": 412,
   "metadata": {},
   "outputs": [],
   "source": [
    "length = r[-1] - r[0]"
   ]
  },
  {
   "cell_type": "code",
   "execution_count": 413,
   "metadata": {},
   "outputs": [
    {
     "data": {
      "text/plain": [
       "248097755"
      ]
     },
     "execution_count": 413,
     "metadata": {},
     "output_type": "execute_result"
    }
   ],
   "source": [
    "length"
   ]
  },
  {
   "cell_type": "markdown",
   "metadata": {},
   "source": [
    "# Average distance per SNP"
   ]
  },
  {
   "cell_type": "code",
   "execution_count": 17,
   "metadata": {},
   "outputs": [
    {
     "ename": "NameError",
     "evalue": "name 'r' is not defined",
     "output_type": "error",
     "traceback": [
      "\u001b[0;31m---------------------------------------------------------------------------\u001b[0m",
      "\u001b[0;31mNameError\u001b[0m                                 Traceback (most recent call last)",
      "\u001b[0;32m<ipython-input-17-009bbce567c2>\u001b[0m in \u001b[0;36m<module>\u001b[0;34m\u001b[0m\n\u001b[0;32m----> 1\u001b[0;31m \u001b[0mlength\u001b[0m\u001b[0;34m/\u001b[0m\u001b[0mlen\u001b[0m\u001b[0;34m(\u001b[0m\u001b[0mr\u001b[0m\u001b[0;34m)\u001b[0m\u001b[0;34m\u001b[0m\u001b[0;34m\u001b[0m\u001b[0m\n\u001b[0m",
      "\u001b[0;31mNameError\u001b[0m: name 'r' is not defined"
     ]
    }
   ],
   "source": [
    "length/len(r)"
   ]
  },
  {
   "cell_type": "code",
   "execution_count": 422,
   "metadata": {},
   "outputs": [
    {
     "name": "stdout",
     "output_type": "stream",
     "text": [
      "['TACACACAC', 'T']\n",
      "['TTG', 'TTGTG']\n",
      "['A', 'AAC']\n",
      "['C', 'CTT']\n",
      "['C', 'CA']\n",
      "['C', 'CTAAA']\n",
      "['C', 'CT']\n",
      "['T', 'TAC']\n",
      "['CTTTA', 'C']\n",
      "['G', 'GA']\n",
      "['CTTATTTAT', 'C']\n",
      "['GAGAG', 'C']\n",
      "['TATAATA', 'T']\n",
      "['A', 'AAATAATAAT']\n",
      "['CAAAT', 'C']\n",
      "['CTGTG', 'CTG']\n",
      "['CA', 'C']\n",
      "['A', 'AT']\n",
      "['GTATTA', 'G']\n",
      "['TTA', 'T']\n",
      "['T', 'TACAC']\n",
      "['T', 'TTGTGTGTGTG']\n",
      "['C', 'CA']\n",
      "['CTT', 'C']\n",
      "['C', 'CGGGG']\n",
      "['T', 'TGCC']\n",
      "['A', 'AAAAATAAAATAAAATAAAAT']\n",
      "['C', 'CA']\n",
      "['CA', 'C']\n",
      "['T', 'TACAC']\n",
      "['A', 'AT']\n",
      "['CCTTCCTTTCTTT', 'C']\n",
      "['CTTTTTT', 'C']\n",
      "['CT', 'C']\n",
      "['T', 'TCAA']\n",
      "['C', 'CTT']\n",
      "['C', 'CAGAT']\n",
      "['ATT', 'A']\n",
      "['GACAA', 'G']\n",
      "['ATGTG', 'A']\n",
      "['T', 'TACAC']\n",
      "['TCACACA', 'T']\n",
      "['AAGAG', 'A']\n",
      "['AT', 'A']\n",
      "['A', 'AT']\n",
      "['AT', 'A']\n",
      "['GTTTT', 'G']\n",
      "['T', 'TATAG']\n",
      "['CCCTT', 'CCCTTCCTT']\n",
      "['GACACAC', 'G']\n",
      "['A', 'ATG']\n",
      "['ATATCTATC', 'ATATC']\n",
      "['GGTGTGT', 'G']\n",
      "['CT', 'C']\n",
      "['C', 'CTGTTGT']\n",
      "['TGATAGATA', 'T']\n",
      "['GTTA', 'G']\n",
      "['A', 'AAT']\n",
      "['AT', 'A']\n",
      "['A', 'AT']\n",
      "['A', 'ATG']\n",
      "['C', 'CA']\n",
      "['C', 'CA']\n",
      "['C', 'CA']\n",
      "['G', 'GACAC']\n",
      "['AT', 'A']\n",
      "['CA', 'C']\n",
      "['G', 'GT']\n",
      "['ATTATTTATTTAT', 'A']\n",
      "['GTTATT', 'G']\n",
      "['A', 'AT']\n",
      "['ATGTG', 'A']\n",
      "['T', 'TACAC']\n",
      "['C', 'CTG']\n",
      "['CTT', 'C']\n",
      "['CTTTT', 'C']\n",
      "['A', 'AAAAT']\n",
      "['A', 'AAAAATAAAATAAAATAAAAT']\n",
      "['AT', 'A']\n",
      "['C', 'CTT']\n",
      "['GA', 'G']\n",
      "['CTATGTATG', 'C']\n",
      "['AAAATAAAT', 'A']\n",
      "['TAC', 'T']\n",
      "['G', 'GAA']\n",
      "['A', 'AAC']\n",
      "['GT', 'G']\n",
      "['T', 'TACACAC']\n",
      "['C', 'CA']\n",
      "['T', 'TATAG']\n",
      "['CA', 'C']\n",
      "['TACAC', 'TAC']\n",
      "['C', 'CTT']\n",
      "['A', 'AAAGGAAGGAAGG']\n",
      "['T', 'TAAACAAACAAAC']\n",
      "['CA', 'C']\n",
      "['TACAC', 'T']\n",
      "['TATATATACAC', 'TATATATATATATATATATATATACAC']\n",
      "['ATGTGTGTG', 'A']\n",
      "['T', 'TACACACAC']\n",
      "['A', 'AT']\n",
      "['CA', 'C']\n",
      "['T', 'TTATC']\n",
      "['G', 'GAAA']\n",
      "['AT', 'A']\n",
      "['T', 'TTCTA']\n",
      "['CTTTTT', 'C']\n",
      "['GT', 'G']\n",
      "['C', 'CA']\n",
      "['A', 'AACACACACAC']\n",
      "['GATT', 'G']\n",
      "['A', 'AAC']\n",
      "['CTT', 'C']\n",
      "['T', 'TCACACA']\n",
      "['A', 'AT']\n",
      "['TTA', 'T']\n",
      "['A', 'AAGAT']\n",
      "['C', 'CTT']\n",
      "['CA', 'C']\n",
      "['G', 'GCACACA']\n",
      "['A', 'AT']\n",
      "['A', 'ATTT']\n",
      "['CATTGT', 'C']\n",
      "['AACAC', 'A']\n",
      "['T', 'TA']\n",
      "['ATT', 'A']\n",
      "['A', 'ATTT']\n",
      "['TACACAC', 'T']\n",
      "['T', 'TCACACA']\n",
      "['T', 'TTC']\n",
      "['A', 'ATT']\n",
      "['TGATA', 'T']\n",
      "['T', 'TTTATTA']\n",
      "['T', 'TAA']\n",
      "['AATAT', 'A']\n",
      "['T', 'TTTTATTTATTTA']\n",
      "['C', 'CAG']\n",
      "['T', 'TACACACAC']\n",
      "['G', 'GCA']\n",
      "['CA', 'C']\n",
      "['GTT', 'G']\n",
      "['C', 'CT']\n",
      "['TAC', 'T']\n",
      "['AAAAT', 'A']\n",
      "['AAC', 'A']\n",
      "['TTA', 'T']\n",
      "['CGT', 'C']\n",
      "['CAA', 'C']\n",
      "['T', 'TACACACAC']\n",
      "['GT', 'G']\n",
      "['TCCGGCCGGCCGGCCGGCCGG', 'T']\n",
      "['GT', 'GTT']\n",
      "['AAC', 'A']\n",
      "['AAC', 'A']\n",
      "['TCTG', 'T']\n",
      "['CA', 'C']\n",
      "['TTTTA', 'T']\n",
      "['GTT', 'G']\n",
      "['T', 'TTGTGTG']\n",
      "['GT', 'G']\n",
      "['C', 'CGTGTGT']\n",
      "['A', 'AACACACACACACACACACACAC']\n",
      "['A', 'ATG']\n",
      "['GT', 'G']\n",
      "['T', 'TTGTGTGTG']\n",
      "['T', 'TTA']\n",
      "['CTTTTTTT', 'C']\n",
      "['TAA', 'T']\n",
      "['CTT', 'C']\n",
      "['G', 'GA']\n",
      "['TGC', 'T']\n",
      "['G', 'GAAATAAAATAAAATA']\n",
      "['G', 'GT']\n",
      "['C', 'CAA']\n",
      "['CT', 'C']\n",
      "['A', 'AT']\n",
      "['C', 'CTG']\n",
      "['A', 'AT']\n",
      "['TAAA', 'T']\n",
      "['ATT', 'A']\n",
      "['CA', 'C']\n",
      "['TACACACAC', 'T']\n",
      "['G', 'GA']\n",
      "['A', 'GGAGGCG']\n",
      "['TTTTGTTTG', 'T']\n",
      "['AT', 'A']\n",
      "['T', 'TAC']\n",
      "['A', 'AAATAATAATAATAAT']\n",
      "['GTGTTTGTTTGTT', 'G']\n",
      "['G', 'GT']\n",
      "['A', 'ATGTGTGTGTG']\n",
      "['TTA', 'T']\n",
      "['TA', 'T']\n",
      "['T', 'TTAGA']\n",
      "['A', 'ATGTGTGTGTG']\n",
      "['A', 'AAC']\n",
      "['G', 'GTCTGTCTATCTATCTA']\n",
      "['GTGTATATATA', 'G']\n",
      "['CCA', 'C']\n",
      "['T', 'TTATA']\n",
      "['C', 'CAAAAAAAA']\n",
      "['TACAC', 'T']\n",
      "['AT', 'A']\n",
      "['A', 'AACACACAC']\n",
      "['CATATAT', 'C']\n",
      "['TAC', 'T']\n",
      "['GTATATA', 'G']\n",
      "['CAAA', 'C']\n",
      "['GCACACACA', 'G']\n",
      "['CATCTATCTATCTATCT', 'C']\n",
      "['T', 'TCA']\n",
      "['GT', 'GTT']\n",
      "['GAA', 'G']\n",
      "['TAC', 'T']\n",
      "['G', 'GTT']\n",
      "['GTATATATATA', 'G']\n",
      "['A', 'AT']\n",
      "['CTTTTA', 'C']\n",
      "['GA', 'G']\n",
      "['CATT', 'C']\n",
      "['C', 'CTTATTTTATT']\n",
      "['T', 'TAC']\n",
      "['A', 'AAAAAC']\n",
      "['C', 'CT']\n",
      "['TAAATAAAATA', 'T']\n",
      "['T', 'TACAC']\n",
      "['G', 'GAAA']\n",
      "['A', 'ATG']\n",
      "['A', 'ATGTGTG']\n",
      "['G', 'GTATTTTATTTTATTT']\n",
      "['C', 'CATTTATTTATTT']\n",
      "['T', 'TA']\n",
      "['T', 'TAC']\n",
      "['T', 'TTG']\n",
      "['CTG', 'C']\n",
      "['C', 'CTTTTTTTT']\n",
      "['AAAAAC', 'A']\n",
      "['T', 'TAC']\n",
      "['TCACACACACACACA', 'T']\n",
      "['TAA', 'A']\n",
      "['C', 'CA']\n",
      "['TTGTG', 'T']\n",
      "['CT', 'C']\n",
      "['ATATCTATC', 'A']\n",
      "['T', 'TCAAAACAAAACAAAA']\n",
      "['T', 'TTCTA']\n",
      "['TACACACACAC', 'T']\n",
      "['A', 'ATT']\n",
      "['G', 'GTTTTGTTTTTGTTTTTGT']\n",
      "['C', 'CAA']\n",
      "['C', 'CTTT']\n",
      "['T', 'TACACAC']\n",
      "['CTAATAATAATAATAATAATAA', 'C']\n",
      "['T', 'TA']\n",
      "['CAATAAATAAATA', 'C']\n",
      "['C', 'CAA']\n",
      "['G', 'GACACACAC']\n",
      "['ATT', 'AT']\n",
      "['CA', 'C']\n",
      "['CA', 'C']\n",
      "['GCC', 'G']\n",
      "['A', 'AAAACAAAC']\n",
      "['CGG', 'C']\n",
      "['A', 'ATG']\n",
      "['C', 'CT']\n",
      "['TAA', 'TA']\n",
      "['A', 'AACAC']\n",
      "['C', 'CA']\n",
      "['A', 'ATCTC']\n",
      "['CAAA', 'C']\n",
      "['C', 'CT']\n",
      "['T', 'TAAA']\n",
      "['GA', 'G']\n",
      "['CA', 'C']\n",
      "['GT', 'G']\n",
      "['A', 'AAC']\n",
      "['GGT', 'G']\n",
      "['C', 'CAA']\n",
      "['C', 'CA']\n",
      "['G', 'GCACACACACA']\n",
      "['C', 'CTT']\n",
      "['C', 'CA']\n",
      "['TAC', 'T']\n",
      "['CT', 'C']\n",
      "['TCACACACACACA', 'T']\n",
      "['A', 'AAATAATAATAAT']\n",
      "['CAGAG', 'C']\n",
      "['T', 'TACAC']\n",
      "['GTATTATTATTAT', 'G']\n",
      "['GGA', 'G']\n",
      "['ATTCT', 'A']\n",
      "['GT', 'G']\n",
      "['G', 'GTCTCTCTCTCTC']\n",
      "['CA', 'C']\n",
      "['A', 'AAAAT']\n",
      "['C', 'CA']\n",
      "['A', 'AAAATAAAT']\n",
      "['C', 'CAA']\n",
      "['CA', 'C']\n",
      "['C', 'CGTGT']\n",
      "['G', 'GA']\n",
      "['TAC', 'T']\n",
      "['GGTGT', 'G']\n",
      "['CTGTG', 'C']\n",
      "['A', 'ATCTCTCTC']\n",
      "['T', 'TAC']\n",
      "['CTAT', 'C']\n",
      "['TGGAA', 'TGGAAGGAA']\n",
      "['AAC', 'A']\n",
      "['ATGTG', 'A']\n",
      "['AACAC', 'A']\n",
      "['A', 'ATG']\n",
      "['GAA', 'G']\n",
      "['T', 'TA']\n",
      "['C', 'CA']\n",
      "['CT', 'C']\n",
      "['T', 'TTATC']\n",
      "['TAA', 'T']\n",
      "['G', 'GT']\n",
      "['A', 'AACAC']\n",
      "['AGTGT', 'A']\n",
      "['TTATC', 'T']\n",
      "['T', 'TACAC']\n",
      "['AATAT', 'A']\n",
      "['G', 'GTGTATATATATATA']\n",
      "['A', 'AGTGT']\n",
      "['C', 'CTAGATAGA']\n",
      "['T', 'TCACACA']\n",
      "['A', 'AT']\n",
      "['T', 'TTTTA']\n",
      "['GTTTA', 'G']\n",
      "['AACACACAC', 'A']\n",
      "['T', 'TA']\n",
      "['A', 'AACAC']\n",
      "['ATG', 'A']\n",
      "['CA', 'C']\n",
      "['AT', 'A']\n",
      "['TTTTA', 'T']\n",
      "['TACAC', 'T']\n",
      "['G', 'GGTGT']\n",
      "['CT', 'C']\n",
      "['G', 'GTGTT']\n",
      "['C', 'CTTAT']\n",
      "['GTATTTTATTT', 'G']\n",
      "['G', 'GATT']\n",
      "['T', 'TCATCCATCCATCCATCCATC']\n",
      "['A', 'AT']\n",
      "['CTTAT', 'C']\n",
      "['CT', 'C']\n",
      "['A', 'AATCT']\n",
      "['A', 'AAGAGAGAGAG']\n",
      "['CTG', 'C']\n",
      "['ATGGAT', 'A']\n",
      "['ATT', 'A']\n",
      "['CTTT', 'C']\n",
      "['G', 'GCACACA']\n",
      "['C', 'CA']\n",
      "['GA', 'G']\n",
      "['CTGTG', 'C']\n",
      "['G', 'GGT']\n",
      "['TTTCCTTCCTTCC', 'T']\n",
      "['CTT', 'C']\n",
      "['TA', 'T']\n",
      "['TAC', 'T']\n",
      "['T', 'TGATA']\n",
      "['C', 'CCACACACACACACACACACA']\n",
      "['T', 'TTTGTTG']\n",
      "['C', 'CAAA']\n",
      "['T', 'TTTTG']\n",
      "['GGTGTGTGTGTGT', 'GGTGTGTGTGTGTGT']\n",
      "['TA', 'A']\n",
      "['CTTT', 'C']\n",
      "['A', 'AT']\n",
      "['C', 'CAA']\n",
      "['A', 'ATGTGTGTGTG']\n",
      "['TTTTA', 'T']\n",
      "['G', 'GA']\n",
      "['G', 'GGT']\n",
      "['A', 'AT']\n",
      "['CA', 'C']\n",
      "['C', 'CAAAT']\n",
      "['CT', 'C']\n",
      "['C', 'CTT']\n",
      "['C', 'CT']\n",
      "['C', 'CT']\n",
      "['CTTT', 'C']\n",
      "['ATGTGTGTGTGTG', 'A']\n",
      "['CA', 'C']\n",
      "['CA', 'C']\n",
      "['ATT', 'A']\n",
      "['GT', 'G']\n",
      "['TTA', 'T']\n",
      "['AGTGTGTGT', 'A']\n",
      "['A', 'AGT']\n",
      "['C', 'CA']\n",
      "['ATT', 'A']\n",
      "['TTG', 'T']\n",
      "['GCACA', 'G']\n",
      "['GT', 'G']\n",
      "['CT', 'C']\n",
      "['AAAAT', 'A']\n",
      "['CT', 'C']\n",
      "['C', 'CA']\n",
      "['TCA', 'T']\n",
      "['TAC', 'T']\n",
      "['A', 'GTA']\n",
      "['A', 'AACACAC']\n",
      "['C', 'CA']\n",
      "['CAGATAGAT', 'C']\n",
      "['A', 'AC']\n",
      "['CT', 'C']\n",
      "['TAA', 'TA']\n",
      "['C', 'CA']\n",
      "['A', 'AAAGGAAGG']\n",
      "['GTC', 'G']\n",
      "['C', 'CT']\n",
      "['GGT', 'G']\n",
      "['AAAAAGAAAAGAAAAG', 'AAAAAG']\n",
      "['CTT', 'C']\n",
      "['C', 'CAAAA']\n",
      "['T', 'TAC']\n",
      "['TA', 'T']\n",
      "['AAGAT', 'AAGATAGAT']\n",
      "['ATTTTGTTTTG', 'A']\n",
      "['CAA', 'C']\n",
      "['GA', 'G']\n"
     ]
    }
   ],
   "source": [
    "phased_genome = phase_offspring(father_genome, mother_genome, son_genome)"
   ]
  },
  {
   "cell_type": "code",
   "execution_count": 435,
   "metadata": {
    "scrolled": false
   },
   "outputs": [
    {
     "data": {
      "text/plain": [
       "Counter({'?': 135010, '|': 34735, '-|': 426})"
      ]
     },
     "execution_count": 435,
     "metadata": {},
     "output_type": "execute_result"
    }
   ],
   "source": [
    "collections.Counter([i[-1] for i in phased_genome])"
   ]
  },
  {
   "cell_type": "markdown",
   "metadata": {},
   "source": [
    "# Average distance per phasing-suitable SNP"
   ]
  },
  {
   "cell_type": "code",
   "execution_count": 17,
   "metadata": {},
   "outputs": [
    {
     "ename": "NameError",
     "evalue": "name 'collections' is not defined",
     "output_type": "error",
     "traceback": [
      "\u001b[0;31m---------------------------------------------------------------------------\u001b[0m",
      "\u001b[0;31mNameError\u001b[0m                                 Traceback (most recent call last)",
      "\u001b[0;32m<ipython-input-17-4c22cd5a9815>\u001b[0m in \u001b[0;36m<module>\u001b[0;34m\u001b[0m\n\u001b[0;32m----> 1\u001b[0;31m \u001b[0mlength\u001b[0m\u001b[0;34m/\u001b[0m\u001b[0mcollections\u001b[0m\u001b[0;34m.\u001b[0m\u001b[0mCounter\u001b[0m\u001b[0;34m(\u001b[0m\u001b[0;34m[\u001b[0m\u001b[0mi\u001b[0m\u001b[0;34m[\u001b[0m\u001b[0;34m-\u001b[0m\u001b[0;36m1\u001b[0m\u001b[0;34m]\u001b[0m \u001b[0;32mfor\u001b[0m \u001b[0mi\u001b[0m \u001b[0;32min\u001b[0m \u001b[0mphased_genome\u001b[0m\u001b[0;34m]\u001b[0m\u001b[0;34m)\u001b[0m\u001b[0;34m[\u001b[0m\u001b[0;34m\"|\"\u001b[0m\u001b[0;34m]\u001b[0m\u001b[0;34m\u001b[0m\u001b[0;34m\u001b[0m\u001b[0m\n\u001b[0m",
      "\u001b[0;31mNameError\u001b[0m: name 'collections' is not defined"
     ]
    }
   ],
   "source": [
    "length/collections.Counter([i[-1] for i in phased_genome])[\"|\"]"
   ]
  },
  {
   "cell_type": "markdown",
   "metadata": {},
   "source": [
    "## This could potentially be a special case, with two reference alleles\n",
    "\n",
    "```\n",
    "['chr1', '2342840', '.', 'A', 'ATATTTTATTTTATTT,ATATTTTATTTTATTTTATTTTATTT', '50', 'PASS', 'platforms=1;platformnames=Illumina;datasets=2;datasetnames=HiSeqPE300x,HiSeq250x250;callsets=2;callsetnames=HiSeqPE300xSentieon,HiSeq250x250Sentieon;datasetsmissingcall=CGnormal,HiSeqPE300x,HiSeq250x250,10XChromium,HiSeqMatePair,IonExome,SolidSE75bp;callable=CS_HiSeqPE300xSentieon_callable,CS_HiSeq250x250Sentieon_callable;filt=CS_HiSeqPE300xfreebayes_filt;difficultregion=AllRepeats_51to200bp_gt95identity_merged', 'GT:DP:ADALL:AD:GQ:IGT:IPS:PS', '1/2:367:0,120,149:14,158,191:198:1|2:.:.']\n",
    "```"
   ]
  },
  {
   "cell_type": "code",
   "execution_count": 1,
   "metadata": {},
   "outputs": [],
   "source": [
    "def merge_record(old_record_str, new_record):\n",
    "    s = old_record_str\n",
    "    curr = 0\n",
    "    peeled = []\n",
    "    for elem in old_record_str.split():\n",
    "        pos = s.find(elem)\n",
    "        peeled.append(s[:pos])\n",
    "        s = s[pos + len(elem):]\n",
    "    to_collapse = []\n",
    "    for i, j in zip(peeled, new_record):\n",
    "        to_collapse.append(i)\n",
    "        to_collapse.append(j)\n",
    "    v = \"\".join(to_collapse) + s\n",
    "    return v"
   ]
  },
  {
   "cell_type": "code",
   "execution_count": 2,
   "metadata": {},
   "outputs": [],
   "source": [
    "def reverse_genotype(record_str):\n",
    "    record = record_str.split()\n",
    "    params = record[8].split(\":\")\n",
    "    values = record[9].split(\":\")\n",
    "    \n",
    "    def reverse_GT(field):\n",
    "        nonlocal record\n",
    "        sep = \"/\"\n",
    "        if sep not in field:\n",
    "            sep = \"|\"\n",
    "            if sep not in field:\n",
    "                raise ValueError(\"GT issues with record: {}\".format(record))\n",
    "\n",
    "        a, b = field.split(sep)\n",
    "        new_GT = \"/\".join([b, a])\n",
    "        return new_GT, int(a), int(b)\n",
    "    \n",
    "    def reverse_field(field, a, b):\n",
    "        elems = field.split(\",\")\n",
    "        new_elems = [i for i in elems]\n",
    "        new_elems[a] = elems[b]\n",
    "        new_elems[b] = elems[a]\n",
    "        return \",\".join(new_elems)\n",
    "    \n",
    "    result = []\n",
    "    for param, value in zip(params, values):\n",
    "        if param in [\"GT\", \"IGT\"]:\n",
    "            new_value, a, b = reverse_GT(value)\n",
    "        elif param in [\"ADALL\", \"AD\"]:\n",
    "            new_value = reverse_field(value, a, b)\n",
    "        else:\n",
    "            new_value = value\n",
    "        result.append(new_value)\n",
    "    new_record = [i for i in record]\n",
    "    new_record[9] = \":\".join(result)\n",
    "    return merge_record(record_str, new_record)"
   ]
  },
  {
   "cell_type": "markdown",
   "metadata": {},
   "source": [
    "# Test"
   ]
  },
  {
   "cell_type": "code",
   "execution_count": 3,
   "metadata": {},
   "outputs": [],
   "source": [
    "test_record = \"chr1\t8303862\t.\tTCAAACAAACAAACAAACAAA\tTCAAACAAACAAACAAA,T\t50\tPASS\tplatforms=2;platformnames=Illumina,10X;datasets=3;datasetnames=HiSeqPE300x,HiSeq250x250,10XChromium;callsets=5;callsetnames=HiSeqPE300xSentieon,HiSeq250x250Sentieon,HiSeqPE300xfreebayes,HiSeq250x250freebayes,10XSentieonhaplo;datasetsmissingcall=CGnormal,HiSeqMatePair,IonExome,SolidSE75bp;callable=CS_HiSeqPE300xSentieon_callable,CS_HiSeq250x250Sentieon_callable;filt=CS_HiSeqMatePairfreebayes_filt;difficultregion=AllRepeats_lt51bp_gt95identity_merged\tGT:DP:ADALL:AD:GQ:IGT:IPS:PS\t2/1:508:0,73,102:0,128,144:297:2|1:.:.\""
   ]
  },
  {
   "cell_type": "code",
   "execution_count": 4,
   "metadata": {},
   "outputs": [
    {
     "data": {
      "text/plain": [
       "True"
      ]
     },
     "execution_count": 4,
     "metadata": {},
     "output_type": "execute_result"
    }
   ],
   "source": [
    "new_test_record = reverse_genotype(reverse_genotype(test_record))\n",
    "\"/\".join(test_record.split(\"|\")) == \"/\".join(new_test_record.split(\"|\"))"
   ]
  },
  {
   "cell_type": "code",
   "execution_count": 26,
   "metadata": {},
   "outputs": [],
   "source": [
    "with open(\"son_jewish.vcf\") as f:\n",
    "    with open(\"reverse_son_jewish.vcf\", \"w\") as g:\n",
    "        for i, record in enumerate(f):\n",
    "            if not record:\n",
    "                g.write(\"\")\n",
    "            elif record and record[0] == \"#\":\n",
    "                g.write(record)\n",
    "            else:\n",
    "                if random.randint(0, 1):\n",
    "                    record = reverse_genotype(record)\n",
    "                else:\n",
    "                    record = reverse_genotype(reverse_genotype(record))\n",
    "                g.write(record)"
   ]
  },
  {
   "cell_type": "markdown",
   "metadata": {},
   "source": [
    "# Compare"
   ]
  },
  {
   "cell_type": "code",
   "execution_count": 8,
   "metadata": {},
   "outputs": [
    {
     "name": "stdout",
     "output_type": "stream",
     "text": [
      "33592\n"
     ]
    }
   ],
   "source": [
    "phased_vcf = load_vcf(\"reverse_son_jewish_phased.vcf\")"
   ]
  },
  {
   "cell_type": "code",
   "execution_count": 29,
   "metadata": {},
   "outputs": [],
   "source": [
    "golden_standard = load_vcf(\"son_jewish.vcf\", phased=True)"
   ]
  },
  {
   "cell_type": "code",
   "execution_count": 217,
   "metadata": {},
   "outputs": [],
   "source": [
    "positions = sorted(list(set(phased_vcf).intersection(set(golden_standard))))"
   ]
  },
  {
   "cell_type": "code",
   "execution_count": 218,
   "metadata": {},
   "outputs": [
    {
     "data": {
      "text/plain": [
       "28836"
      ]
     },
     "execution_count": 218,
     "metadata": {},
     "output_type": "execute_result"
    }
   ],
   "source": [
    "len(positions)"
   ]
  },
  {
   "cell_type": "code",
   "execution_count": 219,
   "metadata": {},
   "outputs": [],
   "source": [
    "phase_errors = {}\n",
    "for position in positions:\n",
    "    correct = golden_standard[position]\n",
    "    phase_errors[position] = phased_vcf[position] == correct"
   ]
  },
  {
   "cell_type": "code",
   "execution_count": 221,
   "metadata": {},
   "outputs": [],
   "source": [
    "phase_errors_items = list(phase_errors.items())"
   ]
  },
  {
   "cell_type": "code",
   "execution_count": 222,
   "metadata": {},
   "outputs": [],
   "source": [
    "import matplotlib.pyplot as plt"
   ]
  },
  {
   "cell_type": "code",
   "execution_count": 323,
   "metadata": {},
   "outputs": [],
   "source": [
    "sparse_regions = 0\n",
    "\n",
    "trials = 10000\n",
    "lengths = []\n",
    "fraction = []\n",
    "for i in range(trials):\n",
    "    left = random.randint(phase_errors_items[0][0][1], phase_errors_items[-1][0][1])\n",
    "    window = 10**5\n",
    "    selected_window = [(i[1], j) for i, j in phase_errors_items if i[0] == \"chr22\" if i[1] < left + window and left < i[1]]\n",
    "    if len(selected_window) < 20:\n",
    "        sparse_regions += 1\n",
    "        continue\n",
    "    x, y = zip(*selected_window)\n",
    "    counter = collections.Counter(y)\n",
    "    correct, incorrect = counter[True], counter[False]\n",
    "    f = max([correct, incorrect])/(correct+incorrect)\n",
    "    lengths.append(len(x))\n",
    "    fraction.append(f)"
   ]
  },
  {
   "cell_type": "code",
   "execution_count": 328,
   "metadata": {},
   "outputs": [
    {
     "data": {
      "text/plain": [
       "2943"
      ]
     },
     "execution_count": 328,
     "metadata": {},
     "output_type": "execute_result"
    }
   ],
   "source": [
    "sparse_regions"
   ]
  },
  {
   "cell_type": "code",
   "execution_count": 334,
   "metadata": {},
   "outputs": [
    {
     "data": {
      "text/plain": [
       "0.8494704338811687"
      ]
     },
     "execution_count": 334,
     "metadata": {},
     "output_type": "execute_result"
    }
   ],
   "source": [
    "sum(fraction)/len(fraction)"
   ]
  },
  {
   "cell_type": "code",
   "execution_count": 331,
   "metadata": {},
   "outputs": [
    {
     "data": {
      "image/png": "[encoded data removed]",
      "text/plain": [
       "<Figure size 432x288 with 1 Axes>"
      ]
     },
     "metadata": {
      "needs_background": "light"
     },
     "output_type": "display_data"
    }
   ],
   "source": [
    "_ = plt.hist(lengths, bins=100)"
   ]
  },
  {
   "cell_type": "code",
   "execution_count": 332,
   "metadata": {},
   "outputs": [
    {
     "data": {
      "image/png": "[encoded data removed]",
      "text/plain": [
       "<Figure size 432x288 with 1 Axes>"
      ]
     },
     "metadata": {
      "needs_background": "light"
     },
     "output_type": "display_data"
    }
   ],
   "source": [
    "_ = plt.hist(fraction, bins=100)"
   ]
  },
  {
   "cell_type": "code",
   "execution_count": 335,
   "metadata": {
    "scrolled": false
   },
   "outputs": [
    {
     "data": {
      "image/png": "[encoded data removed]",
      "text/plain": [
       "<Figure size 432x288 with 1 Axes>"
      ]
     },
     "metadata": {
      "needs_background": "light"
     },
     "output_type": "display_data"
    },
    {
     "data": {
      "image/png": "[encoded data removed]",
      "text/plain": [
       "<Figure size 432x288 with 1 Axes>"
      ]
     },
     "metadata": {
      "needs_background": "light"
     },
     "output_type": "display_data"
    },
    {
     "data": {
      "image/png": "[encoded data removed]",
      "text/plain": [
       "<Figure size 432x288 with 1 Axes>"
      ]
     },
     "metadata": {
      "needs_background": "light"
     },
     "output_type": "display_data"
    },
    {
     "data": {
      "image/png": "[encoded data removed]",
      "text/plain": [
       "<Figure size 432x288 with 1 Axes>"
      ]
     },
     "metadata": {
      "needs_background": "light"
     },
     "output_type": "display_data"
    },
    {
     "data": {
      "image/png": "[encoded data removed]",
      "text/plain": [
       "<Figure size 432x288 with 1 Axes>"
      ]
     },
     "metadata": {
      "needs_background": "light"
     },
     "output_type": "display_data"
    },
    {
     "data": {
      "image/png": "[encoded data removed]",
      "text/plain": [
       "<Figure size 432x288 with 1 Axes>"
      ]
     },
     "metadata": {
      "needs_background": "light"
     },
     "output_type": "display_data"
    },
    {
     "data": {
      "image/png": "[encoded data removed]",
      "text/plain": [
       "<Figure size 432x288 with 1 Axes>"
      ]
     },
     "metadata": {
      "needs_background": "light"
     },
     "output_type": "display_data"
    },
    {
     "data": {
      "image/png": "[encoded data removed]",
      "text/plain": [
       "<Figure size 432x288 with 1 Axes>"
      ]
     },
     "metadata": {
      "needs_background": "light"
     },
     "output_type": "display_data"
    },
    {
     "data": {
      "image/png": "[encoded data removed]",
      "text/plain": [
       "<Figure size 432x288 with 1 Axes>"
      ]
     },
     "metadata": {
      "needs_background": "light"
     },
     "output_type": "display_data"
    },
    {
     "data": {
      "image/png": "[encoded data removed]",
      "text/plain": [
       "<Figure size 432x288 with 1 Axes>"
      ]
     },
     "metadata": {
      "needs_background": "light"
     },
     "output_type": "display_data"
    },
    {
     "data": {
      "image/png": "[encoded data removed]",
      "text/plain": [
       "<Figure size 432x288 with 1 Axes>"
      ]
     },
     "metadata": {
      "needs_background": "light"
     },
     "output_type": "display_data"
    },
    {
     "data": {
      "image/png": "[encoded data removed]",
      "text/plain": [
       "<Figure size 432x288 with 1 Axes>"
      ]
     },
     "metadata": {
      "needs_background": "light"
     },
     "output_type": "display_data"
    },
    {
     "data": {
      "image/png": "[encoded data removed]",
      "text/plain": [
       "<Figure size 432x288 with 1 Axes>"
      ]
     },
     "metadata": {
      "needs_background": "light"
     },
     "output_type": "display_data"
    },
    {
     "data": {
      "image/png": "[encoded data removed]",
      "text/plain": [
       "<Figure size 432x288 with 1 Axes>"
      ]
     },
     "metadata": {
      "needs_background": "light"
     },
     "output_type": "display_data"
    }
   ],
   "source": [
    "for i in range(20):\n",
    "    left = random.randint(phase_errors_items[0][0][1], phase_errors_items[-1][0][1])\n",
    "    window = 10**5\n",
    "    selected_window = [(i[1], j) for i, j in phase_errors_items if i[0] == \"chr22\" if i[1] < left + window and left < i[1]]\n",
    "    if len(selected_window) < 10:\n",
    "        sparse_regions += 1\n",
    "        continue\n",
    "    x, y = zip(*selected_window)\n",
    "    plt.figure()\n",
    "    plt.plot(x,y)\n",
    "    plt.plot(x, y, \"o\")"
   ]
  },
  {
   "cell_type": "code",
   "execution_count": null,
   "metadata": {},
   "outputs": [],
   "source": []
  }
 ],
 "metadata": {
  "kernelspec": {
   "display_name": "Python 3",
   "language": "python",
   "name": "python3"
  },
  "language_info": {
   "codemirror_mode": {
    "name": "ipython",
    "version": 3
   },
   "file_extension": ".py",
   "mimetype": "text/x-python",
   "name": "python",
   "nbconvert_exporter": "python",
   "pygments_lexer": "ipython3",
   "version": "3.6.7"
  }
 },
 "nbformat": 4,
 "nbformat_minor": 2
}
