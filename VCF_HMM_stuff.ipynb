{
 "cells": [
  {
   "cell_type": "code",
   "execution_count": 424,
   "metadata": {},
   "outputs": [],
   "source": [
    "import numpy as np\n",
    "from hmmlearn import hmm\n",
    "import collections"
   ]
  },
  {
   "cell_type": "code",
   "execution_count": 427,
   "metadata": {},
   "outputs": [
    {
     "ename": "NotFittedError",
     "evalue": "This GaussianHMM instance is not fitted yet. Call 'fit' with appropriate arguments before using this method.",
     "output_type": "error",
     "traceback": [
      "\u001b[0;31m-\u001b[0m",
      "\u001b[0;31mNotFittedError\u001b[0mTraceback (most recent call last)",
      "\u001b[0;32m<ipython-input-427-ddbe92132a35>\u001b[0m in \u001b[0;36m<module>\u001b[0;34m\u001b[0m\n\u001b[1;32m      6\u001b[0m \u001b[0mmodel\u001b[0m\u001b[0;34m.\u001b[0m\u001b[0mmeans_\u001b[0m \u001b[0;34m=\u001b[0m \u001b[0mmeans\u001b[0m\u001b[0;34m\u001b[0m\u001b[0;34m\u001b[0m\u001b[0m\n\u001b[1;32m      7\u001b[0m \u001b[0mmodel\u001b[0m\u001b[0;34m.\u001b[0m\u001b[0mcovars_\u001b[0m \u001b[0;34m=\u001b[0m \u001b[0mcovars\u001b[0m\u001b[0;34m\u001b[0m\u001b[0;34m\u001b[0m\u001b[0m\n\u001b[0;32m----> 8\u001b[0;31m \u001b[0mX\u001b[0m\u001b[0;34m,\u001b[0m \u001b[0mZ\u001b[0m \u001b[0;34m=\u001b[0m \u001b[0mmodel\u001b[0m\u001b[0;34m.\u001b[0m\u001b[0msample\u001b[0m\u001b[0;34m(\u001b[0m\u001b[0;36m100\u001b[0m\u001b[0;34m)\u001b[0m\u001b[0;34m\u001b[0m\u001b[0;34m\u001b[0m\u001b[0m\n\u001b[0m",
      "\u001b[0;32m~/programming/haplo_phasing/venv/lib/python3.6/site-packages/hmmlearn/base.py\u001b[0m in \u001b[0;36msample\u001b[0;34m(self, n_samples, random_state)\u001b[0m\n\u001b[1;32m    414\u001b[0m             \u001b[0mState\u001b[0m \u001b[0msequence\u001b[0m \u001b[0mproduced\u001b[0m \u001b[0mby\u001b[0m \u001b[0mthe\u001b[0m \u001b[0mmodel\u001b[0m\u001b[0;34m.\u001b[0m\u001b[0;34m\u001b[0m\u001b[0;34m\u001b[0m\u001b[0m\n\u001b[1;32m    415\u001b[0m         \"\"\"\n\u001b[0;32m--> 416\u001b[0;31m         \u001b[0mcheck_is_fitted\u001b[0m\u001b[0;34m(\u001b[0m\u001b[0mself\u001b[0m\u001b[0;34m,\u001b[0m \u001b[0;34m\"startprob_\"\u001b[0m\u001b[0;34m)\u001b[0m\u001b[0;34m\u001b[0m\u001b[0;34m\u001b[0m\u001b[0m\n\u001b[0m\u001b[1;32m    417\u001b[0m         \u001b[0mself\u001b[0m\u001b[0;34m.\u001b[0m\u001b[0m_check\u001b[0m\u001b[0;34m(\u001b[0m\u001b[0;34m)\u001b[0m\u001b[0;34m\u001b[0m\u001b[0;34m\u001b[0m\u001b[0m\n\u001b[1;32m    418\u001b[0m \u001b[0;34m\u001b[0m\u001b[0m\n",
      "\u001b[0;32m~/programming/haplo_phasing/venv/lib/python3.6/site-packages/sklearn/utils/validation.py\u001b[0m in \u001b[0;36mcheck_is_fitted\u001b[0;34m(estimator, attributes, msg, all_or_any)\u001b[0m\n\u001b[1;32m    912\u001b[0m \u001b[0;34m\u001b[0m\u001b[0m\n\u001b[1;32m    913\u001b[0m     \u001b[0;32mif\u001b[0m \u001b[0;32mnot\u001b[0m \u001b[0mall_or_any\u001b[0m\u001b[0;34m(\u001b[0m\u001b[0;34m[\u001b[0m\u001b[0mhasattr\u001b[0m\u001b[0;34m(\u001b[0m\u001b[0mestimator\u001b[0m\u001b[0;34m,\u001b[0m \u001b[0mattr\u001b[0m\u001b[0;34m)\u001b[0m \u001b[0;32mfor\u001b[0m \u001b[0mattr\u001b[0m \u001b[0;32min\u001b[0m \u001b[0mattributes\u001b[0m\u001b[0;34m]\u001b[0m\u001b[0;34m)\u001b[0m\u001b[0;34m:\u001b[0m\u001b[0;34m\u001b[0m\u001b[0;34m\u001b[0m\u001b[0m\n\u001b[0;32m--> 914\u001b[0;31m         \u001b[0;32mraise\u001b[0m \u001b[0mNotFittedError\u001b[0m\u001b[0;34m(\u001b[0m\u001b[0mmsg\u001b[0m \u001b[0;34m%\u001b[0m \u001b[0;34m{\u001b[0m\u001b[0;34m'name'\u001b[0m\u001b[0;34m:\u001b[0m \u001b[0mtype\u001b[0m\u001b[0;34m(\u001b[0m\u001b[0mestimator\u001b[0m\u001b[0;34m)\u001b[0m\u001b[0;34m.\u001b[0m\u001b[0m__name__\u001b[0m\u001b[0;34m}\u001b[0m\u001b[0;34m)\u001b[0m\u001b[0;34m\u001b[0m\u001b[0;34m\u001b[0m\u001b[0m\n\u001b[0m\u001b[1;32m    915\u001b[0m \u001b[0;34m\u001b[0m\u001b[0m\n\u001b[1;32m    916\u001b[0m \u001b[0;34m\u001b[0m\u001b[0m\n",
      "\u001b[0;31mNotFittedError\u001b[0m: This GaussianHMM instance is not fitted yet. Call 'fit' with appropriate arguments before using this method."
     ]
    }
   ],
   "source": [
    "startprob = np.array([0.6, 0.3, 0.1])\n",
    "transmat = np.array([[0.7, 0.2, 0.1], [0.3, 0.5, 0.2], [0.3, 0.3, 0.4]])\n",
    "means = np.array([[0.0, 0.0], [3.0, -3.0], [5.0, 10.0]])\n",
    "covars = np.tile(np.identity(2), (3, 1, 1))\n",
    "model = hmm.GaussianHMM(3, \"full\", startprob, transmat)\n",
    "model.means_ = means\n",
    "model.covars_ = covars\n",
    "X, Z = model.sample(100)"
   ]
  },
  {
   "cell_type": "code",
   "execution_count": 24,
   "metadata": {},
   "outputs": [],
   "source": [
    "n_components = 2\n",
    "n_features = 3\n",
    "h = hmm.MultinomialHMM(n_components)\n",
    "h.n_features = n_features\n",
    "h.startprob_ = np.array([0.6, 0.4])\n",
    "h.transmat_ = np.array([[0.7, 0.3], [0.4, 0.6]])\n",
    "h.emissionprob_ = np.array([[0.1, 0.4, 0.5], [0.6, 0.3, 0.1]])"
   ]
  },
  {
   "cell_type": "markdown",
   "metadata": {},
   "source": [
    "# My own implementation of Viterbi algorithm"
   ]
  },
  {
   "cell_type": "code",
   "execution_count": null,
   "metadata": {},
   "outputs": [],
   "source": [
    "n_components = 2\n",
    "n_features = 3\n",
    "\n",
    "start_prob = np.array([0.6, 0.4])\n",
    "transmat = np.array([[0.7, 0.3], [0.4, 0.6]])\n",
    "emission_prob = np.array([[0.1, 0.4, 0.5], [0.6, 0.3, 0.1]])\n"
   ]
  },
  {
   "cell_type": "code",
   "execution_count": 25,
   "metadata": {},
   "outputs": [],
   "source": [
    "X = [[0], [1], [2]]\n",
    "logprob, state_sequence = h.decode(X, algorithm=\"viterbi\")"
   ]
  },
  {
   "cell_type": "code",
   "execution_count": 26,
   "metadata": {},
   "outputs": [
    {
     "data": {
      "text/plain": [
       "-4.309519943887134"
      ]
     },
     "execution_count": 26,
     "metadata": {},
     "output_type": "execute_result"
    }
   ],
   "source": [
    "logprob"
   ]
  },
  {
   "cell_type": "code",
   "execution_count": 27,
   "metadata": {},
   "outputs": [
    {
     "data": {
      "text/plain": [
       "array([1, 0, 0])"
      ]
     },
     "execution_count": 27,
     "metadata": {},
     "output_type": "execute_result"
    }
   ],
   "source": [
    "state_sequence"
   ]
  },
  {
   "cell_type": "code",
   "execution_count": 28,
   "metadata": {},
   "outputs": [],
   "source": [
    "states, outputs = h.sample(100)"
   ]
  },
  {
   "cell_type": "code",
   "execution_count": 330,
   "metadata": {},
   "outputs": [
    {
     "ename": "NameError",
     "evalue": "name 'states' is not defined",
     "output_type": "error",
     "traceback": [
      "\u001b[0;31m-\u001b[0m",
      "\u001b[0;31mNameError\u001b[0mTraceback (most recent call last)",
      "\u001b[0;32m<ipython-input-330-83aa640204fa>\u001b[0m in \u001b[0;36m<module>\u001b[0;34m\u001b[0m\n\u001b[0;32m----> 1\u001b[0;31m \u001b[0mprint\u001b[0m\u001b[0;34m(\u001b[0m\u001b[0mstates\u001b[0m\u001b[0;34m)\u001b[0m\u001b[0;34m\u001b[0m\u001b[0;34m\u001b[0m\u001b[0m\n\u001b[0m",
      "\u001b[0;31mNameError\u001b[0m: name 'states' is not defined"
     ]
    }
   ],
   "source": [
    "print(states)"
   ]
  },
  {
   "cell_type": "code",
   "execution_count": 37,
   "metadata": {},
   "outputs": [
    {
     "data": {
      "text/plain": [
       "60"
      ]
     },
     "execution_count": 37,
     "metadata": {},
     "output_type": "execute_result"
    }
   ],
   "source": [
    "np.random.binomial(100, 0.6)"
   ]
  },
  {
   "cell_type": "markdown",
   "metadata": {},
   "source": [
    "# Phase from trio"
   ]
  },
  {
   "cell_type": "code",
   "execution_count": 1,
   "metadata": {},
   "outputs": [],
   "source": [
    "import random\n",
    "\n",
    "def output_SNP():\n",
    "    alphabet = [\"A\", \"T\", \"G\", \"C\"]\n",
    "    pos = [random.randint(0, len(alphabet) - 1) for i in range(2)]\n",
    "    return [alphabet[i] for i in pos]"
   ]
  },
  {
   "cell_type": "code",
   "execution_count": 2,
   "metadata": {},
   "outputs": [
    {
     "data": {
      "text/plain": [
       "['A', 'C']"
      ]
     },
     "execution_count": 2,
     "metadata": {},
     "output_type": "execute_result"
    }
   ],
   "source": [
    "output_SNP()"
   ]
  },
  {
   "cell_type": "code",
   "execution_count": 3,
   "metadata": {},
   "outputs": [],
   "source": [
    "def create_genome(snp_length):\n",
    "    genome = []\n",
    "    for i in range(snp_length):\n",
    "        genome.append(output_SNP())\n",
    "    return genome"
   ]
  },
  {
   "cell_type": "code",
   "execution_count": 4,
   "metadata": {},
   "outputs": [],
   "source": [
    "def cross_over(length):\n",
    "    start = random.randint(0, 1)\n",
    "    switch_over = random.randint(0, length - 1)\n",
    "    selection = [start]\n",
    "    for i in range(length - 1):\n",
    "        if i < switch_over:\n",
    "            selection.append(start)\n",
    "        else:\n",
    "            selection.append(int(not start))\n",
    "    return selection"
   ]
  },
  {
   "cell_type": "code",
   "execution_count": 6,
   "metadata": {},
   "outputs": [],
   "source": [
    "def apply_cross_over(cross_over, genome):\n",
    "    return [genome[i][j] for i, j in zip(range(len(genome)), cross_over)]"
   ]
  },
  {
   "cell_type": "code",
   "execution_count": 29,
   "metadata": {},
   "outputs": [],
   "source": [
    "def dephase(genome):\n",
    "    dephased_genome = []\n",
    "    for snp in genome:\n",
    "        new_snp = [i for i in snp]\n",
    "        random.shuffle(new_snp)\n",
    "        dephased_genome.append(new_snp)\n",
    "    return dephased_genome"
   ]
  },
  {
   "cell_type": "code",
   "execution_count": 47,
   "metadata": {},
   "outputs": [],
   "source": [
    "length = 6\n",
    "\n",
    "genome1 = create_genome(length)\n",
    "genome2 = create_genome(length)\n",
    "offspring = reproduce(genome1, genome2)\n",
    "\n",
    "dephased_genome1 = dephase(genome1)\n",
    "dephased_genome2 = dephase(genome2)\n",
    "dephased_offspring = dephase(offspring)"
   ]
  },
  {
   "cell_type": "code",
   "execution_count": 76,
   "metadata": {},
   "outputs": [],
   "source": [
    "import vcf"
   ]
  },
  {
   "cell_type": "code",
   "execution_count": 77,
   "metadata": {},
   "outputs": [
    {
     "name": "stdout",
     "output_type": "stream",
     "text": [
      "Help on package vcf:\n",
      "\n",
      "NAME\n",
      "    vcf - A VCFv4.0 and 4.1 parser for Python.\n",
      "\n",
      "DESCRIPTION\n",
      "    Online version of PyVCF documentation is available at http://pyvcf.rtfd.org/\n",
      "\n",
      "PACKAGE CONTENTS\n",
      "    filters\n",
      "    model\n",
      "    parser\n",
      "    sample_filter\n",
      "    test (package)\n",
      "    utils\n",
      "\n",
      "DATA\n",
      "    RESERVED_FORMAT = {'AHAP': 'Integer', 'CN': 'Integer', 'CNL': 'Float',...\n",
      "    RESERVED_INFO = {'1000G': 'Flag', 'AA': 'String', 'AC': 'Integer', 'AF...\n",
      "    VERSION = '0.6.8'\n",
      "\n",
      "FILE\n",
      "    /home/picrin/programming/haplo_phasing/venv/lib/python3.6/site-packages/vcf/__init__.py\n",
      "\n",
      "\n"
     ]
    }
   ],
   "source": [
    "help(vcf)"
   ]
  },
  {
   "cell_type": "code",
   "execution_count": 50,
   "metadata": {},
   "outputs": [
    {
     "name": "stdout",
     "output_type": "stream",
     "text": [
      "[['C', 'C'], ['G', 'A'], ['G', 'G'], ['G', 'C'], ['C', 'T'], ['T', 'A']]\n",
      "[['A', 'A'], ['T', 'A'], ['G', 'C'], ['C', 'T'], ['T', 'T'], ['G', 'A']]\n",
      "[('C', 'A'), ('A', 'T'), ('G', 'G'), ('G', 'C'), ('C', 'T'), ('T', 'G')]\n"
     ]
    }
   ],
   "source": [
    "print(genome1)\n",
    "print(genome2)\n",
    "print(offspring)"
   ]
  },
  {
   "cell_type": "code",
   "execution_count": 423,
   "metadata": {},
   "outputs": [],
   "source": [
    "def phase_offspring(genome1, genome2, offspring):\n",
    "    possibilities = []\n",
    "    phased_offspring = []\n",
    "    for snp_o, snp_g1, snp_g2 in zip(offspring, genome1, genome2):\n",
    "        snp_o = [i for i in snp_o]\n",
    "        possibility = [[], []]\n",
    "        for k in range(0, 2):\n",
    "            if snp_o[k] in snp_g1:\n",
    "                possibility[k].append(0)\n",
    "            if snp_o[k] in snp_g2:\n",
    "                possibility[k].append(1)\n",
    "        possibilities.append(possibility)\n",
    "        if possibility[0] == [0] or possibility[1] == [1]:\n",
    "            phased_offspring.append(snp_o + [\"|\"])\n",
    "        elif possibility[1] == [0] or possibility[0] == [1]:\n",
    "            phased_offspring.append(snp_o[::-1] + [\"-|\"])\n",
    "        else:\n",
    "            phased_offspring.append(snp_o + [\"?\"])\n",
    "    return phased_offspring"
   ]
  },
  {
   "cell_type": "code",
   "execution_count": 380,
   "metadata": {},
   "outputs": [
    {
     "name": "stdout",
     "output_type": "stream",
     "text": [
      "[['C', 'C'], ['G', 'A'], ['G', 'G'], ['G', 'C'], ['C', 'T'], ['T', 'A']]\n",
      "[['A', 'A'], ['T', 'A'], ['G', 'C'], ['C', 'T'], ['T', 'T'], ['G', 'A']]\n",
      "[('C', 'A'), ('A', 'T'), ('G', 'G'), ('G', 'C'), ('C', 'T'), ('T', 'G')]\n"
     ]
    }
   ],
   "source": [
    "print(genome1  )\n",
    "print(genome2  )\n",
    "print(offspring)"
   ]
  },
  {
   "cell_type": "code",
   "execution_count": 381,
   "metadata": {},
   "outputs": [
    {
     "data": {
      "text/plain": [
       "[['C', 'A', '-|'],\n",
       " ['A', 'T', '|'],\n",
       " ['G', 'G', '?'],\n",
       " ['G', 'C', '-|'],\n",
       " ['C', 'T', '-|'],\n",
       " ['T', 'G', '|']]"
      ]
     },
     "execution_count": 381,
     "metadata": {},
     "output_type": "execute_result"
    }
   ],
   "source": [
    "phase_offspring(dephased_genome1, dephased_genome2, dephased_offspring)"
   ]
  },
  {
   "cell_type": "markdown",
   "metadata": {},
   "source": [
    "# Load data from the Jewish trio"
   ]
  },
  {
   "cell_type": "code",
   "execution_count": 405,
   "metadata": {},
   "outputs": [],
   "source": [
    "def load_vcf(filename, limit=-1, chrom_limit=\"\"):\n",
    "    genotype = {}\n",
    "    for i, record in enumerate(vcf.Reader(filename=filename)):\n",
    "        if record.CHROM == chrom_limit:\n",
    "            break\n",
    "        if i == limit:\n",
    "            break\n",
    "        snp = record.samples[0].gt_bases\n",
    "        if record.samples[0].phased:\n",
    "            a, b = snp.split(\"|\")\n",
    "        else:\n",
    "            a, b = snp.split(\"/\")\n",
    "        genotype[(record.CHROM, record.POS)] = a, b\n",
    "    return genotype"
   ]
  },
  {
   "cell_type": "code",
   "execution_count": 406,
   "metadata": {},
   "outputs": [],
   "source": [
    "son = load_vcf(\"son_jewish.vcf\", chrom_limit=\"chr2\")"
   ]
  },
  {
   "cell_type": "code",
   "execution_count": 407,
   "metadata": {},
   "outputs": [],
   "source": [
    "mother = load_vcf(\"mother_jewish.vcf\", chrom_limit=\"chr2\")"
   ]
  },
  {
   "cell_type": "code",
   "execution_count": 408,
   "metadata": {},
   "outputs": [],
   "source": [
    "father = load_vcf(\"father_jewish.vcf\", chrom_limit=\"chr2\")"
   ]
  },
  {
   "cell_type": "code",
   "execution_count": 409,
   "metadata": {},
   "outputs": [],
   "source": [
    "son_genome = []\n",
    "father_genome = []\n",
    "mother_genome = []\n",
    "shared_SNPs = sorted(list(set(son).intersection(set(mother)).intersection(set(father))))\n",
    "for chr_coord in shared_SNPs:\n",
    "    son_genome.append(son[chr_coord])\n",
    "    father_genome.append(father[chr_coord])\n",
    "    mother_genome.append(mother[chr_coord])"
   ]
  },
  {
   "cell_type": "code",
   "execution_count": 410,
   "metadata": {},
   "outputs": [
    {
     "data": {
      "text/plain": [
       "Counter({'chr1': 170171})"
      ]
     },
     "execution_count": 410,
     "metadata": {},
     "output_type": "execute_result"
    }
   ],
   "source": [
    "collections.Counter([i[0] for i in shared_SNPs])"
   ]
  },
  {
   "cell_type": "code",
   "execution_count": 411,
   "metadata": {},
   "outputs": [],
   "source": [
    "r = [i[1] for i in shared_SNPs if i[0] == \"chr1\"]"
   ]
  },
  {
   "cell_type": "code",
   "execution_count": 412,
   "metadata": {},
   "outputs": [],
   "source": [
    "length = r[-1] - r[0]"
   ]
  },
  {
   "cell_type": "code",
   "execution_count": 413,
   "metadata": {},
   "outputs": [
    {
     "data": {
      "text/plain": [
       "248097755"
      ]
     },
     "execution_count": 413,
     "metadata": {},
     "output_type": "execute_result"
    }
   ],
   "source": [
    "length"
   ]
  },
  {
   "cell_type": "code",
   "execution_count": 415,
   "metadata": {},
   "outputs": [
    {
     "data": {
      "text/plain": [
       "1457.932050701941"
      ]
     },
     "execution_count": 415,
     "metadata": {},
     "output_type": "execute_result"
    }
   ],
   "source": [
    "length/len(r)"
   ]
  },
  {
   "cell_type": "code",
   "execution_count": null,
   "metadata": {},
   "outputs": [],
   "source": []
  },
  {
   "cell_type": "code",
   "execution_count": 422,
   "metadata": {},
   "outputs": [
    {
     "name": "stdout",
     "output_type": "stream",
     "text": [
      "['TACACACAC', 'T']\n",
      "['TTG', 'TTGTG']\n",
      "['A', 'AAC']\n",
      "['C', 'CTT']\n",
      "['C', 'CA']\n",
      "['C', 'CTAAA']\n",
      "['C', 'CT']\n",
      "['T', 'TAC']\n",
      "['CTTTA', 'C']\n",
      "['G', 'GA']\n",
      "['CTTATTTAT', 'C']\n",
      "['GAGAG', 'C']\n",
      "['TATAATA', 'T']\n",
      "['A', 'AAATAATAAT']\n",
      "['CAAAT', 'C']\n",
      "['CTGTG', 'CTG']\n",
      "['CA', 'C']\n",
      "['A', 'AT']\n",
      "['GTATTA', 'G']\n",
      "['TTA', 'T']\n",
      "['T', 'TACAC']\n",
      "['T', 'TTGTGTGTGTG']\n",
      "['C', 'CA']\n",
      "['CTT', 'C']\n",
      "['C', 'CGGGG']\n",
      "['T', 'TGCC']\n",
      "['A', 'AAAAATAAAATAAAATAAAAT']\n",
      "['C', 'CA']\n",
      "['CA', 'C']\n",
      "['T', 'TACAC']\n",
      "['A', 'AT']\n",
      "['CCTTCCTTTCTTT', 'C']\n",
      "['CTTTTTT', 'C']\n",
      "['CT', 'C']\n",
      "['T', 'TCAA']\n",
      "['C', 'CTT']\n",
      "['C', 'CAGAT']\n",
      "['ATT', 'A']\n",
      "['GACAA', 'G']\n",
      "['ATGTG', 'A']\n",
      "['T', 'TACAC']\n",
      "['TCACACA', 'T']\n",
      "['AAGAG', 'A']\n",
      "['AT', 'A']\n",
      "['A', 'AT']\n",
      "['AT', 'A']\n",
      "['GTTTT', 'G']\n",
      "['T', 'TATAG']\n",
      "['CCCTT', 'CCCTTCCTT']\n",
      "['GACACAC', 'G']\n",
      "['A', 'ATG']\n",
      "['ATATCTATC', 'ATATC']\n",
      "['GGTGTGT', 'G']\n",
      "['CT', 'C']\n",
      "['C', 'CTGTTGT']\n",
      "['TGATAGATA', 'T']\n",
      "['GTTA', 'G']\n",
      "['A', 'AAT']\n",
      "['AT', 'A']\n",
      "['A', 'AT']\n",
      "['A', 'ATG']\n",
      "['C', 'CA']\n",
      "['C', 'CA']\n",
      "['C', 'CA']\n",
      "['G', 'GACAC']\n",
      "['AT', 'A']\n",
      "['CA', 'C']\n",
      "['G', 'GT']\n",
      "['ATTATTTATTTAT', 'A']\n",
      "['GTTATT', 'G']\n",
      "['A', 'AT']\n",
      "['ATGTG', 'A']\n",
      "['T', 'TACAC']\n",
      "['C', 'CTG']\n",
      "['CTT', 'C']\n",
      "['CTTTT', 'C']\n",
      "['A', 'AAAAT']\n",
      "['A', 'AAAAATAAAATAAAATAAAAT']\n",
      "['AT', 'A']\n",
      "['C', 'CTT']\n",
      "['GA', 'G']\n",
      "['CTATGTATG', 'C']\n",
      "['AAAATAAAT', 'A']\n",
      "['TAC', 'T']\n",
      "['G', 'GAA']\n",
      "['A', 'AAC']\n",
      "['GT', 'G']\n",
      "['T', 'TACACAC']\n",
      "['C', 'CA']\n",
      "['T', 'TATAG']\n",
      "['CA', 'C']\n",
      "['TACAC', 'TAC']\n",
      "['C', 'CTT']\n",
      "['A', 'AAAGGAAGGAAGG']\n",
      "['T', 'TAAACAAACAAAC']\n",
      "['CA', 'C']\n",
      "['TACAC', 'T']\n",
      "['TATATATACAC', 'TATATATATATATATATATATATACAC']\n",
      "['ATGTGTGTG', 'A']\n",
      "['T', 'TACACACAC']\n",
      "['A', 'AT']\n",
      "['CA', 'C']\n",
      "['T', 'TTATC']\n",
      "['G', 'GAAA']\n",
      "['AT', 'A']\n",
      "['T', 'TTCTA']\n",
      "['CTTTTT', 'C']\n",
      "['GT', 'G']\n",
      "['C', 'CA']\n",
      "['A', 'AACACACACAC']\n",
      "['GATT', 'G']\n",
      "['A', 'AAC']\n",
      "['CTT', 'C']\n",
      "['T', 'TCACACA']\n",
      "['A', 'AT']\n",
      "['TTA', 'T']\n",
      "['A', 'AAGAT']\n",
      "['C', 'CTT']\n",
      "['CA', 'C']\n",
      "['G', 'GCACACA']\n",
      "['A', 'AT']\n",
      "['A', 'ATTT']\n",
      "['CATTGT', 'C']\n",
      "['AACAC', 'A']\n",
      "['T', 'TA']\n",
      "['ATT', 'A']\n",
      "['A', 'ATTT']\n",
      "['TACACAC', 'T']\n",
      "['T', 'TCACACA']\n",
      "['T', 'TTC']\n",
      "['A', 'ATT']\n",
      "['TGATA', 'T']\n",
      "['T', 'TTTATTA']\n",
      "['T', 'TAA']\n",
      "['AATAT', 'A']\n",
      "['T', 'TTTTATTTATTTA']\n",
      "['C', 'CAG']\n",
      "['T', 'TACACACAC']\n",
      "['G', 'GCA']\n",
      "['CA', 'C']\n",
      "['GTT', 'G']\n",
      "['C', 'CT']\n",
      "['TAC', 'T']\n",
      "['AAAAT', 'A']\n",
      "['AAC', 'A']\n",
      "['TTA', 'T']\n",
      "['CGT', 'C']\n",
      "['CAA', 'C']\n",
      "['T', 'TACACACAC']\n",
      "['GT', 'G']\n",
      "['TCCGGCCGGCCGGCCGGCCGG', 'T']\n",
      "['GT', 'GTT']\n",
      "['AAC', 'A']\n",
      "['AAC', 'A']\n",
      "['TCTG', 'T']\n",
      "['CA', 'C']\n",
      "['TTTTA', 'T']\n",
      "['GTT', 'G']\n",
      "['T', 'TTGTGTG']\n",
      "['GT', 'G']\n",
      "['C', 'CGTGTGT']\n",
      "['A', 'AACACACACACACACACACACAC']\n",
      "['A', 'ATG']\n",
      "['GT', 'G']\n",
      "['T', 'TTGTGTGTG']\n",
      "['T', 'TTA']\n",
      "['CTTTTTTT', 'C']\n",
      "['TAA', 'T']\n",
      "['CTT', 'C']\n",
      "['G', 'GA']\n",
      "['TGC', 'T']\n",
      "['G', 'GAAATAAAATAAAATA']\n",
      "['G', 'GT']\n",
      "['C', 'CAA']\n",
      "['CT', 'C']\n",
      "['A', 'AT']\n",
      "['C', 'CTG']\n",
      "['A', 'AT']\n",
      "['TAAA', 'T']\n",
      "['ATT', 'A']\n",
      "['CA', 'C']\n",
      "['TACACACAC', 'T']\n",
      "['G', 'GA']\n",
      "['A', 'GGAGGCG']\n",
      "['TTTTGTTTG', 'T']\n",
      "['AT', 'A']\n",
      "['T', 'TAC']\n",
      "['A', 'AAATAATAATAATAAT']\n",
      "['GTGTTTGTTTGTT', 'G']\n",
      "['G', 'GT']\n",
      "['A', 'ATGTGTGTGTG']\n",
      "['TTA', 'T']\n",
      "['TA', 'T']\n",
      "['T', 'TTAGA']\n",
      "['A', 'ATGTGTGTGTG']\n",
      "['A', 'AAC']\n",
      "['G', 'GTCTGTCTATCTATCTA']\n",
      "['GTGTATATATA', 'G']\n",
      "['CCA', 'C']\n",
      "['T', 'TTATA']\n",
      "['C', 'CAAAAAAAA']\n",
      "['TACAC', 'T']\n",
      "['AT', 'A']\n",
      "['A', 'AACACACAC']\n",
      "['CATATAT', 'C']\n",
      "['TAC', 'T']\n",
      "['GTATATA', 'G']\n",
      "['CAAA', 'C']\n",
      "['GCACACACA', 'G']\n",
      "['CATCTATCTATCTATCT', 'C']\n",
      "['T', 'TCA']\n",
      "['GT', 'GTT']\n",
      "['GAA', 'G']\n",
      "['TAC', 'T']\n",
      "['G', 'GTT']\n",
      "['GTATATATATA', 'G']\n",
      "['A', 'AT']\n",
      "['CTTTTA', 'C']\n",
      "['GA', 'G']\n",
      "['CATT', 'C']\n",
      "['C', 'CTTATTTTATT']\n",
      "['T', 'TAC']\n",
      "['A', 'AAAAAC']\n",
      "['C', 'CT']\n",
      "['TAAATAAAATA', 'T']\n",
      "['T', 'TACAC']\n",
      "['G', 'GAAA']\n",
      "['A', 'ATG']\n",
      "['A', 'ATGTGTG']\n",
      "['G', 'GTATTTTATTTTATTT']\n",
      "['C', 'CATTTATTTATTT']\n",
      "['T', 'TA']\n",
      "['T', 'TAC']\n",
      "['T', 'TTG']\n",
      "['CTG', 'C']\n",
      "['C', 'CTTTTTTTT']\n",
      "['AAAAAC', 'A']\n",
      "['T', 'TAC']\n",
      "['TCACACACACACACA', 'T']\n",
      "['TAA', 'A']\n",
      "['C', 'CA']\n",
      "['TTGTG', 'T']\n",
      "['CT', 'C']\n",
      "['ATATCTATC', 'A']\n",
      "['T', 'TCAAAACAAAACAAAA']\n",
      "['T', 'TTCTA']\n",
      "['TACACACACAC', 'T']\n",
      "['A', 'ATT']\n",
      "['G', 'GTTTTGTTTTTGTTTTTGT']\n",
      "['C', 'CAA']\n",
      "['C', 'CTTT']\n",
      "['T', 'TACACAC']\n",
      "['CTAATAATAATAATAATAATAA', 'C']\n",
      "['T', 'TA']\n",
      "['CAATAAATAAATA', 'C']\n",
      "['C', 'CAA']\n",
      "['G', 'GACACACAC']\n",
      "['ATT', 'AT']\n",
      "['CA', 'C']\n",
      "['CA', 'C']\n",
      "['GCC', 'G']\n",
      "['A', 'AAAACAAAC']\n",
      "['CGG', 'C']\n",
      "['A', 'ATG']\n",
      "['C', 'CT']\n",
      "['TAA', 'TA']\n",
      "['A', 'AACAC']\n",
      "['C', 'CA']\n",
      "['A', 'ATCTC']\n",
      "['CAAA', 'C']\n",
      "['C', 'CT']\n",
      "['T', 'TAAA']\n",
      "['GA', 'G']\n",
      "['CA', 'C']\n",
      "['GT', 'G']\n",
      "['A', 'AAC']\n",
      "['GGT', 'G']\n",
      "['C', 'CAA']\n",
      "['C', 'CA']\n",
      "['G', 'GCACACACACA']\n",
      "['C', 'CTT']\n",
      "['C', 'CA']\n",
      "['TAC', 'T']\n",
      "['CT', 'C']\n",
      "['TCACACACACACA', 'T']\n",
      "['A', 'AAATAATAATAAT']\n",
      "['CAGAG', 'C']\n",
      "['T', 'TACAC']\n",
      "['GTATTATTATTAT', 'G']\n",
      "['GGA', 'G']\n",
      "['ATTCT', 'A']\n",
      "['GT', 'G']\n",
      "['G', 'GTCTCTCTCTCTC']\n",
      "['CA', 'C']\n",
      "['A', 'AAAAT']\n",
      "['C', 'CA']\n",
      "['A', 'AAAATAAAT']\n",
      "['C', 'CAA']\n",
      "['CA', 'C']\n",
      "['C', 'CGTGT']\n",
      "['G', 'GA']\n",
      "['TAC', 'T']\n",
      "['GGTGT', 'G']\n",
      "['CTGTG', 'C']\n",
      "['A', 'ATCTCTCTC']\n",
      "['T', 'TAC']\n",
      "['CTAT', 'C']\n",
      "['TGGAA', 'TGGAAGGAA']\n",
      "['AAC', 'A']\n",
      "['ATGTG', 'A']\n",
      "['AACAC', 'A']\n",
      "['A', 'ATG']\n",
      "['GAA', 'G']\n",
      "['T', 'TA']\n",
      "['C', 'CA']\n",
      "['CT', 'C']\n",
      "['T', 'TTATC']\n",
      "['TAA', 'T']\n",
      "['G', 'GT']\n",
      "['A', 'AACAC']\n",
      "['AGTGT', 'A']\n",
      "['TTATC', 'T']\n",
      "['T', 'TACAC']\n",
      "['AATAT', 'A']\n",
      "['G', 'GTGTATATATATATA']\n",
      "['A', 'AGTGT']\n",
      "['C', 'CTAGATAGA']\n",
      "['T', 'TCACACA']\n",
      "['A', 'AT']\n",
      "['T', 'TTTTA']\n",
      "['GTTTA', 'G']\n",
      "['AACACACAC', 'A']\n",
      "['T', 'TA']\n",
      "['A', 'AACAC']\n",
      "['ATG', 'A']\n",
      "['CA', 'C']\n",
      "['AT', 'A']\n",
      "['TTTTA', 'T']\n",
      "['TACAC', 'T']\n",
      "['G', 'GGTGT']\n",
      "['CT', 'C']\n",
      "['G', 'GTGTT']\n",
      "['C', 'CTTAT']\n",
      "['GTATTTTATTT', 'G']\n",
      "['G', 'GATT']\n",
      "['T', 'TCATCCATCCATCCATCCATC']\n",
      "['A', 'AT']\n",
      "['CTTAT', 'C']\n",
      "['CT', 'C']\n",
      "['A', 'AATCT']\n",
      "['A', 'AAGAGAGAGAG']\n",
      "['CTG', 'C']\n",
      "['ATGGAT', 'A']\n",
      "['ATT', 'A']\n",
      "['CTTT', 'C']\n",
      "['G', 'GCACACA']\n",
      "['C', 'CA']\n",
      "['GA', 'G']\n",
      "['CTGTG', 'C']\n",
      "['G', 'GGT']\n",
      "['TTTCCTTCCTTCC', 'T']\n",
      "['CTT', 'C']\n",
      "['TA', 'T']\n",
      "['TAC', 'T']\n",
      "['T', 'TGATA']\n",
      "['C', 'CCACACACACACACACACACA']\n",
      "['T', 'TTTGTTG']\n",
      "['C', 'CAAA']\n",
      "['T', 'TTTTG']\n",
      "['GGTGTGTGTGTGT', 'GGTGTGTGTGTGTGT']\n",
      "['TA', 'A']\n",
      "['CTTT', 'C']\n",
      "['A', 'AT']\n",
      "['C', 'CAA']\n",
      "['A', 'ATGTGTGTGTG']\n",
      "['TTTTA', 'T']\n",
      "['G', 'GA']\n",
      "['G', 'GGT']\n",
      "['A', 'AT']\n",
      "['CA', 'C']\n",
      "['C', 'CAAAT']\n",
      "['CT', 'C']\n",
      "['C', 'CTT']\n",
      "['C', 'CT']\n",
      "['C', 'CT']\n",
      "['CTTT', 'C']\n",
      "['ATGTGTGTGTGTG', 'A']\n",
      "['CA', 'C']\n",
      "['CA', 'C']\n",
      "['ATT', 'A']\n",
      "['GT', 'G']\n",
      "['TTA', 'T']\n",
      "['AGTGTGTGT', 'A']\n",
      "['A', 'AGT']\n",
      "['C', 'CA']\n",
      "['ATT', 'A']\n",
      "['TTG', 'T']\n",
      "['GCACA', 'G']\n",
      "['GT', 'G']\n",
      "['CT', 'C']\n",
      "['AAAAT', 'A']\n",
      "['CT', 'C']\n",
      "['C', 'CA']\n",
      "['TCA', 'T']\n",
      "['TAC', 'T']\n",
      "['A', 'GTA']\n",
      "['A', 'AACACAC']\n",
      "['C', 'CA']\n",
      "['CAGATAGAT', 'C']\n",
      "['A', 'AC']\n",
      "['CT', 'C']\n",
      "['TAA', 'TA']\n",
      "['C', 'CA']\n",
      "['A', 'AAAGGAAGG']\n",
      "['GTC', 'G']\n",
      "['C', 'CT']\n",
      "['GGT', 'G']\n",
      "['AAAAAGAAAAGAAAAG', 'AAAAAG']\n",
      "['CTT', 'C']\n",
      "['C', 'CAAAA']\n",
      "['T', 'TAC']\n",
      "['TA', 'T']\n",
      "['AAGAT', 'AAGATAGAT']\n",
      "['ATTTTGTTTTG', 'A']\n",
      "['CAA', 'C']\n",
      "['GA', 'G']\n"
     ]
    }
   ],
   "source": [
    "phased_genome = phase_offspring(father_genome, mother_genome, son_genome)"
   ]
  },
  {
   "cell_type": "code",
   "execution_count": 420,
   "metadata": {
    "scrolled": false
   },
   "outputs": [
    {
     "data": {
      "text/plain": [
       "Counter({'?': 135010, '|': 34735, '-|': 426})"
      ]
     },
     "execution_count": 420,
     "metadata": {},
     "output_type": "execute_result"
    }
   ],
   "source": [
    "collections.Counter([i[-1] for i in phased_genome])"
   ]
  },
  {
   "cell_type": "code",
   "execution_count": 418,
   "metadata": {},
   "outputs": [
    {
     "data": {
      "text/plain": [
       "7142.586872031093"
      ]
     },
     "execution_count": 418,
     "metadata": {},
     "output_type": "execute_result"
    }
   ],
   "source": [
    "length/collections.Counter([i[-1] for i in phased_genome])[\"|\"]"
   ]
  }
 ],
 "metadata": {
  "kernelspec": {
   "display_name": "Python 3",
   "language": "python",
   "name": "python3"
  },
  "language_info": {
   "codemirror_mode": {
    "name": "ipython",
    "version": 3
   },
   "file_extension": ".py",
   "mimetype": "text/x-python",
   "name": "python",
   "nbconvert_exporter": "python",
   "pygments_lexer": "ipython3",
   "version": "3.6.8"
  }
 },
 "nbformat": 4,
 "nbformat_minor": 2
}
